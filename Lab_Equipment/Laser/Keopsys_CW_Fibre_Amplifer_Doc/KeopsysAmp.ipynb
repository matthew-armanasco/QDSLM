{
 "cells": [
  {
   "cell_type": "markdown",
   "metadata": {},
   "source": [
    "# Keopsys Amp Control\n",
    "### Cell 1: Connect to instruments (focus box and ctrl+enter)"
   ]
  },
  {
   "cell_type": "code",
   "execution_count": 1,
   "metadata": {
    "scrolled": true
   },
   "outputs": [
    {
     "name": "stdout",
     "output_type": "stream",
     "text": [
      "Pump is On\n",
      "Power In  = 0.418 mW\n",
      "Power Out = 124.165 mW\n"
     ]
    }
   ],
   "source": [
    "import visa\n",
    "import time\n",
    "import re\n",
    "#from datetime import datetime as dt\n",
    "#import numpy as np\n",
    "rm = visa.ResourceManager()\n",
    "#print(rm.list_resources())\n",
    "#pm = rm.open_resource('USB0::0x1313::0x8078::P0019080::INSTR')\n",
    "amp = rm.open_resource('ASRL4::INSTR',baud_rate = 19200,read_termination = '\\r',write_termination = '\\r')\n",
    "#laser = rm.open_resource('GPIB0::5::INSTR') #Tunics set to GPIB channel 5\n",
    "#pmInfo = pm.query('*IDN?')\n",
    "#pmHeadInfo = pm.query('SYST:SENS:IDN?')\n",
    "#laserInfo = laser.query('*IDN?')\n",
    "ampThreshold = re.search('[\\-,0-9]+', amp.query('ASI?'))\n",
    "ampThreshold = float(ampThreshold[0])\n",
    "ampMode = re.search('[\\-,0-9]+', amp.query('ASS?'))\n",
    "ampMode = int(ampMode[0])\n",
    "ampInput = re.search('[\\-,0-9]+', amp.query('PUE?'))\n",
    "ampInput = float(ampInput[0])/100\n",
    "ampOutput = re.search('[\\-,0-9]+', amp.query('PUS?'))\n",
    "ampOutput = float(ampOutput[0])/100\n",
    "if ampMode == 0:\n",
    "    ampState = 'Off'\n",
    "else:\n",
    "    ampState = 'On'\n",
    "print('Pump is %s'%ampState)\n",
    "print('Power In  = %.3f mW'%10**(ampInput/10))\n",
    "print('Power Out = %.3f mW'%10**(ampOutput/10))\n",
    "\n",
    "SAFETY = 4000"
   ]
  },
  {
   "cell_type": "markdown",
   "metadata": {},
   "source": [
    "### Cell 2: Toggle On/Off (focus box and ctrl+enter)"
   ]
  },
  {
   "cell_type": "code",
   "execution_count": 8,
   "metadata": {},
   "outputs": [
    {
     "name": "stdout",
     "output_type": "stream",
     "text": [
      "Warming up...\n",
      "Pump On.\n",
      "Power Out = 74.131 mW\n"
     ]
    }
   ],
   "source": [
    "ampMode = re.search('[\\-,0-9]+', amp.query('ASS?'))\n",
    "ampMode = int(ampMode[0])\n",
    "ampInput = re.search('[\\-,0-9]+', amp.query('PUE?'))\n",
    "ampInput = float(ampInput[0])/100\n",
    "ampOutput = re.search('[\\-,0-9]+', amp.query('PUS?'))\n",
    "ampOutput = float(ampOutput[0])/100\n",
    "\n",
    "if ampMode != 0:\n",
    "    amp.query('ASS=0')\n",
    "    print('Turning Off...')\n",
    "    time.sleep(2)\n",
    "    print('Pump Off.')\n",
    "elif ampMode == 0:\n",
    "    if ampInput < ampThreshold:\n",
    "        print('Seed power too low. Pump is off.')\n",
    "    else:\n",
    "        amp.query('ASS=1')\n",
    "        print('Warming up...')\n",
    "        time.sleep(10)\n",
    "        print('Pump On.')\n",
    "        \n",
    "ampMode = re.search('[\\-,0-9]+', amp.query('ASS?'))\n",
    "ampMode = int(ampMode[0])\n",
    "ampOutput = re.search('[\\-,0-9]+', amp.query('PUS?'))\n",
    "ampOutput = float(ampOutput[0])/100\n",
    "print('Power Out = %.3f mW'%10**(ampOutput/10))"
   ]
  },
  {
   "cell_type": "markdown",
   "metadata": {},
   "source": [
    "### Cell 3: Change Current (focus box and ctrl+enter)"
   ]
  },
  {
   "cell_type": "code",
   "execution_count": 2,
   "metadata": {},
   "outputs": [
    {
     "name": "stdout",
     "output_type": "stream",
     "text": [
      "Old current = 1200 mA\n",
      "New current = 1500 mA\n",
      "Power Out = 195.884 mW\n",
      "Done.\n"
     ]
    }
   ],
   "source": [
    "CURRENT = 1500# mA. ~~~ Max is UNKNOWN. Increase SLOWLY.\n",
    "\n",
    "if CURRENT > SAFETY:\n",
    "    print('Too high. Choose a lower current.')\n",
    "ampCurrent = re.search('(IC2=)([\\-,0-9]+)', amp.query('IC2?'))\n",
    "ampCurrent = int(ampCurrent.group(2))\n",
    "print('Old current = %i mA'%ampCurrent)\n",
    "amp.query('IC2=%i'%CURRENT)\n",
    "ampCurrent = re.search('(IC2=)([\\-,0-9]+)', amp.query('IC2?'))\n",
    "ampCurrent = int(ampCurrent.group(2))\n",
    "print('New current = %i mA'%ampCurrent)\n",
    "if ampMode != 0:\n",
    "    time.sleep(2)\n",
    "    ampOutput = re.search('[\\-,0-9]+', amp.query('PUS?'))\n",
    "    ampOutput = float(ampOutput[0])/100\n",
    "    print('Power Out = %.3f mW'%10**(ampOutput/10))\n",
    "    print('Done.')\n",
    "else:\n",
    "    print('Done.')"
   ]
  },
  {
   "cell_type": "markdown",
   "metadata": {},
   "source": [
    "### Free Resources And Disconnect"
   ]
  },
  {
   "cell_type": "code",
   "execution_count": 3,
   "metadata": {},
   "outputs": [],
   "source": [
    "#laser.close()\n",
    "amp.close()\n",
    "#pm.close()"
   ]
  },
  {
   "cell_type": "code",
   "execution_count": 3,
   "metadata": {},
   "outputs": [
    {
     "name": "stdout",
     "output_type": "stream",
     "text": [
      "('ASRL3::INSTR', 'ASRL4::INSTR')\n"
     ]
    }
   ],
   "source": []
  }
 ],
 "metadata": {
  "kernelspec": {
   "display_name": "Python 3",
   "language": "python",
   "name": "python3"
  },
  "language_info": {
   "codemirror_mode": {
    "name": "ipython",
    "version": 3
   },
   "file_extension": ".py",
   "mimetype": "text/x-python",
   "name": "python",
   "nbconvert_exporter": "python",
   "pygments_lexer": "ipython3",
   "version": "3.7.1"
  }
 },
 "nbformat": 4,
 "nbformat_minor": 4
}
