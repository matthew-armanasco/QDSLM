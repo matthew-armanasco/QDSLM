{
 "cells": [
  {
   "cell_type": "code",
   "execution_count": 4,
   "metadata": {},
   "outputs": [
    {
     "name": "stdout",
     "output_type": "stream",
     "text": [
      "('ASRL3::INSTR', 'GPIB0::8::INSTR')\n",
      "ANRITSU,MS9710C,0,V3.12&V3.9\r\n",
      "\n"
     ]
    }
   ],
   "source": [
    "import visa\n",
    "import time\n",
    "from datetime import datetime as dt\n",
    "import numpy as np\n",
    "import pandas as pd\n",
    "import matplotlib.pyplot as plt\n",
    "from random import randint\n",
    "import re\n",
    "\n",
    "rm=visa.ResourceManager()\n",
    "print(rm.list_resources())\n",
    "#Just shows up as a generic GPIB instrument, mine was on port 8\n",
    "OSA=rm.open_resource('GPIB::8::INSTR')\n",
    "print(OSA.query('*IDN?'))\n",
    "#should return something specific along the lines of Anritsue 9710"
   ]
  },
  {
   "cell_type": "code",
   "execution_count": 12,
   "metadata": {},
   "outputs": [
    {
     "name": "stdout",
     "output_type": "stream",
     "text": [
      "('ASRL3::INSTR', 'GPIB0::8::INSTR')\n",
      "ANRITSU,MS9710C,0,V3.12&V3.9\r\n",
      "\n"
     ]
    }
   ],
   "source": [
    "import visa\n",
    "import time\n",
    "from datetime import datetime as dt\n",
    "import numpy as np\n",
    "import pandas as pd\n",
    "import matplotlib.pyplot as plt\n",
    "from random import randint\n",
    "import re\n",
    "\n",
    "rm=visa.ResourceManager()\n",
    "print(rm.list_resources())\n",
    "#Just shows up as a generic GPIB instrument, mine was on port 8\n",
    "OSA=rm.open_resource('GPIB::8::INSTR')\n",
    "print(OSA.query('*IDN?'))\n",
    "#should return something specific along the lines of Anritsue 9710\n",
    "\n",
    "ID = 'WDM_100G_CH26_1500mA_780_2'\n",
    "filename = ID +'.csv'\n",
    "\n",
    "now = dt.now()\n",
    "timestamp = now.strftime(\"%Y/%m/%d,%H:%M:%S\")\n",
    "\n",
    "OSA.write('SRT') #repeat trigger\n",
    "##reads from memory A into a shitty string\n",
    "#WDM_200G_CH26=OSA.query('DMA?') # for dB scale, for memory B use DMB\n",
    "\n",
    "startWL = OSA.query('STA?')\n",
    "stopWL = OSA.query('STO?')\n",
    "spanWL = OSA.query('SPN?')\n",
    "centerWL = OSA.query('CNT?')\n",
    "res = OSA.query('RES?')\n",
    "vbw = OSA.query('VBW?')\n",
    "nPoints = OSA.query('MPT?')\n",
    "\n",
    "outfile = open(filename,\"w\")\n",
    "outfile.write('Time Started, %s\\n' % timestamp)\n",
    "outfile.write('Start Wavelength\\n')\n",
    "outfile.write(startWL)\n",
    "outfile.write('Stop Wavelength\\n')\n",
    "outfile.write(stopWL)\n",
    "outfile.write('Span\\n')\n",
    "outfile.write(spanWL)\n",
    "outfile.write('Number of Points\\n')\n",
    "outfile.write(nPoints)\n",
    "outfile.write('Resolution\\n')\n",
    "outfile.write(res)\n",
    "outfile.write('Video Bandwidth\\n')\n",
    "outfile.write(vbw)\n",
    "\n",
    "#data = np.zeros(int(nPoints))\n",
    "data = OSA.query('DMA?')\n",
    "outfile.write(data)\n",
    "outfile.close()\n",
    "OSA.close()"
   ]
  },
  {
   "cell_type": "code",
   "execution_count": 6,
   "metadata": {},
   "outputs": [],
   "source": []
  },
  {
   "cell_type": "code",
   "execution_count": null,
   "metadata": {},
   "outputs": [],
   "source": []
  }
 ],
 "metadata": {
  "kernelspec": {
   "display_name": "Python 3",
   "language": "python",
   "name": "python3"
  },
  "language_info": {
   "codemirror_mode": {
    "name": "ipython",
    "version": 3
   },
   "file_extension": ".py",
   "mimetype": "text/x-python",
   "name": "python",
   "nbconvert_exporter": "python",
   "pygments_lexer": "ipython3",
   "version": "3.7.1"
  }
 },
 "nbformat": 4,
 "nbformat_minor": 4
}
