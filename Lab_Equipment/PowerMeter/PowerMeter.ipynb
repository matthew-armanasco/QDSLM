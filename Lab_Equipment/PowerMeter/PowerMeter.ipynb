{
 "cells": [
  {
   "cell_type": "code",
   "execution_count": 1,
   "metadata": {},
   "outputs": [
    {
     "ename": "ModuleNotFoundError",
     "evalue": "No module named 'Lab_Equipment'",
     "output_type": "error",
     "traceback": [
      "\u001b[1;31m---------------------------------------------------------------------------\u001b[0m",
      "\u001b[1;31mModuleNotFoundError\u001b[0m                       Traceback (most recent call last)",
      "Cell \u001b[1;32mIn[1], line 1\u001b[0m\n\u001b[1;32m----> 1\u001b[0m \u001b[38;5;28;01mfrom\u001b[39;00m \u001b[38;5;21;01mLab_Equipment\u001b[39;00m\u001b[38;5;21;01m.\u001b[39;00m\u001b[38;5;21;01mConfig\u001b[39;00m \u001b[38;5;28;01mimport\u001b[39;00m config\n\u001b[0;32m      2\u001b[0m \u001b[38;5;28;01mimport\u001b[39;00m \u001b[38;5;21;01mpyvisa\u001b[39;00m\n\u001b[0;32m      3\u001b[0m \u001b[38;5;66;03m# from ThorlabsPM100 import ThorlabsPM100#,USBTMC # go and look at documentation to see the other functions that can be used to change things on the power meter. You need to pip install this\u001b[39;00m\n",
      "\u001b[1;31mModuleNotFoundError\u001b[0m: No module named 'Lab_Equipment'"
     ]
    }
   ],
   "source": [
    "from Lab_Equipment.Config import config\n",
    "import pyvisa\n",
    "# from ThorlabsPM100 import ThorlabsPM100#,USBTMC # go and look at documentation to see the other functions that can be used to change things on the power meter. You need to pip install this\n",
    "import ThorlabsPM100\n",
    "rm = pyvisa.ResourceManager()# This just looks at all the USB stuff that is on the computer\n",
    "rm.list_resources()# this will print out all the USB connected device you need to manually work out what is what. Unplug and re-run to see what is on the list and what isn't\n",
    "print(rm.list_resources())"
   ]
  },
  {
   "cell_type": "code",
   "execution_count": 8,
   "metadata": {},
   "outputs": [
    {
     "name": "stdout",
     "output_type": "stream",
     "text": [
      "USBInstrument at USB0::0x1313::0x8078::P0016040::0::INSTR\n"
     ]
    }
   ],
   "source": [
    "# OK... so... there is some crazy bull shit with the drivers with the PM100D, \n",
    "#if you install the thorlabs software the drivers are set to TLM drivers (these are the new drivers) the drivers need to be NI-VISA driver it is call PM1000D driver.\n",
    "#To switrch the drivers there is a some software located in C:\\Program Files (x86)\\Thorlabs\\OPM\\Tools\\DriverSwitcher called Thorlabs.PMDriverSwitcher.exe. You can switch the drivers there.\n",
    "#NOTE the USB codes below are USB[board]::vendorID::productID::serialNumber::INSTR\n",
    "# inst = rm.open_resource('USB::0x1313::0x8078::P0024994::INSTR',timeout=100000000)# this gets the specific USB deivce that you want to access\n",
    "inst = rm.open_resource('USB::0x1313::0x8078::P0016040::INSTR',timeout=100000000)# this gets the specific USB deivce that you want to access\n",
    "print(inst)\n",
    "power_meter = ThorlabsPM100.ThorlabsPM100(inst=inst)# this invokes the Thorlabs python lib that hids the tedious serial writes to the powermeter\n",
    "\n"
   ]
  },
  {
   "cell_type": "code",
   "execution_count": 9,
   "metadata": {},
   "outputs": [],
   "source": [
    "\n",
    "\n",
    "# power_meter = ThorlabsPM100(inst=inst)# this invokes the Thorlabs python lib that hids the tedious serial writes to the powermeter\n",
    "\n",
    "# this is some of the most comman thngs that you will want to set on the power meter\n",
    "power_meter.sense.average.count=5000\n",
    "power_meter.sense.correction.wavelength=808\n",
    "\n",
    "# The two lines below do the same thing as the one line above it is just that the lines below do a specific serial write to the power meter\n",
    "# the specific codes like SENS:CORR:WAV are specified in the ThorlabsPM100 library\n",
    "# wavelength=1565\n",
    "# power_meter.inst.write('SENS:CORR:WAV %f' %wavelength)  \n",
    "power_meter.sense.power.dc.unit=\"W\"\n",
    "power_meter.configure.scalar.power() #NOTE when ever you change the units you need to call configure.X.X(). This is the same with if you wanted to measure a different value like voltage or current.\n",
    "pwr=power_meter.read # this will get the currently configured measure value. "
   ]
  },
  {
   "cell_type": "code",
   "execution_count": 10,
   "metadata": {},
   "outputs": [
    {
     "name": "stdout",
     "output_type": "stream",
     "text": [
      "9.9e+37\n"
     ]
    }
   ],
   "source": [
    "#This will get the power NOTE that the power_meter.sense.average.count will detemine the how many measurements it the power meter takes it essentially gives a mean reading.\n",
    "pwr=power_meter.read \n",
    "print(pwr)"
   ]
  },
  {
   "cell_type": "code",
   "execution_count": 6,
   "metadata": {},
   "outputs": [],
   "source": [
    "# stop the connection to the power meter\n",
    "inst.close()"
   ]
  },
  {
   "cell_type": "code",
   "execution_count": null,
   "metadata": {},
   "outputs": [],
   "source": []
  }
 ],
 "metadata": {
  "kernelspec": {
   "display_name": "base",
   "language": "python",
   "name": "python3"
  },
  "language_info": {
   "codemirror_mode": {
    "name": "ipython",
    "version": 3
   },
   "file_extension": ".py",
   "mimetype": "text/x-python",
   "name": "python",
   "nbconvert_exporter": "python",
   "pygments_lexer": "ipython3",
   "version": "3.11.5"
  }
 },
 "nbformat": 4,
 "nbformat_minor": 2
}
