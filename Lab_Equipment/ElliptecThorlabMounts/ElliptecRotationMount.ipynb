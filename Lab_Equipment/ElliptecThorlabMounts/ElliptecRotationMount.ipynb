{
 "cells": [
  {
   "cell_type": "code",
   "execution_count": 1,
   "metadata": {},
   "outputs": [],
   "source": [
    "import numpy as np\n",
    "import matplotlib.pyplot as plt\n",
    "import time\n",
    "from thorlabs_elliptec import ELLx, ELLError, ELLStatus, list_devices,find_device"
   ]
  },
  {
   "cell_type": "code",
   "execution_count": 35,
   "metadata": {},
   "outputs": [],
   "source": [
    "def AnglepairFunction(thetain):\n",
    "    thetaOut = np.degrees(0.5*np.arccos(np.sqrt(0.5 * (1 - np.sqrt(np.sin(2 * np.radians(thetain)))))))\n",
    "    return thetaOut\n",
    "def SetAnglePair(stage1,stage2,AngleSet):\n",
    "    stage1.move_absolute(AngleSet,blocking=True)\n",
    "    AnglePair=AnglepairFunction(AngleSet)\n",
    "    stage2.move_absolute(AnglePair,blocking=True)\n",
    "    print(AngleSet,stage1.get_position())\n",
    "    print(AnglePair,stage2.get_position())"
   ]
  },
  {
   "cell_type": "code",
   "execution_count": 4,
   "metadata": {},
   "outputs": [
    {
     "name": "stdout",
     "output_type": "stream",
     "text": [
      "device=/dev/cu.wlan-debug, manufacturer=None, product=None, vid=None, pid=None, serial_number=None, location=None\n",
      "device=/dev/cu.Bluetooth-Incoming-Port, manufacturer=None, product=None, vid=None, pid=None, serial_number=None, location=None\n",
      "device=/dev/cu.usbserial-DT04N7X4, manufacturer=FTDI, product=FT230X Basic UART, vid=0x0403, pid=0x6015, serial_number=DT04N7X4, location=1-1.3\n"
     ]
    }
   ],
   "source": [
    "print(list_devices())\n",
    "# device=/dev/cu.usbserial-DT04N7X4, manufacturer=FTDI, product=FT230X Basic UART, vid=0x0403, pid=0x6015, serial_number=DT04N7X4, location=1-1.2.1\n",
    "# device=/dev/cu.usbserial-DT04N7PW, manufacturer=FTDI, product=FT230X Basic UART, vid=0x0403, pid=0x6015, serial_number=DT04N7PW, location=0-1.3.3"
   ]
  },
  {
   "cell_type": "markdown",
   "metadata": {},
   "source": [
    "# Connect to mounts\n",
    "### So some time the board will need to be reset using thorlabs software as that software only allows one COM port communication and it does so funny thing with alisis the other mount. you just factor reset to fix."
   ]
  },
  {
   "cell_type": "code",
   "execution_count": 32,
   "metadata": {},
   "outputs": [
    {
     "name": "stdout",
     "output_type": "stream",
     "text": [
      "ELL14/M #0 on /dev/cu.usbserial-DT04N7X4, serial number 11400790, status ok\n",
      "ELL14/M #0 on /dev/cu.usbserial-DT04N7PW, serial number 11400791, status unknown\n"
     ]
    }
   ],
   "source": [
    "# stage = ELLx(serial_port='/dev/cu.usbserial-DT04N7X4',vid=0x0403,pid=0x6015,serial_number='DT04N7PW', location='0-1.3.3',manufacturer='FTDI', product='FT230X Basic UART')\n",
    "stages=[]\n",
    "stages.append( ELLx(serial_port='/dev/cu.usbserial-DT04N7X4'))\n",
    "stages.append(ELLx(serial_port='/dev/cu.usbserial-DT04N7PW'))\n",
    "\n",
    "stageCount=len(stages)\n",
    "for istage in range(stageCount):\n",
    "    print(f\"{stages[istage].model_number} #{stages[istage].device_id} on {stages[istage].port_name}, serial number {stages[istage].serial_number}, status {stages[istage].status.description}\")\n",
    "\n",
    "    "
   ]
  },
  {
   "cell_type": "markdown",
   "metadata": {},
   "source": [
    "# Home both mounts"
   ]
  },
  {
   "cell_type": "code",
   "execution_count": 33,
   "metadata": {},
   "outputs": [
    {
     "name": "stdout",
     "output_type": "stream",
     "text": [
      "0 -24.037\n",
      "0 0.0\n",
      "1 -24.029\n",
      "1 -0.005\n"
     ]
    }
   ],
   "source": [
    "# Move device to the home position\n",
    "for istage in range(stageCount):\n",
    "    print(istage,stages[istage].get_position())\n",
    "    stages[istage].home(blocking=True)\n",
    "    print(istage,stages[istage].get_position())\n"
   ]
  },
  {
   "cell_type": "code",
   "execution_count": 42,
   "metadata": {},
   "outputs": [
    {
     "name": "stdout",
     "output_type": "stream",
     "text": [
      "0 -0.01\n",
      "22.5 22.495\n"
     ]
    },
    {
     "name": "stderr",
     "output_type": "stream",
     "text": [
      "Error reading response string! (requested '0gs', received '')\n",
      "Error reading response string! (requested '0gs', received '')\n",
      "Could not query device status! (response was '')\n",
      "Could not query device status! (response was '')\n",
      "Exception in callback ELLx._update_status()\n",
      "handle: <TimerHandle when=17669.881672917 ELLx._update_status()>\n",
      "Traceback (most recent call last):\n",
      "  File \"/Users/s4356803/opt/anaconda3/lib/python3.9/site-packages/serial/serialposix.py\", line 621, in write\n",
      "    n = os.write(self.fd, d)\n",
      "OSError: [Errno 6] Device not configured\n",
      "\n",
      "During handling of the above exception, another exception occurred:\n",
      "\n",
      "Traceback (most recent call last):\n",
      "  File \"/Users/s4356803/opt/anaconda3/lib/python3.9/asyncio/events.py\", line 80, in _run\n",
      "    self._context.run(self._callback, *self._args)\n",
      "  File \"/Users/s4356803/opt/anaconda3/lib/python3.9/site-packages/thorlabs_elliptec/__init__.py\", line 426, in _update_status\n",
      "    reply_data = self._write_command(\"gp\")\n",
      "  File \"/Users/s4356803/opt/anaconda3/lib/python3.9/site-packages/thorlabs_elliptec/__init__.py\", line 444, in _write_command\n",
      "    self._port.write(bytearray(request_data + \"\\r\\n\", \"ascii\"))\n",
      "  File \"/Users/s4356803/opt/anaconda3/lib/python3.9/site-packages/serial/serialposix.py\", line 655, in write\n",
      "    raise SerialException('write failed: {}'.format(e))\n",
      "serial.serialutil.SerialException: write failed: [Errno 6] Device not configured\n",
      "Exception in callback ELLx._update_status()\n",
      "handle: <TimerHandle when=17669.809925333 ELLx._update_status()>\n",
      "Traceback (most recent call last):\n",
      "  File \"/Users/s4356803/opt/anaconda3/lib/python3.9/site-packages/serial/serialposix.py\", line 621, in write\n",
      "    n = os.write(self.fd, d)\n",
      "OSError: [Errno 6] Device not configured\n",
      "\n",
      "During handling of the above exception, another exception occurred:\n",
      "\n",
      "Traceback (most recent call last):\n",
      "  File \"/Users/s4356803/opt/anaconda3/lib/python3.9/asyncio/events.py\", line 80, in _run\n",
      "    self._context.run(self._callback, *self._args)\n",
      "  File \"/Users/s4356803/opt/anaconda3/lib/python3.9/site-packages/thorlabs_elliptec/__init__.py\", line 426, in _update_status\n",
      "    reply_data = self._write_command(\"gp\")\n",
      "  File \"/Users/s4356803/opt/anaconda3/lib/python3.9/site-packages/thorlabs_elliptec/__init__.py\", line 444, in _write_command\n",
      "    self._port.write(bytearray(request_data + \"\\r\\n\", \"ascii\"))\n",
      "  File \"/Users/s4356803/opt/anaconda3/lib/python3.9/site-packages/serial/serialposix.py\", line 655, in write\n",
      "    raise SerialException('write failed: {}'.format(e))\n",
      "serial.serialutil.SerialException: write failed: [Errno 6] Device not configured\n"
     ]
    }
   ],
   "source": [
    "SetAnglePair(stages[0],stages[1],0)\n"
   ]
  },
  {
   "cell_type": "code",
   "execution_count": 29,
   "metadata": {},
   "outputs": [
    {
     "name": "stdout",
     "output_type": "stream",
     "text": [
      "-0.002900000000011005\n",
      "-29.970925000000022\n",
      "0.003049999999973352\n",
      "29.998025\n",
      "0.008\n",
      "9.999999997489795e-05\n",
      "-29.965925000000027\n",
      "0.0050499999999829015\n",
      "29.998025\n",
      "0.015\n",
      "-0.017899999999997362\n",
      "-29.96092500000003\n",
      "0.003049999999973352\n",
      "29.99602499999999\n",
      "0.003\n",
      "0.0030999999999608008\n",
      "-29.965925000000027\n",
      "-0.009950000000003456\n",
      "29.99602499999999\n",
      "0.008\n",
      "-0.004900000000020555\n",
      "-29.965925000000027\n",
      "4.999999998744897e-05\n",
      "30.001025\n",
      "0.033\n",
      "-0.002900000000011005\n",
      "-29.967925000000008\n",
      "0.008049999999997226\n",
      "30.001025\n",
      "-0.008\n",
      "-0.007900000000006457\n",
      "-30.00592500000002\n",
      "0.0050499999999829015\n",
      "29.99602499999999\n",
      "0.025\n",
      "-0.007900000000006457\n",
      "-29.99792500000001\n",
      "0.0050499999999829015\n",
      "29.99602499999999\n",
      "0.023\n",
      "0.0030999999999608008\n",
      "-30.002925000000005\n",
      "-0.002949999999998454\n",
      "29.998025\n",
      "0.02\n",
      "-0.004900000000020555\n",
      "-29.990925000000033\n",
      "-0.0049500000000080036\n",
      "29.99602499999999\n",
      "0.03\n",
      "9.999999997489795e-05\n",
      "-29.995925000000028\n",
      "-0.002949999999998454\n",
      "30.003024999999994\n",
      "0.028\n",
      "-0.007900000000006457\n",
      "-29.995925000000028\n",
      "-0.002949999999998454\n",
      "30.003024999999994\n"
     ]
    },
    {
     "ename": "KeyboardInterrupt",
     "evalue": "",
     "output_type": "error",
     "traceback": [
      "\u001b[0;31m---------------------------------------------------------------------------\u001b[0m",
      "\u001b[0;31mKeyboardInterrupt\u001b[0m                         Traceback (most recent call last)",
      "Input \u001b[0;32mIn [29]\u001b[0m, in \u001b[0;36m<cell line: 8>\u001b[0;34m()\u001b[0m\n\u001b[1;32m      9\u001b[0m \u001b[38;5;28;01mfor\u001b[39;00m iangle \u001b[38;5;129;01min\u001b[39;00m \u001b[38;5;28mrange\u001b[39m(angleCount):\n\u001b[1;32m     11\u001b[0m     input_angle \u001b[38;5;241m=\u001b[39m angles_arr[iangle] \u001b[38;5;241m+\u001b[39m \u001b[38;5;241m30\u001b[39m \u001b[38;5;241m*\u001b[39m np\u001b[38;5;241m.\u001b[39msin(np\u001b[38;5;241m.\u001b[39mradians(angles_arr[iangle]))\n\u001b[0;32m---> 12\u001b[0m     \u001b[43mstages\u001b[49m\u001b[43m[\u001b[49m\u001b[38;5;241;43m0\u001b[39;49m\u001b[43m]\u001b[49m\u001b[38;5;241;43m.\u001b[39;49m\u001b[43mmove_absolute\u001b[49m\u001b[43m(\u001b[49m\u001b[43minput_angle\u001b[49m\u001b[43m,\u001b[49m\u001b[43mblocking\u001b[49m\u001b[38;5;241;43m=\u001b[39;49m\u001b[38;5;28;43;01mTrue\u001b[39;49;00m\u001b[43m)\u001b[49m\n\u001b[1;32m     13\u001b[0m     stages[\u001b[38;5;241m1\u001b[39m]\u001b[38;5;241m.\u001b[39mmove_absolute(input_angle,blocking\u001b[38;5;241m=\u001b[39m\u001b[38;5;28;01mTrue\u001b[39;00m)\n\u001b[1;32m     15\u001b[0m     time\u001b[38;5;241m.\u001b[39msleep(\u001b[38;5;241m0.1\u001b[39m)\n",
      "File \u001b[0;32m~/opt/anaconda3/lib/python3.9/site-packages/thorlabs_elliptec/__init__.py:611\u001b[0m, in \u001b[0;36mELLx.move_absolute\u001b[0;34m(self, position, blocking)\u001b[0m\n\u001b[1;32m    599\u001b[0m \u001b[38;5;28;01mdef\u001b[39;00m \u001b[38;5;21mmove_absolute\u001b[39m(\u001b[38;5;28mself\u001b[39m, position:\u001b[38;5;28mfloat\u001b[39m, blocking:\u001b[38;5;28mbool\u001b[39m\u001b[38;5;241m=\u001b[39m\u001b[38;5;28;01mFalse\u001b[39;00m) \u001b[38;5;241m-\u001b[39m\u001b[38;5;241m>\u001b[39m \u001b[38;5;28;01mNone\u001b[39;00m:\n\u001b[1;32m    600\u001b[0m     \u001b[38;5;124;03m\"\"\"\u001b[39;00m\n\u001b[1;32m    601\u001b[0m \u001b[38;5;124;03m    Move the device to an absolute position, specified in real device units.\u001b[39;00m\n\u001b[1;32m    602\u001b[0m \n\u001b[0;32m   (...)\u001b[0m\n\u001b[1;32m    609\u001b[0m \u001b[38;5;124;03m    :param blocking: Wait for operation to complete.\u001b[39;00m\n\u001b[1;32m    610\u001b[0m \u001b[38;5;124;03m    \"\"\"\u001b[39;00m\n\u001b[0;32m--> 611\u001b[0m     \u001b[38;5;28;43mself\u001b[39;49m\u001b[38;5;241;43m.\u001b[39;49m\u001b[43mmove_absolute_raw\u001b[49m\u001b[43m(\u001b[49m\u001b[38;5;28;43mself\u001b[39;49m\u001b[38;5;241;43m.\u001b[39;49m\u001b[43m_pp\u001b[49m\u001b[38;5;241;43m*\u001b[39;49m\u001b[43mposition\u001b[49m\u001b[38;5;241;43m/\u001b[39;49m\u001b[38;5;28;43mself\u001b[39;49m\u001b[38;5;241;43m.\u001b[39;49m\u001b[43m_revolution\u001b[49m\u001b[43m,\u001b[49m\u001b[43m \u001b[49m\u001b[43mblocking\u001b[49m\u001b[38;5;241;43m=\u001b[39;49m\u001b[43mblocking\u001b[49m\u001b[43m)\u001b[49m\n",
      "File \u001b[0;32m~/opt/anaconda3/lib/python3.9/site-packages/thorlabs_elliptec/__init__.py:596\u001b[0m, in \u001b[0;36mELLx.move_absolute_raw\u001b[0;34m(self, counts, blocking)\u001b[0m\n\u001b[1;32m    594\u001b[0m \u001b[38;5;28mself\u001b[39m\u001b[38;5;241m.\u001b[39m_eventloop\u001b[38;5;241m.\u001b[39mcall_soon_threadsafe(\u001b[38;5;28mself\u001b[39m\u001b[38;5;241m.\u001b[39m_move_absolute_raw, counts)\n\u001b[1;32m    595\u001b[0m \u001b[38;5;28;01mif\u001b[39;00m blocking:\n\u001b[0;32m--> 596\u001b[0m     \u001b[38;5;28;43mself\u001b[39;49m\u001b[38;5;241;43m.\u001b[39;49m\u001b[43mwait\u001b[49m\u001b[43m(\u001b[49m\u001b[43mraise_errors\u001b[49m\u001b[38;5;241;43m=\u001b[39;49m\u001b[38;5;28;43;01mTrue\u001b[39;49;00m\u001b[43m)\u001b[49m\n",
      "File \u001b[0;32m~/opt/anaconda3/lib/python3.9/site-packages/thorlabs_elliptec/__init__.py:681\u001b[0m, in \u001b[0;36mELLx.wait\u001b[0;34m(self, raise_errors)\u001b[0m\n\u001b[1;32m    679\u001b[0m \u001b[38;5;28;01mif\u001b[39;00m \u001b[38;5;129;01mnot\u001b[39;00m \u001b[38;5;28mself\u001b[39m\u001b[38;5;241m.\u001b[39mis_moving(raise_errors\u001b[38;5;241m=\u001b[39mraise_errors):\n\u001b[1;32m    680\u001b[0m     \u001b[38;5;28;01mreturn\u001b[39;00m\n\u001b[0;32m--> 681\u001b[0m \u001b[43msleep\u001b[49m\u001b[43m(\u001b[49m\u001b[38;5;241;43m0.01\u001b[39;49m\u001b[43m)\u001b[49m\n",
      "\u001b[0;31mKeyboardInterrupt\u001b[0m: "
     ]
    }
   ],
   "source": [
    "angleCount=5\n",
    "# angles_arr=np.linspace(0,360-0.0001,angleCount)\n",
    "angles_arr=np.linspace(360-0.0001,0,angleCount)\n",
    "\n",
    "angle_measured_arr=np.zeros(angleCount)\n",
    "\n",
    "counts=20\n",
    "for iCount in range(counts):\n",
    "    for iangle in range(angleCount):\n",
    "        \n",
    "        input_angle = angles_arr[iangle] + 30 * np.sin(np.radians(angles_arr[iangle]))\n",
    "        stages[0].move_absolute(input_angle,blocking=True)\n",
    "        stages[1].move_absolute(input_angle,blocking=True)\n",
    "        \n",
    "        time.sleep(0.1)\n",
    "        \n",
    "        angle_measured=stages[0].get_position()\n",
    "        angle_measured_arr[iangle]=angle_measured\n",
    "        print(angle_measured-angles_arr[iangle])\n",
    "\n",
    "plt.plot(angles_arr)\n",
    "plt.plot(angle_measured_arr)"
   ]
  },
  {
   "cell_type": "code",
   "execution_count": 30,
   "metadata": {},
   "outputs": [],
   "source": [
    "\n",
    "for istage in range(stageCount):\n",
    "    stages[istage].close()"
   ]
  },
  {
   "cell_type": "code",
   "execution_count": 20,
   "metadata": {},
   "outputs": [
    {
     "name": "stdout",
     "output_type": "stream",
     "text": [
      "True\n",
      "False\n",
      "32.645°\n",
      "Move completed OK\n",
      "True\n",
      "False\n"
     ]
    }
   ],
   "source": [
    "# Move device to the home position\n",
    "stage.home()\n",
    "# Movements are in real units appropriate for the device (degrees, mm).\n",
    "stage.move_absolute(45.0)\n",
    "# The raw device encoder units can also be used with the move raw variants.\n",
    "stage.move_absolute_raw(23456)\n",
    "\n",
    "# By default, move commands are asynchronous (non-blocking) and return immediately,\n",
    "# but you can manually wait for it to be in position\n",
    "stage.move_absolute(45.0)\n",
    "stage.wait()\n",
    "stage.move_relative(-12.34)\n",
    "# or test whether movement is still in progress.\n",
    "print(stage.is_moving())\n",
    "stage.wait()\n",
    "print(stage.is_moving())\n",
    "print(f\"{stage.get_position()}{stage.units}\")\n",
    "# Prints something like:\n",
    "# True\n",
    "# False\n",
    "# 32.655°\n",
    "\n",
    "# Synchronous behaviour can also be achieved by setting the blocking=True parameter,\n",
    "# which will perform the wait before returning from each movement command.\n",
    "stage.home(blocking=True)\n",
    "stage.move_absolute(1.23, blocking=True)\n",
    "stage.move_relative(-0.98, blocking=True)\n",
    "\n",
    "# When using the synchronous behaviour, any error during movement will raise an exception.\n",
    "try:\n",
    "    stage.move_absolute(-9999)\n",
    "except ELLError as ex:\n",
    "    if ex.status == ELLStatus.OUT_OF_RANGE:\n",
    "        # Requested move beyond device limits\n",
    "        print(\"Device can't move there!\")\n",
    "    else:\n",
    "        # Other error, eg stage held or blocked so it can't move\n",
    "        print(f\"Movement error: {ex}\")\n",
    "else:\n",
    "    print(\"Move completed OK\")\n",
    "\n",
    "# When using asynchronous calls, any errors won't have been detected yet,\n",
    "# so instead, the is_moving() and wait() methods can raise the exception instead.\n",
    "stage.move_relative(300)\n",
    "try:\n",
    "    print(stage.is_moving(raise_errors=True))\n",
    "    stage.wait(raise_errors=True)\n",
    "    print(stage.is_moving(raise_errors=True))\n",
    "except ELLError as ex:\n",
    "    print(f\"Movement error: {ex}\")\n",
    "\n",
    "# Once done with the device, it can be specifically closed. Commands to the stage will no\n",
    "# longer work until the device is re-initialised.\n",
    "stage.close()"
   ]
  },
  {
   "cell_type": "code",
   "execution_count": null,
   "metadata": {},
   "outputs": [],
   "source": []
  }
 ],
 "metadata": {
  "kernelspec": {
   "display_name": "base",
   "language": "python",
   "name": "python3"
  },
  "language_info": {
   "codemirror_mode": {
    "name": "ipython",
    "version": 3
   },
   "file_extension": ".py",
   "mimetype": "text/x-python",
   "name": "python",
   "nbconvert_exporter": "python",
   "pygments_lexer": "ipython3",
   "version": "3.9.12"
  }
 },
 "nbformat": 4,
 "nbformat_minor": 2
}
