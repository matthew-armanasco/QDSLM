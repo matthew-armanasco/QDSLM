{
 "cells": [
  {
   "cell_type": "code",
   "execution_count": 9,
   "metadata": {},
   "outputs": [
    {
     "name": "stdout",
     "output_type": "stream",
     "text": [
      "2\n",
      "Blink SDK was successfully constructed\n"
     ]
    }
   ],
   "source": [
    "# Example usage of Blink_C_wrapper.dll\n",
    "# Meadowlark Optics Spatial Light Modulators\n",
    "# September 12 2019\n",
    "\n",
    "import os\n",
    "import numpy\n",
    "from ctypes import *\n",
    "from scipy import misc\n",
    "from time import sleep\n",
    "\n",
    "################################ MAKE SURE THE WINDOW SHOWS UP IN THE WRITE PLACE FOR THE DPI SETTINGS#############\n",
    "# Query DPI Awareness (Windows 10 and 8)\n",
    "import ctypes\n",
    "awareness = ctypes.c_int()\n",
    "errorCode = ctypes.windll.shcore.GetProcessDpiAwareness(0, ctypes.byref(awareness))\n",
    "print(awareness.value)\n",
    "\n",
    "# Set DPI Awareness  (Windows 10 and 8)\n",
    "errorCode = ctypes.windll.shcore.SetProcessDpiAwareness(2)\n",
    "# the argument is the awareness level, which can be 0, 1 or 2:\n",
    "# for 1-to-1 pixel control I seem to need it to be non-zero (I'm using level 2)\n",
    "\n",
    "# Set DPI Awareness  (Windows 7 and Vista)\n",
    "success = ctypes.windll.user32.SetProcessDPIAware()\n",
    "# behaviour on later OSes is undefined, although when I run it on my Windows 10 machine, it seems to work with effects identical to SetProcessDpiAwareness(1)\n",
    "#######################################################################################################################\n",
    "\n",
    "\n",
    "# Load the DLL\n",
    "# Blink_C_wrapper.dll, HdmiDisplay.dll, ImageGen.dll, freeglut.dll and glew64.dll\n",
    "# should all be located in the same directory as the program referencing the\n",
    "# library\n",
    "cdll.LoadLibrary(\"C:\\\\Program Files\\\\Meadowlark Optics\\\\Blink 1920 HDMI\\\\SDK\\\\Blink_C_wrapper\")\n",
    "slm_lib = CDLL(\"Blink_C_wrapper\")\n",
    "\n",
    "# Open the image generation library\n",
    "cdll.LoadLibrary(\"C:\\\\Program Files\\\\Meadowlark Optics\\\\Blink 1920 HDMI\\\\SDK\\\\ImageGen\")\n",
    "image_lib = CDLL(\"ImageGen\")\n",
    "\n",
    "# indicate that our images are RGB\n",
    "RGB = c_uint(1);\n",
    "is_eight_bit_image = c_uint(0);\n",
    "\n",
    "# Call the constructor\n",
    "slm_lib.Create_SDK();\n",
    "print (\"Blink SDK was successfully constructed\");\n",
    "\n",
    "height = c_uint(slm_lib.Get_Height());\n",
    "width = c_uint(slm_lib.Get_Width());\n",
    "depth = c_uint(slm_lib.Get_Depth());\n",
    "bytpesPerPixel = 4; #RGBA\n",
    "\n",
    "center_x = c_uint(width.value//2);\n",
    "center_y = c_uint(height.value//2);\n",
    "\n",
    "#***you should replace linear.LUT with your custom LUT file***\n",
    "#but for now open a generic LUT that linearly maps input graylevels to output voltages\n",
    "#***Using linear.LUT does NOT give a linear phase response***\n"
   ]
  },
  {
   "cell_type": "code",
   "execution_count": 13,
   "metadata": {},
   "outputs": [
    {
     "name": "stdout",
     "output_type": "stream",
     "text": [
      "0\n",
      "1\n",
      "1\n"
     ]
    }
   ],
   "source": [
    "# test=slm_lib.Get_COMFound()\n",
    "print(slm_lib.Get_SLMTemp())\n",
    "print(slm_lib.Get_COMFound())\n",
    "print(slm_lib.Get_SLMFound())\n",
    "\n"
   ]
  },
  {
   "cell_type": "code",
   "execution_count": 10,
   "metadata": {},
   "outputs": [
    {
     "name": "stdout",
     "output_type": "stream",
     "text": [
      "0\n"
     ]
    }
   ],
   "source": [
    "print(slm_lib.Get_SLMVCom())"
   ]
  },
  {
   "cell_type": "code",
   "execution_count": 8,
   "metadata": {},
   "outputs": [],
   "source": [
    "# Always call Delete_SDK before exiting\n",
    "slm_lib.Delete_SDK();"
   ]
  },
  {
   "cell_type": "code",
   "execution_count": 18,
   "metadata": {},
   "outputs": [
    {
     "name": "stdout",
     "output_type": "stream",
     "text": [
      "test\n",
      "LoadLUT Failed\n"
     ]
    }
   ],
   "source": [
    "\n",
    "#***you should replace linear.LUT with your custom LUT file***\n",
    "#but for now open a generic LUT that linearly maps input graylevels to output voltages\n",
    "#***Using linear.LUT does NOT give a linear phase response***\n",
    "success = 0;\n",
    "if height.value == 1152:\n",
    "    print('test')\n",
    "    \n",
    "    # success = slm_lib.Load_lut(\"C:\\\\Program Files\\\\Meadowlark Optics\\\\Blink 1920 HDMI\\\\LUT Files\\\\1920x1152_linearVoltage.lut\");\n",
    "    success = slm_lib.Load_lut(\"E:\\\\QuditsLab\\\\linear2048.lut\");\n",
    "\n",
    "\n",
    "if (height.value == 1200)and(depth.value == 8):\n",
    "    print('test2')\n",
    "    success = slm_lib.Load_lut(\"C:\\\\Program Files\\\\Meadowlark Optics\\\\Blink 1920 HDMI\\\\LUT Files\\\\19x12_8bit_linearVoltage.lut\");\n",
    "if (height.value == 1200)and(depth.value == 10):\n",
    "    print('test3')\n",
    "    success = slm_lib.Load_lut(\"C:\\\\Program Files\\\\Meadowlark Optics\\\\Blink 1920 HDMI\\\\LUT Files\\\\19x12_10bit_linearVoltage.lut\");\n",
    "\n",
    "if success > 0: \n",
    "    print (\"LoadLUT Successful\")\t\n",
    "else:\n",
    "\tprint(\"LoadLUT Failed\")\t"
   ]
  },
  {
   "cell_type": "code",
   "execution_count": null,
   "metadata": {},
   "outputs": [],
   "source": [
    "\n",
    "\n",
    "\t\t\n",
    "# Create two vectors to hold values for two SLM images\n",
    "ImageOne = numpy.empty([width.value*height.value*bytpesPerPixel], numpy.uint8, 'C');\n",
    "ImageTwo = numpy.empty([width.value*height.value*bytpesPerPixel], numpy.uint8, 'C');\n",
    "\n",
    "# Create a blank vector to hold the wavefront correction\n",
    "WFC = numpy.empty([width.value*height.value*bytpesPerPixel], numpy.uint8, 'C');\n",
    "\n",
    "# Generate phase gradients\n",
    "VortexCharge = 5;\n",
    "image_lib.Generate_LG(ImageOne.ctypes.data_as(POINTER(c_ubyte)), WFC.ctypes.data_as(POINTER(c_ubyte)), width.value, height.value, depth.value, VortexCharge, center_x.value, center_y.value, 0, RGB);\n",
    "VortexCharge = 3;\n",
    "image_lib.Generate_LG(ImageTwo.ctypes.data_as(POINTER(c_ubyte)), WFC.ctypes.data_as(POINTER(c_ubyte)), width.value, height.value, depth.value, VortexCharge, center_x.value, center_y.value, 0, RGB);\n",
    "\n",
    "# Loop between our images\n",
    "for x in range(6):\n",
    "    slm_lib.Write_image(ImageOne.ctypes.data_as(POINTER(c_ubyte)), is_eight_bit_image);\n",
    "    sleep(1.0); # This is in seconds\n",
    "    slm_lib.Write_image(ImageTwo.ctypes.data_as(POINTER(c_ubyte)), is_eight_bit_image);\n",
    "    sleep(1.0); # This is in seconds\n",
    "\n",
    "# Always call Delete_SDK before exiting\n",
    "slm_lib.Delete_SDK();"
   ]
  }
 ],
 "metadata": {
  "kernelspec": {
   "display_name": "Python3p6",
   "language": "python",
   "name": "python3"
  },
  "language_info": {
   "codemirror_mode": {
    "name": "ipython",
    "version": 3
   },
   "file_extension": ".py",
   "mimetype": "text/x-python",
   "name": "python",
   "nbconvert_exporter": "python",
   "pygments_lexer": "ipython3",
   "version": "3.6.13"
  },
  "orig_nbformat": 4
 },
 "nbformat": 4,
 "nbformat_minor": 2
}
