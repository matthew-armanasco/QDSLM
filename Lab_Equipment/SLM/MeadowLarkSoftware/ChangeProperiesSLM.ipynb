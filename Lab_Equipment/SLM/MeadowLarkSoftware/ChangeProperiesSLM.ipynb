{
 "cells": [
  {
   "cell_type": "markdown",
   "metadata": {},
   "source": [
    "# SPDC Linear for green SLM COM12\n",
    "# SLM5086_Linear_at810_PhRg1p95_PhSh0p0.blt\n",
    "\n",
    "# SPDC Linear for Red SLM COM13\n",
    "# SLM5087_Linear_at810_PhRg2p0_PhSh0p0.blt"
   ]
  },
  {
   "cell_type": "code",
   "execution_count": 1,
   "metadata": {},
   "outputs": [
    {
     "name": "stdout",
     "output_type": "stream",
     "text": [
      "0\n",
      "Cover Glass Voltage=  6.176000118255615\n",
      "1\n"
     ]
    }
   ],
   "source": [
    "# Example usage of Blink_C_wrapper.dll\n",
    "# Meadowlark Optics Spatial Light Modulators\n",
    "# September 12 2019\n",
    "\n",
    "import os\n",
    "import numpy\n",
    "from ctypes import *\n",
    "from scipy import misc\n",
    "from time import sleep\n",
    "\n",
    "################################ MAKE SURE THE WINDOW SHOWS UP IN THE WRITE PLACE FOR THE DPI SETTINGS#############\n",
    "# Query DPI Awareness (Windows 10 and 8)\n",
    "import ctypes\n",
    "awareness = ctypes.c_int()\n",
    "errorCode = ctypes.windll.shcore.GetProcessDpiAwareness(0, ctypes.byref(awareness))\n",
    "print(awareness.value)\n",
    "\n",
    "# Set DPI Awareness  (Windows 10 and 8)\n",
    "errorCode = ctypes.windll.shcore.SetProcessDpiAwareness(2)\n",
    "cdll.LoadLibrary( \"C:\\\\Program Files\\\\Meadowlark Optics\\\\Blink 1920 HDMI\\\\SDK\\\\Blink_C_wrapper\")\n",
    "# cdll.LoadLibrary( \"H:\\\\Blink 1920 HDMI\\\\SDK\\\\Blink_C_wrapper\")\n",
    "\n",
    "slm_lib = CDLL(\"Blink_C_wrapper\")\n",
    "\n",
    "\n",
    "slm_lib.Get_SLMTemp.argtypes = [c_char_p]\n",
    "slm_lib.Get_SLMTemp.restype = c_float\n",
    "slm_lib.Get_SLMVCom.argtypes = [c_char_p]\n",
    "slm_lib.Get_SLMVCom.restype = c_float\n",
    "slm_lib.Load_lut.argtypes = [c_char_p,c_char_p]\n",
    "slm_lib.Load_lut.restype = c_int\n",
    "slm_lib.Set_SLMVCom.argtypes = [c_char_p,c_float]\n",
    "slm_lib.Set_SLMVCom.restype = c_int\n",
    "voltage = ((ctypes.c_float))()\n",
    "Comport=\"COM3\"\n",
    "\n",
    "\n",
    "\n",
    "\n",
    "slm_lib.Create_SDK(); # this seems to always put the hdmiDisplay Window on the first monitor\n",
    "\n",
    "# slmTemp=slm_lib.Get_SLMTemp(Comport.encode('utf-8'))\n",
    "# print('SLMTemp= ',slmTemp)\n",
    "\n",
    "slmCGVolt=slm_lib.Get_SLMVCom(Comport.encode('utf-8'))\n",
    "print('Cover Glass Voltage= ',slmCGVolt)\n",
    "# voltage=6.9\n",
    "# ErrorCode=slm_lib.Set_SLMVCom(Comport.encode('utf-8'),voltage)\n",
    "# print('Cover Glass Voltage Err= ',ErrorCode)\n",
    "# slmCGVolt=slm_lib.Get_SLMVCom(Comport.encode('utf-8'))\n",
    "# print('Cover Glass Voltage= ',slmCGVolt)\n",
    "\n",
    "# ErrorCode=slm_lib.Load_lut(Comport.encode('utf-8') ,b\"C:\\\\Program Files\\\\Meadowlark Optics\\\\Blink 1920 HDMI\\\\LUT Files\\\\linear2040.blt\")\n",
    "\n",
    "ErrorCode=slm_lib.Load_lut(Comport.encode('utf-8') ,b\"C:\\\\Program Files\\\\Meadowlark Optics\\\\Blink 1920 HDMI\\\\LUT Files\\\\LE000290_Linear_at850_Red_MPLC_5Run.blt\")\n",
    "\n",
    "\n",
    "print(ErrorCode)\n",
    "\n"
   ]
  },
  {
   "cell_type": "markdown",
   "metadata": {},
   "source": [
    "# This is the code for the NEW SLM with Serial code SLM6505"
   ]
  },
  {
   "cell_type": "code",
   "execution_count": 1,
   "metadata": {},
   "outputs": [
    {
     "name": "stdout",
     "output_type": "stream",
     "text": [
      "0\n",
      "Blink SDK was successfully constructed\n",
      "c_ulong(1152) c_ulong(1920) c_ulong(8)\n",
      "test\n",
      "LoadLUT Failed\n"
     ]
    }
   ],
   "source": [
    "# Example usage of Blink_C_wrapper.dll\n",
    "# Meadowlark Optics Spatial Light Modulators\n",
    "# September 12 2019\n",
    "\n",
    "import os\n",
    "import numpy\n",
    "from ctypes import *\n",
    "from scipy import misc\n",
    "from time import sleep\n",
    "\n",
    "################################ MAKE SURE THE WINDOW SHOWS UP IN THE WRITE PLACE FOR THE DPI SETTINGS#############\n",
    "# Query DPI Awareness (Windows 10 and 8)\n",
    "import ctypes\n",
    "awareness = ctypes.c_int()\n",
    "errorCode = ctypes.windll.shcore.GetProcessDpiAwareness(0, ctypes.byref(awareness))\n",
    "print(awareness.value)\n",
    "\n",
    "# Set DPI Awareness  (Windows 10 and 8)\n",
    "errorCode = ctypes.windll.shcore.SetProcessDpiAwareness(2)\n",
    "# the argument is the awareness level, which can be 0, 1 or 2:\n",
    "# for 1-to-1 pixel control I seem to need it to be non-zero (I'm using level 2)\n",
    "\n",
    "# Set DPI Awareness  (Windows 7 and Vista)\n",
    "success = ctypes.windll.user32.SetProcessDPIAware()\n",
    "# behaviour on later OSes is undefined, although when I run it on my Windows 10 machine, it seems to work with effects identical to SetProcessDpiAwareness(1)\n",
    "#######################################################################################################################\n",
    "\n",
    "\n",
    "# Load the DLL\n",
    "# Blink_C_wrapper.dll, HdmiDisplay.dll, ImageGen.dll, freeglut.dll and glew64.dll\n",
    "# should all be located in the same directory as the program referencing the\n",
    "# library\n",
    "cdll.LoadLibrary(\"C:\\\\Program Files\\\\Meadowlark Optics\\\\Blink 1920 HDMI\\\\SDK\\\\Blink_C_wrapper\")\n",
    "slm_lib = CDLL(\"Blink_C_wrapper\")\n",
    "\n",
    "# Open the image generation library\n",
    "cdll.LoadLibrary(\"C:\\\\Program Files\\\\Meadowlark Optics\\\\Blink 1920 HDMI\\\\SDK\\\\ImageGen\")\n",
    "image_lib = CDLL(\"ImageGen\")\n",
    "\n",
    "# indicate that our images are RGB\n",
    "RGB = c_uint(1);\n",
    "is_eight_bit_image = c_uint(0);\n",
    "\n",
    "# Call the constructor\n",
    "slm_lib.Create_SDK();\n",
    "print (\"Blink SDK was successfully constructed\");\n",
    "\n",
    "height = c_uint(slm_lib.Get_Height());\n",
    "width = c_uint(slm_lib.Get_Width());\n",
    "depth = c_uint(slm_lib.Get_Depth());\n",
    "print(height,width,depth)\n",
    "bytpesPerPixel = 4; #RGBA\n",
    "\n",
    "center_x = c_uint(width.value//2);\n",
    "center_y = c_uint(height.value//2);\n",
    "\n",
    "#***you should replace linear.LUT with your custom LUT file***\n",
    "#but for now open a generic LUT that linearly maps input graylevels to output voltages\n",
    "#***Using linear.LUT does NOT give a linear phase response***\n",
    "success = 0;\n",
    "if height.value == 1152:\n",
    "    success = slm_lib.Load_lut(\"C:\\\\Program Files\\\\Meadowlark Optics\\\\Blink 1920 HDMI\\\\LUT Files\\\\1920x1152_linearVoltage.lut\");\n",
    "    print(\"test\")\n",
    "if (height.value == 1200)and(depth.value == 8):\n",
    "    # success = slm_lib.Load_lut(\"C:\\\\Program Files\\\\Meadowlark Optics\\\\Blink 1920 HDMI\\\\LUT Files\\\\19x12_8bit_linearVoltage.lut\");\n",
    "    # success = slm_lib.Load_lut(\"C:\\\\Program Files\\\\Meadowlark Optics\\\\Blink 1920 HDMI\\\\LUT Files\\\\slm6505_at1550_HDMI.LUT\");\n",
    "    success = slm_lib.Load_lut(\"C:\\\\Program Files\\\\Meadowlark Optics\\\\Blink 1920 HDMI\\\\LUT Files\\\\SLM6505_Linear_at1550_MPLC_2ndRun.blt\");\n",
    "\n",
    "if (height.value == 1200)and(depth.value == 10):\n",
    "    success = slm_lib.Load_lut(\"C:\\\\Program Files\\\\Meadowlark Optics\\\\Blink 1920 HDMI\\\\LUT Files\\\\19x12_10bit_linearVoltage.lut\");\n",
    "\n",
    "if success > 0: \n",
    "    print (\"LoadLUT Successful\")\t\n",
    "else:\n",
    "\tprint(\"LoadLUT Failed\")\t\n",
    "\t\n",
    "\t\t\n",
    "# # Create two vectors to hold values for two SLM images\n",
    "# ImageOne = numpy.empty([width.value*height.value*bytpesPerPixel], numpy.uint8, 'C');\n",
    "# ImageTwo = numpy.empty([width.value*height.value*bytpesPerPixel], numpy.uint8, 'C');\n",
    "\n",
    "# # Create a blank vector to hold the wavefront correction\n",
    "# WFC = numpy.empty([width.value*height.value*bytpesPerPixel], numpy.uint8, 'C');\n",
    "\n",
    "# # Generate phase gradients\n",
    "# VortexCharge = 5;\n",
    "# image_lib.Generate_LG(ImageOne.ctypes.data_as(POINTER(c_ubyte)), WFC.ctypes.data_as(POINTER(c_ubyte)), width.value, height.value, depth.value, VortexCharge, center_x.value, center_y.value, 0, RGB);\n",
    "# VortexCharge = 3;\n",
    "# image_lib.Generate_LG(ImageTwo.ctypes.data_as(POINTER(c_ubyte)), WFC.ctypes.data_as(POINTER(c_ubyte)), width.value, height.value, depth.value, VortexCharge, center_x.value, center_y.value, 0, RGB);\n",
    "\n",
    "# # Loop between our images\n",
    "# for x in range(6):\n",
    "#     slm_lib.Write_image(ImageOne.ctypes.data_as(POINTER(c_ubyte)), is_eight_bit_image);\n",
    "#     sleep(1.0); # This is in seconds\n",
    "#     slm_lib.Write_image(ImageTwo.ctypes.data_as(POINTER(c_ubyte)), is_eight_bit_image);\n",
    "#     sleep(1.0); # This is in seconds\n",
    "\n",
    "# Always call Delete_SDK before exiting\n",
    "slm_lib.Delete_SDK();\n"
   ]
  },
  {
   "cell_type": "markdown",
   "metadata": {},
   "source": [
    "# make a linear Lut files"
   ]
  },
  {
   "cell_type": "code",
   "execution_count": 2,
   "metadata": {},
   "outputs": [],
   "source": [
    "import numpy as np\n",
    "#Output the new .LUT and .blt file  \n",
    "phaseCount=256\n",
    "VoltageCount=4080\n",
    "# linearLutVolts=range(0,VoltageCount,)\n",
    "linearLutVolts=np.linspace(0, VoltageCount, num=phaseCount, dtype=int)\n",
    "Filename='linear'+str(VoltageCount)\n",
    "FolderName=\"C:\\\\Program Files\\\\Meadowlark Optics\\\\Blink 1920 HDMI\\\\LUT Files\\\\\"\n",
    "\n",
    "f_Lut = open(FolderName+Filename+\".lut\", \"w\")\n",
    "f_blt = open(FolderName+Filename+\".blt\", \"w\")\n",
    "for iphase in range(phaseCount):\n",
    "    f_Lut.write(f\"{iphase} \\t {int(linearLutVolts[iphase])}\\n\")\n",
    "    f_blt.write(f\"{int(linearLutVolts[iphase])}\\n\")\n",
    "f_Lut.close()\n",
    "f_blt.close()"
   ]
  },
  {
   "cell_type": "code",
   "execution_count": 12,
   "metadata": {},
   "outputs": [
    {
     "name": "stdout",
     "output_type": "stream",
     "text": [
      "1\n"
     ]
    }
   ],
   "source": [
    "ErrorCode=slm_lib.Load_lut(Comport.encode('utf-8') ,b\"C:\\\\Program Files\\\\Meadowlark Optics\\\\Blink 1920 HDMI\\\\LUT Files\\\\linear2040.blt\")\n",
    "print(ErrorCode)"
   ]
  },
  {
   "cell_type": "code",
   "execution_count": 2,
   "metadata": {},
   "outputs": [
    {
     "name": "stdout",
     "output_type": "stream",
     "text": [
      "1\n"
     ]
    }
   ],
   "source": [
    "# ErrorCode=slm_lib.Load_lut(Comport.encode('utf-8') ,b\"C:\\\\Program Files\\\\Meadowlark Optics\\\\Blink 1920 HDMI\\\\LUT Files\\\\SLM5086_Linear_at810_PhRg2p0_PhSh0p0.blt\")\n",
    "ErrorCode=slm_lib.Load_lut(Comport.encode('utf-8') ,b\"C:\\\\Program Files\\\\Meadowlark Optics\\\\Blink 1920 HDMI\\\\LUT Files\\\\slm5087_at1550_HDMI.blt\")\n",
    "print(ErrorCode)\n",
    "\n"
   ]
  },
  {
   "cell_type": "code",
   "execution_count": 2,
   "metadata": {},
   "outputs": [
    {
     "ename": "",
     "evalue": "",
     "output_type": "error",
     "traceback": [
      "\u001b[1;31mThe Kernel crashed while executing code in the current cell or a previous cell. \n",
      "\u001b[1;31mPlease review the code in the cell(s) to identify a possible cause of the failure. \n",
      "\u001b[1;31mClick <a href='https://aka.ms/vscodeJupyterKernelCrash'>here</a> for more info. \n",
      "\u001b[1;31mView Jupyter <a href='command:jupyter.viewOutput'>log</a> for further details."
     ]
    }
   ],
   "source": [
    "slm_lib.Delete_SDK();"
   ]
  },
  {
   "cell_type": "markdown",
   "metadata": {},
   "source": [
    "# initalise the SLM so you can change the Lut or coverglass voltage"
   ]
  },
  {
   "cell_type": "code",
   "execution_count": null,
   "metadata": {},
   "outputs": [
    {
     "name": "stdout",
     "output_type": "stream",
     "text": [
      "SLMTemp=  35.5620002746582\n",
      "Cover Glass Voltage=  6.181000232696533\n",
      "Cover Glass Voltage Err=  1\n",
      "Cover Glass Voltage=  6.176000118255615\n"
     ]
    },
    {
     "ename": "",
     "evalue": "",
     "output_type": "error",
     "traceback": [
      "\u001b[1;31mThe Kernel crashed while executing code in the current cell or a previous cell. \n",
      "\u001b[1;31mPlease review the code in the cell(s) to identify a possible cause of the failure. \n",
      "\u001b[1;31mClick <a href='https://aka.ms/vscodeJupyterKernelCrash'>here</a> for more info. \n",
      "\u001b[1;31mView Jupyter <a href='command:jupyter.viewOutput'>log</a> for further details."
     ]
    }
   ],
   "source": [
    "Comport=\"COM6\"\n",
    "\n",
    "slm_lib.Create_SDK(); # this seems to always put the hdmiDisplay Window on the first monitor\n",
    "\n",
    "slmTemp=slm_lib.Get_SLMTemp(Comport.encode('utf-8'))\n",
    "print('SLMTemp= ',slmTemp)\n",
    "\n",
    "slmCGVolt=slm_lib.Get_SLMVCom(Comport.encode('utf-8'))\n",
    "print('Cover Glass Voltage= ',slmCGVolt)\n",
    "voltage=6.15\n",
    "ErrorCode=slm_lib.Set_SLMVCom(Comport.encode('utf-8'),voltage)\n",
    "print('Cover Glass Voltage Err= ',ErrorCode)\n",
    "slmCGVolt=slm_lib.Get_SLMVCom(Comport.encode('utf-8'))\n",
    "print('Cover Glass Voltage= ',slmCGVolt)\n",
    "ErrorCode=slm_lib.Load_lut(Comport.encode('utf-8') ,b\"C:\\\\Program Files\\\\Meadowlark Optics\\\\Blink 1920 HDMI\\\\LUT Files\\\\linear2040.blt\")\n",
    "\n",
    "print(ErrorCode)\n",
    "slm_lib.Delete_SDK();\n"
   ]
  },
  {
   "cell_type": "code",
   "execution_count": 6,
   "metadata": {},
   "outputs": [
    {
     "name": "stdout",
     "output_type": "stream",
     "text": [
      "SLMTemp=  36.31800079345703\n",
      "Cover Glass Voltage=  6.176000118255615\n"
     ]
    }
   ],
   "source": [
    "slmTemp=slm_lib.Get_SLMTemp(Comport.encode('utf-8'))\n",
    "print('SLMTemp= ',slmTemp)\n",
    "slmCGVolt=slm_lib.Get_SLMVCom(Comport.encode('utf-8'))\n",
    "print('Cover Glass Voltage= ',slmCGVolt)\n",
    "voltage=6.2\n",
    "ErrorCode=slm_lib.Set_SLMVCom(Comport.encode('utf-8'),voltage)\n",
    "print('Cover Glass Voltage Err= ',ErrorCode)\n",
    "slmCGVolt=slm_lib.Get_SLMVCom(Comport.encode('utf-8'))\n",
    "print('Cover Glass Voltage= ',slmCGVolt)"
   ]
  },
  {
   "cell_type": "markdown",
   "metadata": {},
   "source": [
    "# Load a LutFile"
   ]
  },
  {
   "cell_type": "code",
   "execution_count": 14,
   "metadata": {},
   "outputs": [
    {
     "name": "stdout",
     "output_type": "stream",
     "text": [
      "1\n"
     ]
    }
   ],
   "source": [
    "LutFile=\"C:\\\\Program Files\\\\Meadowlark Optics\\\\Blink 1920 HDMI\\\\LUT Files\\\\linear2040.blt\"\n",
    "# ErrorCode=slm_lib.Load_lut(Comport.encode('utf-8') ,LutFile.encode('utf-8'))C:\\Program Files\\Meadowlark Optics\\Blink 1920 HDMI\\LUT Files\n",
    "ErrorCode=slm_lib.Load_lut(Comport.encode('utf-8') ,b\"C:\\\\Program Files\\\\Meadowlark Optics\\\\Blink 1920 HDMI\\\\LUT Files\\\\linear2040.blt\")\n",
    "\n",
    "print(ErrorCode)\n"
   ]
  },
  {
   "cell_type": "markdown",
   "metadata": {},
   "source": [
    "# when finished delete the slm_lid"
   ]
  },
  {
   "cell_type": "code",
   "execution_count": 15,
   "metadata": {},
   "outputs": [
    {
     "ename": "",
     "evalue": "",
     "output_type": "error",
     "traceback": [
      "\u001b[1;31mThe Kernel crashed while executing code in the current cell or a previous cell. \n",
      "\u001b[1;31mPlease review the code in the cell(s) to identify a possible cause of the failure. \n",
      "\u001b[1;31mClick <a href='https://aka.ms/vscodeJupyterKernelCrash'>here</a> for more info. \n",
      "\u001b[1;31mView Jupyter <a href='command:jupyter.viewOutput'>log</a> for further details."
     ]
    }
   ],
   "source": [
    "slm_lib.Delete_SDK();"
   ]
  },
  {
   "cell_type": "code",
   "execution_count": 11,
   "metadata": {},
   "outputs": [],
   "source": [
    "del test"
   ]
  },
  {
   "cell_type": "code",
   "execution_count": 25,
   "metadata": {},
   "outputs": [],
   "source": [
    "import numpy as np\n",
    "test=np.arange(0,2048,(2048//(256-1)))"
   ]
  },
  {
   "cell_type": "code",
   "execution_count": 27,
   "metadata": {},
   "outputs": [
    {
     "data": {
      "text/plain": [
       "(256,)"
      ]
     },
     "execution_count": 27,
     "metadata": {},
     "output_type": "execute_result"
    }
   ],
   "source": [
    "test.shape"
   ]
  },
  {
   "cell_type": "code",
   "execution_count": null,
   "metadata": {},
   "outputs": [],
   "source": []
  },
  {
   "cell_type": "markdown",
   "metadata": {},
   "source": [
    "# This is code for a different verions of SDK"
   ]
  },
  {
   "cell_type": "code",
   "execution_count": 1,
   "metadata": {},
   "outputs": [
    {
     "name": "stdout",
     "output_type": "stream",
     "text": [
      "Blink SDK was successfully constructed\n"
     ]
    },
    {
     "ename": "OSError",
     "evalue": "exception: access violation reading 0x00000000A9474878",
     "output_type": "error",
     "traceback": [
      "\u001b[1;31m---------------------------------------------------------------------------\u001b[0m",
      "\u001b[1;31mOSError\u001b[0m                                   Traceback (most recent call last)",
      "Cell \u001b[1;32mIn[1], line 57\u001b[0m\n\u001b[0;32m     45\u001b[0m slm_lib\u001b[38;5;241m.\u001b[39mLoad_lut(sdk, \u001b[38;5;124mb\u001b[39m\u001b[38;5;124m\"\u001b[39m\u001b[38;5;124mCOM12\u001b[39m\u001b[38;5;124m\"\u001b[39m, lut)\n\u001b[0;32m     46\u001b[0m \u001b[38;5;66;03m# print(err2)\u001b[39;00m\n\u001b[0;32m     47\u001b[0m \n\u001b[0;32m     48\u001b[0m \n\u001b[1;32m   (...)\u001b[0m\n\u001b[0;32m     55\u001b[0m \n\u001b[0;32m     56\u001b[0m \u001b[38;5;66;03m# Always call Delete_SDK before exiting\u001b[39;00m\n\u001b[1;32m---> 57\u001b[0m \u001b[43mslm_lib\u001b[49m\u001b[38;5;241;43m.\u001b[39;49m\u001b[43mDelete_SDK\u001b[49m\u001b[43m(\u001b[49m\u001b[43msdk\u001b[49m\u001b[43m)\u001b[49m\n",
      "\u001b[1;31mOSError\u001b[0m: exception: access violation reading 0x00000000A9474878"
     ]
    }
   ],
   "source": [
    "# Example usage of Blink_SDK_C.dll\n",
    "# Meadowlark Optics Spatial Light Modulators\n",
    "# March 2 2015\n",
    "\n",
    "import os\n",
    "from ctypes import *\n",
    "from scipy import misc\n",
    "from time import sleep\n",
    "import numpy as np\n",
    "\n",
    "# Load the DLL\n",
    "# BlinkHdmiSdk.dll, HdmiDisplay.dll, freeglut.dll and glew64/32.dll\n",
    "# should all be located in the same directory as the program referencing the\n",
    "# library\n",
    "cdll.LoadLibrary(\"C:\\\\Program Files\\\\Meadowlark Optics\\\\Blink 1920 HDMI\\\\SDK\\\\BlinkHdmiSdk\")\n",
    "slm_lib = CDLL(\"BlinkHdmiSdk\")\n",
    "\n",
    "# Path to this example and the files it references\n",
    "# Remember to escape the backslash\n",
    "path = \"C:\\\\Program Files\\\\Meadowlark Optics\\\\Blink 1920 HDMI\\\\Image Files\"\n",
    "lut_file = \"C:\\\\Program Files\\\\Meadowlark Optics\\\\Blink 1920 HDMI\\\\LUT Files\\\\linear2040.blt\"\n",
    "com_port = \"COM12\"\n",
    "\n",
    "# Arrays for image data\n",
    "# mlo_image = misc.imread(os.path.join(path, \"mlo.bmp\"), flatten = 0, mode = 'RGB')\n",
    "# moon_image = misc.imread(os.path.join(path, \"half_wedge.bmp\"), flatten = 0, mode = 'RGB')\n",
    "\n",
    "# Array for LUT data\n",
    "lut = (c_ushort * 256)()\n",
    "# Lut_array = lut()\n",
    "# Call the Create_SDK constructor\n",
    "# Returns a handle that's passed to subsequent SDK calls\n",
    "sdk = slm_lib.Create_SDK()\n",
    "\n",
    "print (\"Blink SDK was successfully constructed\")\n",
    "\n",
    "# Read the lookup table into memory\n",
    "# slm_lib.Read_lut(sdk, lut_file, lut)\n",
    "# test=np.arange(0,2040,256)\n",
    "test=np.arange(0,2048,(2048//(256-1)))\n",
    "for i in range(256):\n",
    "    lut[i]=test[i]\n",
    "# print(err1)\n",
    "# Load the lookup table to the controller\n",
    "slm_lib.Load_lut(sdk, b\"COM12\", lut)\n",
    "# print(err2)\n",
    "\n",
    "\n",
    "# # Loop between our ramp images\n",
    "# for i in range(0, 10):\n",
    "#     slm_lib.Write_image(sdk, mlo_image.ctypes.data_as(POINTER(c_ubyte)))\n",
    "#     sleep(0.5) # This is in seconds\n",
    "#     slm_lib.Write_image(sdk, moon_image.ctypes.data_as(POINTER(c_ubyte)))\n",
    "#     sleep(0.5) # This is in seconds\n",
    "\n",
    "# Always call Delete_SDK before exiting\n",
    "slm_lib.Delete_SDK(sdk)"
   ]
  },
  {
   "cell_type": "code",
   "execution_count": 30,
   "metadata": {},
   "outputs": [
    {
     "name": "stdout",
     "output_type": "stream",
     "text": [
      "-2138402896\n"
     ]
    }
   ],
   "source": [
    "print(sdk)"
   ]
  },
  {
   "cell_type": "markdown",
   "metadata": {},
   "source": [
    "# ignore everything below this"
   ]
  },
  {
   "cell_type": "code",
   "execution_count": 3,
   "metadata": {},
   "outputs": [
    {
     "name": "stdout",
     "output_type": "stream",
     "text": [
      "1\n"
     ]
    }
   ],
   "source": [
    "Comport=\"COM13\"\n",
    "LutFile='C:\\\\Program Files\\\\Meadowlark Optics\\\\Blink 1920 HDMI\\\\LUT Files\\\\linear2040.blt'\n",
    "ErrorCode=slm_lib.Load_lut(Comport.encode('utf-8') ,LutFile.encode('utf-8'))\n",
    "print(ErrorCode)\n",
    "\n",
    "slmTemp=slm_lib.Get_SLMTemp(Comport.encode('utf-8'))\n",
    "print('SLMTemp= ',slmTemp)\n",
    "\n",
    "slmCGVolt=slm_lib.Get_SLMVCom(Comport.encode('utf-8'))\n",
    "print('Cover Glass Voltage= ',slmCGVolt)"
   ]
  },
  {
   "cell_type": "code",
   "execution_count": 10,
   "metadata": {},
   "outputs": [
    {
     "name": "stdout",
     "output_type": "stream",
     "text": [
      "-1.0\n"
     ]
    }
   ],
   "source": [
    "slmTemp=slm_lib.Get_SLMTemp(b\"COM7\")\n",
    "print(slmTemp)"
   ]
  },
  {
   "cell_type": "code",
   "execution_count": 11,
   "metadata": {},
   "outputs": [
    {
     "name": "stdout",
     "output_type": "stream",
     "text": [
      "c_ulong(1152)\n",
      "c_ulong(1152)\n",
      "c_ulong(1)\n"
     ]
    }
   ],
   "source": [
    "height = c_uint(slm_lib.Get_Height(\"COM6\"));\n",
    "print(height)\n",
    "width = c_uint(slm_lib.Get_Width());\n",
    "depth = c_uint(slm_lib.Get_Depth());\n",
    "print(height)\n",
    "\n",
    "ComPort=c_uint(slm_lib.Get_COMFound());\n",
    "print(ComPort)"
   ]
  },
  {
   "cell_type": "code",
   "execution_count": null,
   "metadata": {},
   "outputs": [],
   "source": []
  },
  {
   "cell_type": "code",
   "execution_count": 7,
   "metadata": {},
   "outputs": [],
   "source": [
    "success = slm_lib.Load_lut(\"C:\\\\Program Files\\\\Meadowlark Optics\\\\Blink 1920 HDMI\\\\LUT Files\\\\19x12_8bit_linearVoltage.lut\");"
   ]
  },
  {
   "cell_type": "code",
   "execution_count": 8,
   "metadata": {},
   "outputs": [
    {
     "name": "stdout",
     "output_type": "stream",
     "text": [
      "1\n"
     ]
    }
   ],
   "source": [
    "print(success)"
   ]
  },
  {
   "cell_type": "code",
   "execution_count": 11,
   "metadata": {},
   "outputs": [
    {
     "name": "stdout",
     "output_type": "stream",
     "text": [
      "c_float(1.0)\n"
     ]
    }
   ],
   "source": [
    "# test=slm_lib.Get_COMFound()\n",
    "temp=c_float(slm_lib.Get_SLMTemp())\n",
    "print(temp)\n",
    "# print(slm_lib.Get_SLMTemp())\n",
    "# print(slm_lib.Get_COMFound())\n",
    "# print(slm_lib.Get_SLMFound())\n",
    "\n"
   ]
  },
  {
   "cell_type": "code",
   "execution_count": 10,
   "metadata": {},
   "outputs": [
    {
     "name": "stdout",
     "output_type": "stream",
     "text": [
      "1\n"
     ]
    }
   ],
   "source": [
    "print(slm_lib.Get_SLMVCom())"
   ]
  },
  {
   "cell_type": "code",
   "execution_count": 8,
   "metadata": {},
   "outputs": [],
   "source": [
    "# Always call Delete_SDK before exiting\n",
    "slm_lib.Delete_SDK();"
   ]
  },
  {
   "cell_type": "code",
   "execution_count": 18,
   "metadata": {},
   "outputs": [
    {
     "name": "stdout",
     "output_type": "stream",
     "text": [
      "test\n",
      "LoadLUT Failed\n"
     ]
    }
   ],
   "source": [
    "\n",
    "#***you should replace linear.LUT with your custom LUT file***\n",
    "#but for now open a generic LUT that linearly maps input graylevels to output voltages\n",
    "#***Using linear.LUT does NOT give a linear phase response***\n",
    "success = 0;\n",
    "if height.value == 1152:\n",
    "    print('test')\n",
    "    \n",
    "    # success = slm_lib.Load_lut(\"C:\\\\Program Files\\\\Meadowlark Optics\\\\Blink 1920 HDMI\\\\LUT Files\\\\1920x1152_linearVoltage.lut\");\n",
    "    success = slm_lib.Load_lut(\"E:\\\\QuditsLab\\\\linear2048.lut\");\n",
    "\n",
    "\n",
    "if (height.value == 1200)and(depth.value == 8):\n",
    "    print('test2')\n",
    "    success = slm_lib.Load_lut(\"C:\\\\Program Files\\\\Meadowlark Optics\\\\Blink 1920 HDMI\\\\LUT Files\\\\19x12_8bit_linearVoltage.lut\");\n",
    "if (height.value == 1200)and(depth.value == 10):\n",
    "    print('test3')\n",
    "    success = slm_lib.Load_lut(\"C:\\\\Program Files\\\\Meadowlark Optics\\\\Blink 1920 HDMI\\\\LUT Files\\\\19x12_10bit_linearVoltage.lut\");\n",
    "\n",
    "if success > 0: \n",
    "    print (\"LoadLUT Successful\")\t\n",
    "else:\n",
    "\tprint(\"LoadLUT Failed\")\t"
   ]
  },
  {
   "cell_type": "code",
   "execution_count": null,
   "metadata": {},
   "outputs": [],
   "source": [
    "\n",
    "\n",
    "\t\t\n",
    "# Create two vectors to hold values for two SLM images\n",
    "ImageOne = numpy.empty([width.value*height.value*bytpesPerPixel], numpy.uint8, 'C');\n",
    "ImageTwo = numpy.empty([width.value*height.value*bytpesPerPixel], numpy.uint8, 'C');\n",
    "\n",
    "# Create a blank vector to hold the wavefront correction\n",
    "WFC = numpy.empty([width.value*height.value*bytpesPerPixel], numpy.uint8, 'C');\n",
    "\n",
    "# Generate phase gradients\n",
    "VortexCharge = 5;\n",
    "image_lib.Generate_LG(ImageOne.ctypes.data_as(POINTER(c_ubyte)), WFC.ctypes.data_as(POINTER(c_ubyte)), width.value, height.value, depth.value, VortexCharge, center_x.value, center_y.value, 0, RGB);\n",
    "VortexCharge = 3;\n",
    "image_lib.Generate_LG(ImageTwo.ctypes.data_as(POINTER(c_ubyte)), WFC.ctypes.data_as(POINTER(c_ubyte)), width.value, height.value, depth.value, VortexCharge, center_x.value, center_y.value, 0, RGB);\n",
    "\n",
    "# Loop between our images\n",
    "for x in range(6):\n",
    "    slm_lib.Write_image(ImageOne.ctypes.data_as(POINTER(c_ubyte)), is_eight_bit_image);\n",
    "    sleep(1.0); # This is in seconds\n",
    "    slm_lib.Write_image(ImageTwo.ctypes.data_as(POINTER(c_ubyte)), is_eight_bit_image);\n",
    "    sleep(1.0); # This is in seconds\n",
    "\n",
    "# Always call Delete_SDK before exiting\n",
    "slm_lib.Delete_SDK();"
   ]
  },
  {
   "cell_type": "markdown",
   "metadata": {},
   "source": [
    "# This is just going to go and grab the lut file this is for an older version of the SDK"
   ]
  },
  {
   "cell_type": "code",
   "execution_count": 1,
   "metadata": {},
   "outputs": [
    {
     "name": "stdout",
     "output_type": "stream",
     "text": [
      "Blink SDK was successfully constructed\n"
     ]
    },
    {
     "ename": "OSError",
     "evalue": "exception: access violation reading 0x00000000DC064180",
     "output_type": "error",
     "traceback": [
      "\u001b[1;31m---------------------------------------------------------------------------\u001b[0m",
      "\u001b[1;31mOSError\u001b[0m                                   Traceback (most recent call last)",
      "Cell \u001b[1;32mIn[1], line 40\u001b[0m\n\u001b[0;32m     37\u001b[0m slm_lib\u001b[38;5;241m.\u001b[39mRead_lut(sdk, lut_file, lut)\n\u001b[0;32m     39\u001b[0m \u001b[38;5;66;03m# Load the lookup table to the controller\u001b[39;00m\n\u001b[1;32m---> 40\u001b[0m \u001b[43mslm_lib\u001b[49m\u001b[38;5;241;43m.\u001b[39;49m\u001b[43mLoad_lut\u001b[49m\u001b[43m(\u001b[49m\u001b[43msdk\u001b[49m\u001b[43m,\u001b[49m\u001b[43m \u001b[49m\u001b[43mcom_port\u001b[49m\u001b[43m,\u001b[49m\u001b[43m \u001b[49m\u001b[43mlut\u001b[49m\u001b[43m)\u001b[49m\n",
      "\u001b[1;31mOSError\u001b[0m: exception: access violation reading 0x00000000DC064180"
     ]
    }
   ],
   "source": [
    "# Example usage of Blink_SDK_C.dll\n",
    "# Meadowlark Optics Spatial Light Modulators\n",
    "# March 2 2015\n",
    "\n",
    "import os\n",
    "from ctypes import *\n",
    "from scipy import misc\n",
    "from time import sleep\n",
    "\n",
    "# Load the DLL\n",
    "# BlinkHdmiSdk.dll, HdmiDisplay.dll, freeglut.dll and glew64/32.dll\n",
    "# should all be located in the same directory as the program referencing the\n",
    "# library\n",
    "cdll.LoadLibrary(\"C:\\\\Program Files\\\\Meadowlark Optics\\\\Blink 1920 HDMI\\\\SDK\\\\BlinkHdmiSdk\")\n",
    "slm_lib = CDLL(\"BlinkHdmiSdk\")\n",
    "\n",
    "# Path to this example and the files it references\n",
    "# Remember to escape the backslash\n",
    "path = \"C:\\\\Program Files\\\\Meadowlark Optics\\\\Blink 1920 HDMI\\\\Image Files\"\n",
    "lut_file = \"C:\\\\Program Files\\\\Meadowlark Optics\\\\Blink 1920 HDMI\\\\LUT Files\\\\linear.blt\"\n",
    "com_port = \"COM6\"\n",
    "\n",
    "# Arrays for image data\n",
    "# mlo_image = misc.imread(os.path.join(path, \"mlo.bmp\"), flatten = 0, mode = 'RGB')\n",
    "# moon_image = misc.imread(os.path.join(path, \"half_wedge.bmp\"), flatten = 0, mode = 'RGB')\n",
    "\n",
    "# Array for LUT data\n",
    "lut = (c_ushort * 256)()\n",
    "\n",
    "# Call the Create_SDK constructor\n",
    "# Returns a handle that's passed to subsequent SDK calls\n",
    "sdk = slm_lib.Create_SDK()\n",
    "\n",
    "print (\"Blink SDK was successfully constructed\")\n",
    "\n",
    "# Read the lookup table into memory\n",
    "slm_lib.Read_lut(sdk, lut_file, lut)\n",
    "\n",
    "# Load the lookup table to the controller\n",
    "slm_lib.Load_lut(sdk, com_port, lut)\n",
    "\n",
    "# Loop between our ramp images\n",
    "# for i in range(0, 10):\n",
    "#     slm_lib.Write_image(sdk, mlo_image.ctypes.data_as(POINTER(c_ubyte)))\n",
    "#     sleep(0.5) # This is in seconds\n",
    "#     slm_lib.Write_image(sdk, moon_image.ctypes.data_as(POINTER(c_ubyte)))\n",
    "#     sleep(0.5) # This is in seconds\n",
    "\n",
    "# Always call Delete_SDK before exiting"
   ]
  },
  {
   "cell_type": "code",
   "execution_count": 4,
   "metadata": {},
   "outputs": [
    {
     "ename": "OSError",
     "evalue": "exception: access violation reading 0x00000000DC064180",
     "output_type": "error",
     "traceback": [
      "\u001b[1;31m---------------------------------------------------------------------------\u001b[0m",
      "\u001b[1;31mOSError\u001b[0m                                   Traceback (most recent call last)",
      "Cell \u001b[1;32mIn[4], line 5\u001b[0m\n\u001b[0;32m      1\u001b[0m \u001b[38;5;66;03m# Read the lookup table into memory\u001b[39;00m\n\u001b[0;32m      2\u001b[0m \u001b[38;5;66;03m# slm_lib.Read_lut(sdk, lut_file, lut)\u001b[39;00m\n\u001b[0;32m      3\u001b[0m \n\u001b[0;32m      4\u001b[0m \u001b[38;5;66;03m# # Load the lookup table to the controller\u001b[39;00m\n\u001b[1;32m----> 5\u001b[0m \u001b[43mslm_lib\u001b[49m\u001b[38;5;241;43m.\u001b[39;49m\u001b[43mLoad_lut\u001b[49m\u001b[43m(\u001b[49m\u001b[43msdk\u001b[49m\u001b[43m,\u001b[49m\u001b[43m \u001b[49m\u001b[43mcom_port\u001b[49m\u001b[43m,\u001b[49m\u001b[43m \u001b[49m\u001b[43mlut\u001b[49m\u001b[43m)\u001b[49m\n",
      "\u001b[1;31mOSError\u001b[0m: exception: access violation reading 0x00000000DC064180"
     ]
    },
    {
     "ename": "",
     "evalue": "",
     "output_type": "error",
     "traceback": [
      "\u001b[1;31mThe Kernel crashed while executing code in the the current cell or a previous cell. Please review the code in the cell(s) to identify a possible cause of the failure. Click <a href='https://aka.ms/vscodeJupyterKernelCrash'>here</a> for more info. View Jupyter <a href='command:jupyter.viewOutput'>log</a> for further details."
     ]
    }
   ],
   "source": [
    "# Read the lookup table into memory\n",
    "# slm_lib.Read_lut(sdk, lut_file, lut)\n",
    "\n",
    "# # Load the lookup table to the controller\n",
    "slm_lib.Load_lut(sdk, com_port, lut)"
   ]
  },
  {
   "cell_type": "code",
   "execution_count": 3,
   "metadata": {},
   "outputs": [
    {
     "name": "stdout",
     "output_type": "stream",
     "text": [
      "<__main__.c_ushort_Array_256 object at 0x0000019ADCE965C0>\n"
     ]
    }
   ],
   "source": [
    "print(lut)"
   ]
  },
  {
   "cell_type": "code",
   "execution_count": null,
   "metadata": {},
   "outputs": [],
   "source": [
    "slm_lib.Delete_SDK(sdk)\n"
   ]
  }
 ],
 "metadata": {
  "kernelspec": {
   "display_name": "base",
   "language": "python",
   "name": "python3"
  },
  "language_info": {
   "codemirror_mode": {
    "name": "ipython",
    "version": 3
   },
   "file_extension": ".py",
   "mimetype": "text/x-python",
   "name": "python",
   "nbconvert_exporter": "python",
   "pygments_lexer": "ipython3",
   "version": "3.11.4"
  },
  "orig_nbformat": 4
 },
 "nbformat": 4,
 "nbformat_minor": 2
}
