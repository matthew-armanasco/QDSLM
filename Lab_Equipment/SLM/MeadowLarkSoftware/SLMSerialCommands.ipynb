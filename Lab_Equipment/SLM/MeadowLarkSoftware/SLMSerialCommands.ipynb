{
 "cells": [
  {
   "cell_type": "code",
   "execution_count": 5,
   "metadata": {},
   "outputs": [],
   "source": [
    "# ==Need to set the Putty enviroment correctly\n",
    "# 115200\n",
    "\n",
    "# Change SLM to Green\n",
    "# s 000c 64804d40 (0110 0100 1000 0000 0100 1101 0100 0000) Delay 12\n",
    "\n",
    "# Change the delay on SLM For colour red\n",
    "# Delay   Command (hex)                                 Binary\n",
    "\n",
    "# 0\t      s 000c 04804d10                               0000 0100 1000 0000 0100 1101 0001 0000\n",
    "# 4\t      s 000c 24804d10 (7.217V, 30.322C) Seems good  0010 0100 1000 0000 0100 1101 0001 0000\n",
    "# 6\t      s 000c 34804d10 (Default?)                    0011 0100 1000 0000 0100 1101 0001 0000\n",
    "# 8\t      s 000c 44804d10                               0100 0100 1000 0000 0100 1101 0001 0000\n",
    "# 10\t    s 000c 54804d10                               0101 0100 1000 0000 0100 1101 0001 0000\n",
    "# 12\t    s 000c 64804d10                               0110 0100 1000 0000 0100 1101 0001 0000\n",
    "# 14\t    s 000c 74804d10                               0111 0100 1000 0000 0100 1101 0001 0000\n",
    "# (Pushing it this way delay seems to make Grey 50 less noisy, 7.158V)\n",
    "\n",
    "\n",
    "# Change the delay on SLM For colour green\n",
    "# Delay   Command (hex)                                 Binary\n",
    "\n",
    "# 0\t      s 000c 0480 4D50                               0000 0100 1000 0000 0100 1101 0101 0000\n",
    "# 4\t      s 000c 2480 4D50 (7.217V, 30.322C) Seems good  0010 0100 1000 0000 0100 1101 0101 0000\n",
    "# 6\t      s 000c 34804d50 (Default?)                    0011 0100 1000 0000 0100 1101 0101 0000\n",
    "# 8\t      s 000c 44804d50                               0100 0100 1000 0000 0100 1101 0101 0000\n",
    "# 10\t    s 000c 54804d50                               0101 0100 1000 0000 0100 1101 0101 0000\n",
    "# 12\t    s 000c 64804d50                               0110 0100 1000 0000 0100 1101 0101 0000\n",
    "# 14\t    s 000c 74804d50                               0111 0100 1000 0000 0100 1101 0101 0000\n",
    "# (Pushing it this way delay seems to make Grey 50 less noisy, 7.158V)\n",
    "\n",
    "\n",
    "# SLM_5441 Default 000c settings\n",
    "#  g 000c == 7480 4D10 (hex)    0111 0100 1000 0000 0100 1101 0001 0000 Binary\n",
    "\n",
    "# SLM_5441 best 000c settings\n",
    "# s 000c 74804d50\n",
    "\n",
    "\n",
    "\n",
    "\n",
    "\n",
    "# COM port 3 (was 5)\n",
    "# SLM  Voltage level\n",
    "# Input value => 6.49\n",
    "# Read value => 6.455-6.461\n",
    "\n",
    "# COM port 4 (was 3)\n",
    "# SLM  Voltage level\n",
    "# Input value => 7.02\n",
    "# Read value => 6.997-7.003?"
   ]
  },
  {
   "cell_type": "code",
   "execution_count": 1,
   "metadata": {},
   "outputs": [],
   "source": [
    "import serial"
   ]
  },
  {
   "cell_type": "markdown",
   "metadata": {},
   "source": [
    "# Red"
   ]
  },
  {
   "cell_type": "code",
   "execution_count": 2,
   "metadata": {},
   "outputs": [
    {
     "name": "stdout",
     "output_type": "stream",
     "text": [
      "s 000c 74804d10\n",
      "\n"
     ]
    }
   ],
   "source": [
    "import serial\n",
    "ser = serial.Serial(\"COM3\", 115200) # open the serial port with the given port name and baud rate\n",
    "ser.write(\"s000c74804d10\".encode()) # write the command as a byte string\n",
    "#  s 000c 74804d50\n",
    "# ser.write(\"s000c64804d50 \".encode()) # write the command as a byte string\n",
    "# ser.write(\"s000c64804d10\".encode()) # write the command as a byte string\n",
    "# ser.write(\"s000c64804d90\".encode())  \n",
    "# ser.write(\"g000c\".encode())\n",
    "# ser.write(\"s000c24804D50\".encode()) # write the command as a byte string\n",
    "\n",
    "response = ser.readline().decode() # Read the response from the serial port\n",
    "print(response)\n",
    "ser.close() # close the serial port"
   ]
  },
  {
   "cell_type": "markdown",
   "metadata": {},
   "source": [
    "# Green"
   ]
  },
  {
   "cell_type": "code",
   "execution_count": 7,
   "metadata": {},
   "outputs": [
    {
     "name": "stdout",
     "output_type": "stream",
     "text": [
      "s 000c 54804d10\n",
      "\n"
     ]
    }
   ],
   "source": [
    "import serial\n",
    "ser = serial.Serial(\"COM5\", 115200) # open the serial port with the given port name and baud rate\n",
    "ser.write(\"s000c54804d10\".encode())#Red\n",
    "# ser.write(\"s000c74804d50\".encode()) # write the command as a byte string\n",
    "# ser.write(\"s000c64804d50 \".encode()) # write the command as a byte string\n",
    "\n",
    "# ser.write(\"s000c64804d50\".encode()) # write the command as a byte string\n",
    "#  s 000c 2480 4D50\n",
    "# ser.write(\"s000c34804d50\".encode()) # write the command as a byte string\n",
    "# s 000c 0480 4D50 \n",
    "# ser.write(\"s000c04804D50 \".encode()) # write the command as a byte string\n",
    "# s 000c 44804d50\n",
    "# ser.write(\"s000c44804d50 \".encode())#Green\n",
    "# ser.write(\"s000c24804D50\".encode()) # write the command as a byte string\n",
    "\n",
    "\n",
    "# ser.write(\"s000c74804d50\".encode()) # write the command as a byte string\n",
    "\n",
    "\n",
    "# ser.write(\"g000c\".encode())\n",
    "# ser.write(\"s000c24804D50\".encode()) # write the command as a byte string\n",
    "\n",
    "response = ser.readline().decode() # Read the response from the serial port\n",
    "print(response)\n",
    "ser.close() # close the serial port"
   ]
  },
  {
   "cell_type": "code",
   "execution_count": null,
   "metadata": {},
   "outputs": [],
   "source": []
  }
 ],
 "metadata": {
  "kernelspec": {
   "display_name": "base",
   "language": "python",
   "name": "python3"
  },
  "language_info": {
   "codemirror_mode": {
    "name": "ipython",
    "version": 3
   },
   "file_extension": ".py",
   "mimetype": "text/x-python",
   "name": "python",
   "nbconvert_exporter": "python",
   "pygments_lexer": "ipython3",
   "version": "3.11.4"
  },
  "orig_nbformat": 4
 },
 "nbformat": 4,
 "nbformat_minor": 2
}
