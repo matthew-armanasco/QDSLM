{
 "cells": [
  {
   "cell_type": "code",
   "execution_count": 1,
   "metadata": {},
   "outputs": [],
   "source": [
    "# -*- coding: utf-8 -*-\n",
    "\"\"\"\n",
    "Created on Thu Jun 29 13:08:39 2023\n",
    "\n",
    "@author: c.hages\n",
    "\"\"\"\n",
    "\n",
    "import sys\n",
    "import os\n",
    "import ctypes\n",
    "\n",
    "import numpy as np\n",
    "import matplotlib.pyplot as plt\n",
    "\n",
    "from qcam import Camera\n",
    "from mono import Mono\n",
    "\n",
    "from calibration import get_position, to_wavelength, to_raman"
   ]
  },
  {
   "cell_type": "code",
   "execution_count": 9,
   "metadata": {},
   "outputs": [
    {
     "ename": "",
     "evalue": "",
     "output_type": "error",
     "traceback": [
      "\u001b[1;31mThe Kernel crashed while executing code in the current cell or a previous cell. \n",
      "\u001b[1;31mPlease review the code in the cell(s) to identify a possible cause of the failure. \n",
      "\u001b[1;31mClick <a href='https://aka.ms/vscodeJupyterKernelCrash'>here</a> for more info. \n",
      "\u001b[1;31mView Jupyter <a href='command:jupyter.viewOutput'>log</a> for further details."
     ]
    }
   ],
   "source": [
    "camera.close_camera()\n",
    "camera.release_driver()"
   ]
  },
  {
   "cell_type": "code",
   "execution_count": 2,
   "metadata": {},
   "outputs": [
    {
     "name": "stdout",
     "output_type": "stream",
     "text": [
      "Number of cameras found: 1\n",
      "Camera 1:\n",
      "\tcameraId: 268435456\n",
      "\tcameraType: 6\n",
      "\tuniqueId: 8294\n",
      "\tisOpen: 0\n",
      "Camera opened with handle 1992996653984\n"
     ]
    }
   ],
   "source": [
    "camera = Camera()\n",
    "cameraOpened = camera.connect_to_camera()\n",
    "# mono = Mono()"
   ]
  },
  {
   "cell_type": "code",
   "execution_count": 3,
   "metadata": {},
   "outputs": [
    {
     "name": "stdout",
     "output_type": "stream",
     "text": [
      "Camera model: Retiga 1350B\n",
      "Failed to retrieve value of parameter Blackout Mode\n",
      "Failed to retrieve value of parameter High Sensitivity Mode\n",
      "[Bit Depth: 12, Cooled: 1, Image Width: 1392, Image Height: 1040, Image Size: 1447680, CCD Width: 1392, CCD Height: 1040, Regulated Cooling: 0, Regulated Cooling Lock: 0, High Sensitivity Mode: 0, Blackout Mode: 0]\n",
      "[Gain: 493, Offset: 2048, Exposure: 16384, Binning: 1, Cooler Active: 1, Image Format: 2, ROI X: 0, ROI Y: 0, ROI Width: 1392, ROI Height: 1040, Normalized Gain: 1000000, Post Processing: 0, Blackout Mode: None, High Sensitivity Mode: None]\n",
      "For parameter Gain: min_value is 115, max_value is 4095\n",
      "For parameter Offset: min_value is 0, max_value is 4095\n",
      "For parameter Exposure: min_value is 10, max_value is 1073741823\n",
      "For parameter Binning: min_value is 1, max_value is 8\n",
      "For parameter Cooler Active: min_value is 0, max_value is 1\n",
      "For parameter Image Format: min_value is 0, max_value is 12\n",
      "For parameter ROI X: min_value is 0, max_value is 1391\n",
      "For parameter ROI Y: min_value is 0, max_value is 1039\n",
      "For parameter ROI Width: min_value is 1, max_value is 1392\n",
      "For parameter ROI Height: min_value is 1, max_value is 1040\n",
      "For parameter Normalized Gain: min_value is 700000, max_value is 30000000\n",
      "For parameter Post Processing: min_value is 0, max_value is 1\n",
      "For parameter Blackout Mode: min_value is 0, max_value is 1\n",
      "For parameter High Sensitivity Mode: min_value is 0, max_value is 1\n",
      "Value 1 out of range for parameter Exposure (min: 10, max: 1073741823)\n",
      "Parameter Gain set to 1023\n",
      "Parameter Binning set to 2\n",
      "Failed to retrieve value of parameter Blackout Mode\n",
      "Failed to retrieve value of parameter High Sensitivity Mode\n",
      "[Gain: 1023, Offset: 2048, Exposure: 16384, Binning: 2, Cooler Active: 1, Image Format: 2, ROI X: 0, ROI Y: 0, ROI Width: 696, ROI Height: 520, Normalized Gain: 1650000, Post Processing: 0, Blackout Mode: None, High Sensitivity Mode: None]\n"
     ]
    }
   ],
   "source": [
    "result, model = camera.get_camera_model()\n",
    "if result != 0:  # Replace with your actual success value\n",
    "    print(f\"Failed to get camera model with error {result}\")\n",
    "else:\n",
    "    print(f\"Camera model: {model}\")\n",
    "\n",
    "# Display Info & Parameters\n",
    "camera.setup_camera()\n",
    "print(list(camera.info.values()))\n",
    "print(list(camera.parameters.values()))\n",
    "for name, param in camera.parameters.items():\n",
    "    print(f\"For parameter {name}: min_value is {param.min_value}, max_value is {param.max_value}\")\n",
    "\n",
    "# bkg = np.loadtxt(\"bkg.txt\").astype(int)[:, 1]\n",
    "# out_path = r\".\"\n",
    "\n",
    "camera.set_camera_param(\"Exposure\", int(1))  # replace 1000 with the desired exposure value\n",
    "camera.set_camera_param(\"Gain\", 1023)  # replace 1000 with the desired exposure value\n",
    "camera.set_camera_param(\"Binning\", 2)  # replace 1000 with the desired exposure value\n",
    "camera.retrieve_parameters()\n",
    "print(list(camera.parameters.values()))"
   ]
  },
  {
   "cell_type": "code",
   "execution_count": 4,
   "metadata": {},
   "outputs": [],
   "source": [
    "def frame_to_image(frame):\n",
    "    \"\"\"\n",
    "    Convert frame buffer to image array\n",
    "    Windows doesn't like it (i.e. throws a fatal exception)\n",
    "    when this takes place in qcam.py for some reason!\n",
    "    \"\"\"\n",
    "    # First we need to cast the void pointer to a pointer to a char array\n",
    "    pBuffer = ctypes.cast(frame.pBuffer, ctypes.POINTER(ctypes.c_char * frame.size))\n",
    "    \n",
    "    # Then we create a numpy array from the buffer\n",
    "    image_data = np.frombuffer(pBuffer.contents, dtype=np.uint8)\n",
    "    \n",
    "    # Now reshape it into the correct shape\n",
    "    image = image_data.reshape(frame.height, frame.width)\n",
    "    return image"
   ]
  },
  {
   "cell_type": "code",
   "execution_count": 8,
   "metadata": {},
   "outputs": [
    {
     "name": "stdout",
     "output_type": "stream",
     "text": [
      "Parameter Exposure set to 5000000\n",
      "0\n"
     ]
    },
    {
     "data": {
      "text/plain": [
       "<matplotlib.image.AxesImage at 0x1d00e883cd0>"
      ]
     },
     "execution_count": 8,
     "metadata": {},
     "output_type": "execute_result"
    },
    {
     "data": {
      "image/png": "[encoded data removed]",
      "text/plain": [
       "<Figure size 640x480 with 1 Axes>"
      ]
     },
     "metadata": {},
     "output_type": "display_data"
    }
   ],
   "source": [
    "camera.set_camera_param(\"Exposure\", int(5e6)) \n",
    "# frame = camera.grab_frame()\n",
    "frame = camera.grab_frameSingle()\n",
    "\n",
    "image = frame_to_image(frame)\n",
    "plt.imshow(image,cmap='gray')"
   ]
  },
  {
   "cell_type": "code",
   "execution_count": 18,
   "metadata": {},
   "outputs": [
    {
     "data": {
      "text/plain": [
       "(520, 696)"
      ]
     },
     "execution_count": 18,
     "metadata": {},
     "output_type": "execute_result"
    }
   ],
   "source": [
    "image.shape"
   ]
  },
  {
   "cell_type": "code",
   "execution_count": 22,
   "metadata": {},
   "outputs": [
    {
     "name": "stdout",
     "output_type": "stream",
     "text": [
      "Index of the maximum value: (251, 366)\n"
     ]
    }
   ],
   "source": []
  },
  {
   "cell_type": "code",
   "execution_count": 27,
   "metadata": {},
   "outputs": [
    {
     "data": {
      "text/plain": [
       "[<matplotlib.lines.Line2D at 0x16c4fad6860>]"
      ]
     },
     "execution_count": 27,
     "metadata": {},
     "output_type": "execute_result"
    },
    {
     "data": {
      "image/png": "[encoded data removed]",
      "text/plain": [
       "<Figure size 640x480 with 3 Axes>"
      ]
     },
     "metadata": {},
     "output_type": "display_data"
    }
   ],
   "source": [
    "# Find the index of the maximum value in the flattened array\n",
    "max_index_flat = np.argmax(image)\n",
    "# Convert the flattened index to 2D indices (row, column)\n",
    "max_index_2d = np.unravel_index(max_index_flat, image.shape)\n",
    "iXmax=max_index_2d[0]\n",
    "iYmax=max_index_2d[1]\n",
    "\n",
    "plt.figure()\n",
    "plt.subplot(1,3,1)\n",
    "plt.imshow(image,cmap='gray')\n",
    "plt.subplot(1,3,2)\n",
    "plt.plot(np.arange(image.shape[1]),image[iXmax,:])\n",
    "plt.subplot(1,3,3)\n",
    "plt.plot(image[:,iYmax],np.arange(image.shape[0]))\n",
    "\n"
   ]
  },
  {
   "cell_type": "code",
   "execution_count": null,
   "metadata": {},
   "outputs": [],
   "source": [
    "\n",
    "\n",
    "def frame_to_image(frame):\n",
    "    \"\"\"\n",
    "    Convert frame buffer to image array\n",
    "    Windows doesn't like it (i.e. throws a fatal exception)\n",
    "    when this takes place in qcam.py for some reason!\n",
    "    \"\"\"\n",
    "    # First we need to cast the void pointer to a pointer to a char array\n",
    "    pBuffer = ctypes.cast(frame.pBuffer, ctypes.POINTER(ctypes.c_char * frame.size))\n",
    "    \n",
    "    # Then we create a numpy array from the buffer\n",
    "    image_data = np.frombuffer(pBuffer.contents, dtype=np.uint8)\n",
    "    \n",
    "    # Now reshape it into the correct shape\n",
    "    image = image_data.reshape(frame.height, frame.width)\n",
    "    return image\n",
    "\n",
    "if __name__ == \"__main__\":\n",
    "    \n",
    "    try:\n",
    "        # Create a camera object\n",
    "        camera = Camera()\n",
    "        cameraOpened = camera.connect_to_camera()\n",
    "        mono = Mono()\n",
    "        \n",
    "        # =============================================================================\n",
    "        # Code to get/send paramters to Camera\n",
    "        # =============================================================================\n",
    "        \n",
    "        if cameraOpened:\n",
    "            result, model = camera.get_camera_model()\n",
    "            if result != 0:  # Replace with your actual success value\n",
    "                print(f\"Failed to get camera model with error {result}\")\n",
    "            else:\n",
    "                print(f\"Camera model: {model}\")\n",
    "    \n",
    "            # Display Info & Parameters\n",
    "            camera.setup_camera()\n",
    "            print(list(camera.info.values()))\n",
    "            print(list(camera.parameters.values()))\n",
    "            for name, param in camera.parameters.items():\n",
    "                print(f\"For parameter {name}: min_value is {param.min_value}, max_value is {param.max_value}\")\n",
    "\n",
    "            bkg = np.loadtxt(\"bkg.txt\").astype(int)[:, 1]\n",
    "            out_path = r\".\"\n",
    "\n",
    "            camera.set_camera_param(\"Exposure\", int(20 * 1e6))  # replace 1000 with the desired exposure value\n",
    "            camera.set_camera_param(\"Gain\", 1023)  # replace 1000 with the desired exposure value\n",
    "            camera.set_camera_param(\"Binning\", 2)  # replace 1000 with the desired exposure value\n",
    "            camera.retrieve_parameters()\n",
    "            print(list(camera.parameters.values()))\n",
    "            grating_no = 3\n",
    "            mono.set_grating(grating_no)\n",
    "            \n",
    "            y0 = 150\n",
    "            y1 = 300\n",
    "            \n",
    "            for r in np.arange(50, 600, 5):\n",
    "                print(r)\n",
    "                mono.set_raman_shift(r, 532)\n",
    "                frame = camera.grab_frame()\n",
    "                image = frame_to_image(frame)\n",
    "                \n",
    "                x = get_position(to_wavelength(r, w0=532), image.shape[1],\n",
    "                                 grating_no=grating_no, binning=2)\n",
    "                x = to_raman(x, w0=532)\n",
    "\n",
    "                integral = np.sum(image[y0:y1], axis=0).astype(int)\n",
    "                integral -= bkg\n",
    "\n",
    "\n",
    "                plt.figure(r)\n",
    "                plt.imshow(image, cmap='rainbow')\n",
    "                plt.axhline(y0, color='r')\n",
    "                plt.axhline(y1, color='r')\n",
    "                \n",
    "                plt.figure(r+1)\n",
    "                plt.plot(x, integral)\n",
    "                plt.ylabel(\"Counts\")\n",
    "                plt.xlabel(\"WL [nm]\")\n",
    "\n",
    "                np.savetxt(os.path.join(out_path, f\"{r}.txt\"), np.vstack((x, integral)).T, header=\"WL [nm]\\tCounts\", fmt='%.3f', delimiter=\"\\t\")\n",
    "                #np.savetxt(\"bkg.txt\", np.vstack((x, integral)).T, header=\"WL [nm]\\tCounts\", fmt=\"%.3f\", delimiter=\"\\t\")\n",
    "            # mono.set_wavelength(10)\n",
    "            # frame = camera.grab_frame()\n",
    "            # image = frame_to_image(frame)\n",
    "\n",
    "            # plt.figure(1)\n",
    "            # plt.imshow(image, cmap='rainbow')\n",
    "        \n",
    "    except SystemExit:\n",
    "        print(\"An error occurred, exiting...\")\n",
    "\n",
    "        \n",
    "    finally:\n",
    "        mono.close()\n",
    "        if cameraOpened:\n",
    "            # Close the camera\n",
    "            result = camera.close_camera()\n",
    "            if result != 0:  # Replace with your actual success value\n",
    "                print(f\"Camera closing failed with error {result}\")\n",
    "                sys.exit(1)     \n",
    "            print(\"Camera closed successfully\")\n",
    "        if 'camera' in locals():  # Check if camera was defined before trying to release the driver\n",
    "            camera.release_driver()\n",
    "            print(\"Driver released\")        "
   ]
  }
 ],
 "metadata": {
  "kernelspec": {
   "display_name": "Python10",
   "language": "python",
   "name": "python3"
  },
  "language_info": {
   "codemirror_mode": {
    "name": "ipython",
    "version": 3
   },
   "file_extension": ".py",
   "mimetype": "text/x-python",
   "name": "python",
   "nbconvert_exporter": "python",
   "pygments_lexer": "ipython3",
   "version": "3.10.12"
  }
 },
 "nbformat": 4,
 "nbformat_minor": 2
}
