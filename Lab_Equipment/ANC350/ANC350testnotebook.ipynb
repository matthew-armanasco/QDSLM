{
 "cells": [
  {
   "cell_type": "code",
   "execution_count": 5,
   "id": "1bea6692",
   "metadata": {},
   "outputs": [
    {
     "data": {
      "text/plain": [
       "1"
      ]
     },
     "execution_count": 5,
     "metadata": {},
     "output_type": "execute_result"
    }
   ],
   "source": [
    "from pylablib.devices import Attocube\n",
    "Attocube.get_usb_devices_number_ANC350()"
   ]
  },
  {
   "cell_type": "code",
   "execution_count": 6,
   "id": "a08d8b50",
   "metadata": {},
   "outputs": [
    {
     "ename": "AttocubeBackendError",
     "evalue": "backend exception: USBError(None, b'libusb0-dll:err [claim_interface] could not claim interface 0, win error: The requested resource is in use.\\r\\n') ('[Errno None] b'libusb0-dll:err [claim_interface] could not claim interface 0, win error: The requested resource is in use.\\r\\n'')",
     "output_type": "error",
     "traceback": [
      "\u001b[31m---------------------------------------------------------------------------\u001b[39m",
      "\u001b[31mUSBError\u001b[39m                                  Traceback (most recent call last)",
      "\u001b[36mFile \u001b[39m\u001b[32mc:\\Users\\Experiment\\.conda\\envs\\slm_py3p11_env\\Lib\\site-packages\\pylablib\\core\\devio\\comm_backend.py:34\u001b[39m, in \u001b[36mreraise.<locals>.wrapped\u001b[39m\u001b[34m(self, *args, **kwargs)\u001b[39m\n\u001b[32m     33\u001b[39m \u001b[38;5;28;01mtry\u001b[39;00m:\n\u001b[32m---> \u001b[39m\u001b[32m34\u001b[39m     \u001b[38;5;28;01mreturn\u001b[39;00m func(\u001b[38;5;28mself\u001b[39m,*args,**kwargs)\n\u001b[32m     35\u001b[39m \u001b[38;5;28;01mexcept\u001b[39;00m \u001b[38;5;28mself\u001b[39m.BackendError \u001b[38;5;28;01mas\u001b[39;00m exc:\n",
      "\u001b[36mFile \u001b[39m\u001b[32mc:\\Users\\Experiment\\.conda\\envs\\slm_py3p11_env\\Lib\\site-packages\\pylablib\\core\\devio\\comm_backend.py:1311\u001b[39m, in \u001b[36mPyUSBDeviceBackend.read\u001b[39m\u001b[34m(self, size, max_read_size)\u001b[39m\n\u001b[32m   1310\u001b[39m \u001b[38;5;28;01melse\u001b[39;00m:\n\u001b[32m-> \u001b[39m\u001b[32m1311\u001b[39m     result=\u001b[38;5;28mself\u001b[39m.instr.read(\u001b[38;5;28mself\u001b[39m.ep_read,size,timeout=\u001b[38;5;28mself\u001b[39m._timeout()).tobytes()\n\u001b[32m   1312\u001b[39m     \u001b[38;5;28;01mif\u001b[39;00m \u001b[38;5;28mlen\u001b[39m(result)!=size \u001b[38;5;129;01mand\u001b[39;00m \u001b[38;5;28mself\u001b[39m.check_read_size:\n",
      "\u001b[36mFile \u001b[39m\u001b[32mc:\\Users\\Experiment\\.conda\\envs\\slm_py3p11_env\\Lib\\site-packages\\usb\\core.py:1035\u001b[39m, in \u001b[36mDevice.read\u001b[39m\u001b[34m(self, endpoint, size_or_buffer, timeout)\u001b[39m\n\u001b[32m   1029\u001b[39m fn_map = {\n\u001b[32m   1030\u001b[39m             util.ENDPOINT_TYPE_BULK:backend.bulk_read,\n\u001b[32m   1031\u001b[39m             util.ENDPOINT_TYPE_INTR:backend.intr_read,\n\u001b[32m   1032\u001b[39m             util.ENDPOINT_TYPE_ISO:backend.iso_read\n\u001b[32m   1033\u001b[39m         }\n\u001b[32m-> \u001b[39m\u001b[32m1035\u001b[39m intf, ep = \u001b[38;5;28mself\u001b[39m._ctx.setup_request(\u001b[38;5;28mself\u001b[39m, endpoint)\n\u001b[32m   1036\u001b[39m fn = fn_map[util.endpoint_type(ep.bmAttributes)]\n",
      "\u001b[36mFile \u001b[39m\u001b[32mc:\\Users\\Experiment\\.conda\\envs\\slm_py3p11_env\\Lib\\site-packages\\usb\\core.py:113\u001b[39m, in \u001b[36msynchronized.<locals>.wrapper\u001b[39m\u001b[34m(self, *args, **kwargs)\u001b[39m\n\u001b[32m    112\u001b[39m     \u001b[38;5;28mself\u001b[39m.lock.acquire()\n\u001b[32m--> \u001b[39m\u001b[32m113\u001b[39m     \u001b[38;5;28;01mreturn\u001b[39;00m f(\u001b[38;5;28mself\u001b[39m, *args, **kwargs)\n\u001b[32m    114\u001b[39m \u001b[38;5;28;01mfinally\u001b[39;00m:\n",
      "\u001b[36mFile \u001b[39m\u001b[32mc:\\Users\\Experiment\\.conda\\envs\\slm_py3p11_env\\Lib\\site-packages\\usb\\core.py:234\u001b[39m, in \u001b[36m_ResourceManager.setup_request\u001b[39m\u001b[34m(self, device, endpoint)\u001b[39m\n\u001b[32m    233\u001b[39m intf, ep = \u001b[38;5;28mself\u001b[39m.get_interface_and_endpoint(device, endpoint_address)\n\u001b[32m--> \u001b[39m\u001b[32m234\u001b[39m \u001b[38;5;28mself\u001b[39m.managed_claim_interface(device, intf)\n\u001b[32m    235\u001b[39m \u001b[38;5;28;01mreturn\u001b[39;00m (intf, ep)\n",
      "\u001b[36mFile \u001b[39m\u001b[32mc:\\Users\\Experiment\\.conda\\envs\\slm_py3p11_env\\Lib\\site-packages\\usb\\core.py:113\u001b[39m, in \u001b[36msynchronized.<locals>.wrapper\u001b[39m\u001b[34m(self, *args, **kwargs)\u001b[39m\n\u001b[32m    112\u001b[39m     \u001b[38;5;28mself\u001b[39m.lock.acquire()\n\u001b[32m--> \u001b[39m\u001b[32m113\u001b[39m     \u001b[38;5;28;01mreturn\u001b[39;00m f(\u001b[38;5;28mself\u001b[39m, *args, **kwargs)\n\u001b[32m    114\u001b[39m \u001b[38;5;28;01mfinally\u001b[39;00m:\n",
      "\u001b[36mFile \u001b[39m\u001b[32mc:\\Users\\Experiment\\.conda\\envs\\slm_py3p11_env\\Lib\\site-packages\\usb\\core.py:180\u001b[39m, in \u001b[36m_ResourceManager.managed_claim_interface\u001b[39m\u001b[34m(self, device, intf)\u001b[39m\n\u001b[32m    179\u001b[39m \u001b[38;5;28;01mif\u001b[39;00m i \u001b[38;5;129;01mnot\u001b[39;00m \u001b[38;5;129;01min\u001b[39;00m \u001b[38;5;28mself\u001b[39m._claimed_intf:\n\u001b[32m--> \u001b[39m\u001b[32m180\u001b[39m     \u001b[38;5;28mself\u001b[39m.backend.claim_interface(\u001b[38;5;28mself\u001b[39m.handle, i)\n\u001b[32m    181\u001b[39m     \u001b[38;5;28mself\u001b[39m._claimed_intf.add(i)\n",
      "\u001b[36mFile \u001b[39m\u001b[32mc:\\Users\\Experiment\\.conda\\envs\\slm_py3p11_env\\Lib\\site-packages\\usb\\backend\\libusb0.py:537\u001b[39m, in \u001b[36m_LibUSB.claim_interface\u001b[39m\u001b[34m(self, dev_handle, intf)\u001b[39m\n\u001b[32m    535\u001b[39m \u001b[38;5;129m@methodtrace\u001b[39m(_logger)\n\u001b[32m    536\u001b[39m \u001b[38;5;28;01mdef\u001b[39;00m\u001b[38;5;250m \u001b[39m\u001b[34mclaim_interface\u001b[39m(\u001b[38;5;28mself\u001b[39m, dev_handle, intf):\n\u001b[32m--> \u001b[39m\u001b[32m537\u001b[39m     _check(_lib.usb_claim_interface(dev_handle, intf))\n",
      "\u001b[36mFile \u001b[39m\u001b[32mc:\\Users\\Experiment\\.conda\\envs\\slm_py3p11_env\\Lib\\site-packages\\usb\\backend\\libusb0.py:447\u001b[39m, in \u001b[36m_check\u001b[39m\u001b[34m(ret)\u001b[39m\n\u001b[32m    446\u001b[39m     \u001b[38;5;28;01mraise\u001b[39;00m USBTimeoutError(errmsg, ret, -ret)\n\u001b[32m--> \u001b[39m\u001b[32m447\u001b[39m \u001b[38;5;28;01mraise\u001b[39;00m USBError(errmsg, ret)\n",
      "\u001b[31mUSBError\u001b[39m: [Errno None] b'libusb0-dll:err [claim_interface] could not claim interface 0, win error: The requested resource is in use.\\r\\n'",
      "\nThe above exception was the direct cause of the following exception:\n",
      "\u001b[31mAttocubeBackendError\u001b[39m                      Traceback (most recent call last)",
      "\u001b[36mCell\u001b[39m\u001b[36m \u001b[39m\u001b[32mIn[6]\u001b[39m\u001b[32m, line 1\u001b[39m\n\u001b[32m----> \u001b[39m\u001b[32m1\u001b[39m atc = Attocube.ANC350(\u001b[32m0\u001b[39m) \u001b[38;5;66;03m# use 0 index by default\u001b[39;00m\n\u001b[32m      2\u001b[39m atc.close()\n",
      "\u001b[36mFile \u001b[39m\u001b[32mc:\\Users\\Experiment\\.conda\\envs\\slm_py3p11_env\\Lib\\site-packages\\pylablib\\devices\\Attocube\\anc350.py:38\u001b[39m, in \u001b[36mANC350.__init__\u001b[39m\u001b[34m(self, conn, timeout)\u001b[39m\n\u001b[32m     36\u001b[39m \u001b[38;5;28;01mwith\u001b[39;00m \u001b[38;5;28mself\u001b[39m._close_on_error():\n\u001b[32m     37\u001b[39m     \u001b[38;5;28mself\u001b[39m.instr.flush_read()\n\u001b[32m---> \u001b[39m\u001b[32m38\u001b[39m     \u001b[38;5;28mself\u001b[39m.instr.read(\u001b[32m512\u001b[39m)\n\u001b[32m     39\u001b[39m     \u001b[38;5;28mself\u001b[39m.set_value(\u001b[32m0x000A\u001b[39m,\u001b[32m0\u001b[39m,\u001b[32m0\u001b[39m) \u001b[38;5;66;03m# sync request\u001b[39;00m\n\u001b[32m     40\u001b[39m     \u001b[38;5;28mself\u001b[39m.get_hardware_id()\n",
      "\u001b[36mFile \u001b[39m\u001b[32mc:\\Users\\Experiment\\.conda\\envs\\slm_py3p11_env\\Lib\\site-packages\\pylablib\\core\\devio\\comm_backend.py:45\u001b[39m, in \u001b[36mlogerror.<locals>.wrapped\u001b[39m\u001b[34m(self, *args, **kwargs)\u001b[39m\n\u001b[32m     42\u001b[39m \u001b[38;5;129m@functools\u001b[39m.wraps(func)\n\u001b[32m     43\u001b[39m \u001b[38;5;28;01mdef\u001b[39;00m\u001b[38;5;250m \u001b[39m\u001b[34mwrapped\u001b[39m(\u001b[38;5;28mself\u001b[39m, *args, **kwargs):\n\u001b[32m     44\u001b[39m     \u001b[38;5;28;01mtry\u001b[39;00m:\n\u001b[32m---> \u001b[39m\u001b[32m45\u001b[39m         \u001b[38;5;28;01mreturn\u001b[39;00m func(\u001b[38;5;28mself\u001b[39m,*args,**kwargs)\n\u001b[32m     46\u001b[39m     \u001b[38;5;28;01mexcept\u001b[39;00m \u001b[38;5;28mself\u001b[39m.Error \u001b[38;5;28;01mas\u001b[39;00m exc:\n\u001b[32m     47\u001b[39m         \u001b[38;5;28mself\u001b[39m._log(\u001b[33m\"\u001b[39m\u001b[33merror\u001b[39m\u001b[33m\"\u001b[39m,\u001b[38;5;28mstr\u001b[39m(exc))\n",
      "\u001b[36mFile \u001b[39m\u001b[32mc:\\Users\\Experiment\\.conda\\envs\\slm_py3p11_env\\Lib\\site-packages\\pylablib\\core\\devio\\comm_backend.py:37\u001b[39m, in \u001b[36mreraise.<locals>.wrapped\u001b[39m\u001b[34m(self, *args, **kwargs)\u001b[39m\n\u001b[32m     35\u001b[39m \u001b[38;5;28;01mexcept\u001b[39;00m \u001b[38;5;28mself\u001b[39m.BackendError \u001b[38;5;28;01mas\u001b[39;00m exc:\n\u001b[32m     36\u001b[39m     ReraiseError=\u001b[38;5;28mgetattr\u001b[39m(\u001b[38;5;28mself\u001b[39m,\u001b[33m\"\u001b[39m\u001b[33mReraiseError\u001b[39m\u001b[33m\"\u001b[39m,\u001b[38;5;28mself\u001b[39m.Error)\n\u001b[32m---> \u001b[39m\u001b[32m37\u001b[39m     \u001b[38;5;28;01mraise\u001b[39;00m ReraiseError(exc) \u001b[38;5;28;01mfrom\u001b[39;00m\u001b[38;5;250m \u001b[39m\u001b[34;01mexc\u001b[39;00m\n",
      "\u001b[31mAttocubeBackendError\u001b[39m: backend exception: USBError(None, b'libusb0-dll:err [claim_interface] could not claim interface 0, win error: The requested resource is in use.\\r\\n') ('[Errno None] b'libusb0-dll:err [claim_interface] could not claim interface 0, win error: The requested resource is in use.\\r\\n'')"
     ]
    }
   ],
   "source": [
    "atc = Attocube.ANC350(0) # use 0 index by default\n",
    "atc.close()"
   ]
  }
 ],
 "metadata": {
  "kernelspec": {
   "display_name": "Python 3",
   "language": "python",
   "name": "python3"
  },
  "language_info": {
   "codemirror_mode": {
    "name": "ipython",
    "version": 3
   },
   "file_extension": ".py",
   "mimetype": "text/x-python",
   "name": "python",
   "nbconvert_exporter": "python",
   "pygments_lexer": "ipython3",
   "version": "3.11.13"
  }
 },
 "nbformat": 4,
 "nbformat_minor": 5
}
