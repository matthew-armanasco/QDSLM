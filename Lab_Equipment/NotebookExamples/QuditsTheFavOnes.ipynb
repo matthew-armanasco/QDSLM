{
 "cells": [
  {
   "cell_type": "markdown",
   "metadata": {},
   "source": [
    "# config the workspace"
   ]
  },
  {
   "cell_type": "code",
   "execution_count": null,
   "metadata": {},
   "outputs": [
    {
     "ename": "ModuleNotFoundError",
     "evalue": "No module named 'Lab_Equipment'",
     "output_type": "error",
     "traceback": [
      "\u001b[1;31m---------------------------------------------------------------------------\u001b[0m",
      "\u001b[1;31mModuleNotFoundError\u001b[0m                       Traceback (most recent call last)",
      "Cell \u001b[1;32mIn[1], line 1\u001b[0m\n\u001b[1;32m----> 1\u001b[0m \u001b[38;5;28;01mfrom\u001b[39;00m \u001b[38;5;21;01mLab_Equipment\u001b[39;00m\u001b[38;5;21;01m.\u001b[39;00m\u001b[38;5;21;01mConfig\u001b[39;00m \u001b[38;5;28;01mimport\u001b[39;00m config\n",
      "\u001b[1;31mModuleNotFoundError\u001b[0m: No module named 'Lab_Equipment'"
     ]
    },
    {
     "ename": "",
     "evalue": "",
     "output_type": "error",
     "traceback": [
      "\u001b[1;31mThe Kernel crashed while executing code in the current cell or a previous cell. \n",
      "\u001b[1;31mPlease review the code in the cell(s) to identify a possible cause of the failure. \n",
      "\u001b[1;31mClick <a href='https://aka.ms/vscodeJupyterKernelCrash'>here</a> for more info. \n",
      "\u001b[1;31mView Jupyter <a href='command:jupyter.viewOutput'>log</a> for further details."
     ]
    }
   ],
   "source": [
    "from Lab_Equipment.Config import config "
   ]
  },
  {
   "cell_type": "markdown",
   "metadata": {},
   "source": [
    "# load all libs"
   ]
  },
  {
   "cell_type": "code",
   "execution_count": null,
   "metadata": {},
   "outputs": [],
   "source": [
    "# Python Libs\n",
    "import cv2\n",
    "import numpy as np\n",
    "import matplotlib.pyplot as plt\n",
    "import ctypes\n",
    "import copy\n",
    "from IPython.display import display, clear_output\n",
    "import ipywidgets\n",
    "import multiprocessing\n",
    "from multiprocessing import shared_memory\n",
    "import time\n",
    "import scipy.io\n",
    "\n",
    "from scipy import io, integrate, linalg, signal\n",
    "from scipy.io import savemat, loadmat\n",
    "from scipy.fft import fft, fftfreq, fftshift,ifftshift, fft2,ifft2,rfft2,irfft2\n",
    "# Defult Pploting properties \n",
    "plt.style.use('dark_background')\n",
    "plt.rcParams['figure.figsize'] = [5,5]\n",
    "\n",
    "#General libs\n",
    "import Lab_Equipment.GeneralLibs.ComplexPlotFunction as cmplxplt\n",
    "\n",
    "#Laser Lib\n",
    "import Lab_Equipment.Laser.SantecSweeptLaser as laserlib\n",
    "#OSA Lib\n",
    "import  Lab_Equipment.OSA.OSA_Yokogawa_lib as OSAlib\n",
    "#powerMeter\n",
    "import Lab_Equipment.PowerMeter.PowerMeterObject as pwrMetlib\n",
    "\n",
    "import Lab_Equipment.Laser.NKTPhotonics_Laser as NKTLaserLib\n",
    "\n",
    "# timeTagger\n",
    "import TimeTagger\n",
    "import Lab_Equipment.TimeTagger.TimeTaggerInterface as TimeTaggerMod\n",
    "import Lab_Equipment.TimeTagger.TimeTaggerFunction as TimetaggerFunc\n",
    "# import Lab_Equipment.TimeTagger.TimeTaggerCustomMeasurementObj as TimeTaggerCustomObj\n"
   ]
  },
  {
   "cell_type": "code",
   "execution_count": 6,
   "metadata": {},
   "outputs": [
    {
     "name": "stdout",
     "output_type": "stream",
     "text": [
      "The autoreload extension is already loaded. To reload it, use:\n",
      "  %reload_ext autoreload\n"
     ]
    }
   ],
   "source": [
    " \n",
    "# This is needed to Qt stuff (I think()\n",
    "# %pylab inline\n",
    "# %gui qt5\n",
    "\n",
    "%load_ext autoreload\n",
    "#Config File\n",
    "%aimport Lab_Equipment.Config.config\n",
    "#General libs\n",
    "%aimport Lab_Equipment.GeneralLibs.ComplexPlotFunction\n",
    "#Laser libs\n",
    "%aimport Lab_Equipment.Laser.SantecSweeptLaser\n",
    "%aimport Lab_Equipment.Laser.NKTPhotonics_Laser\n",
    "#OSA Libs\n",
    "%aimport Lab_Equipment.OSA.OSA_Yokogawa_lib\n",
    "\n",
    "\n",
    "# timeTagger\n",
    "%aimport Lab_Equipment.TimeTagger.TimeTaggerInterface\n",
    "%aimport Lab_Equipment.TimeTagger.TimeTaggerFunction\n",
    "# %aimport Lab_Equipment.TimeTagger.TimeTaggerCustomMeasurementObj\n",
    "\n",
    "\n",
    "%autoreload 1\n"
   ]
  },
  {
   "cell_type": "markdown",
   "metadata": {},
   "source": [
    "# NKT Laser"
   ]
  },
  {
   "cell_type": "code",
   "execution_count": null,
   "metadata": {},
   "outputs": [
    {
     "name": "stdout",
     "output_type": "stream",
     "text": [
      "Opening the comport: 1:OPFailed\n",
      "Emission ON - Result: 0\n",
      "Units set to mW\n",
      "Input/output units for Set_Wavelengh()/Get_Wavelength() are nm \n",
      "Input/output units for Set_Power()/Get_Power() are mW \n",
      "Module Setup Bits:\n",
      "- Narrow wavelength modulation range: Disabled\n",
      "- Enable external wavelength modulation: Enabled\n",
      "- Wavelength modulation DC coupled: Disabled\n",
      "- Enable internal wavelength modulation: Disabled\n",
      "- Enable modulation output: Disabled\n",
      "- Pump operation constant current: Disabled\n",
      "- External amplitude modulation source: Disabled\n",
      "My creator got annoyed at NKT and has not immplemented enabling or disabling these features yet\n"
     ]
    },
    {
     "data": {
      "text/plain": [
       "12.05"
      ]
     },
     "execution_count": 35,
     "metadata": {},
     "output_type": "execute_result"
    }
   ],
   "source": [
    "NKTlaser=NKTLaserLib.Laser_NKT_BasiK_K1x2('COM5')\n",
    "#call  del NKTlaser to disconnect the laser\n",
    "# NKTlaser.Get_Power()\n",
    "NKTlaser.Set_Power(12) #Input units are mW \n",
    "# NKTlaser.Get_Wavelength()\n",
    "# NKTlaser.Set_Wavelength(1550.11) #Input units are nm "
   ]
  },
  {
   "cell_type": "markdown",
   "metadata": {},
   "source": [
    "# Power meter"
   ]
  },
  {
   "cell_type": "code",
   "execution_count": null,
   "metadata": {},
   "outputs": [],
   "source": [
    "\n",
    "pwrMeter=pwrMetlib.PowerMeterObj('USB0::0x1313::0x8076::M01230617::INSTR',wavelength=1550,AvgCount=10)\n",
    "#call  del pwrMeter to disconnect the power meter\n",
    "pwrMeter.SetWaveLength(1550)# units are in nm\n",
    "pwrMeter.GetPower() #units are in Watts"
   ]
  },
  {
   "cell_type": "markdown",
   "metadata": {},
   "source": [
    "# Swept laser"
   ]
  },
  {
   "cell_type": "code",
   "execution_count": null,
   "metadata": {},
   "outputs": [],
   "source": [
    "SweeptLaser=laserlib.LaserObject_SantecSweept('GPIB0::2::INSTR')\n",
    "#call  del SweeptLaser to disconnect the Swept laser\n",
    "# SweeptLaser.Set_wavelength(1550) #units are in nm\n",
    "# SweeptLaser.Set_PowerLevel(0.5) #units are in mW\n",
    "\n"
   ]
  },
  {
   "cell_type": "markdown",
   "metadata": {},
   "source": [
    "# OSA"
   ]
  },
  {
   "cell_type": "code",
   "execution_count": null,
   "metadata": {},
   "outputs": [
    {
     "name": "stdout",
     "output_type": "stream",
     "text": [
      "Connection successful. Device ID: YOKOGAWA,AQ6374,91UC09551,01.02\n",
      "\n"
     ]
    }
   ],
   "source": [
    "OSA=OSAlib.OSA_Yoko('GPIB0::1::INSTR')\n",
    "# call del OSA to disconnect the OSA\n",
    "#OSA.Initiate_Sweep(\"AUTO\")\n",
    "# Get some data from the OSA. A inital Sweep should be run on AUTO i.e. OSA.Initiate_Sweep(\"AUTO\")\n",
    "# so that all the properties of the OSA are set up automatically\n",
    "# Wavelength,PowerSpectum=OSA.Get_data(TraceChannel=\"TRA\",PowerDensityOutput=0,SweepMode=\"SINGle\",Plotdata=True,)\n"
   ]
  },
  {
   "cell_type": "markdown",
   "metadata": {},
   "source": [
    "# Time Tagger"
   ]
  },
  {
   "cell_type": "code",
   "execution_count": null,
   "metadata": {},
   "outputs": [],
   "source": [
    "tagger = TimeTagger.createTimeTagger()"
   ]
  },
  {
   "cell_type": "markdown",
   "metadata": {},
   "source": [
    "### Set global properties of the time tagger object"
   ]
  },
  {
   "cell_type": "code",
   "execution_count": null,
   "metadata": {},
   "outputs": [],
   "source": [
    "\n",
    "#turn on the conditional filter\n",
    "tagger.setConditionalFilter(trigger=[1,2], filtered=[4])\n",
    "#tagger.setConditionalFilter(trigger=[1,2,3], filtered=[4])\n",
    "#Turn off the conditional filter\n",
    "# tagger.clearConditionalFilter()\n",
    "sm = TimeTagger.SynchronizedMeasurements(tagger)\n",
    "tagger.setInputDelay(1, 970)\n",
    "tagger.setInputDelay(2, 900)\n",
    "#tagger.setInputDelay(3, 2650)\n",
    "tagger.setInputDelay(4, 6200)"
   ]
  },
  {
   "cell_type": "code",
   "execution_count": null,
   "metadata": {},
   "outputs": [],
   "source": [
    "binCount=3000\n",
    "channels=[1,2,3]\n",
    "#channels=[1,2,3]\n",
    "# ChannelCount=len(channels)\n",
    "corr_list = list()\n",
    "for ch in channels:\n",
    "    corr_list.append(TimeTagger.Correlation(sm.getTagger(), channel_1=4, channel_2=ch, binwidth=1, n_bins=binCount))\n",
    "\n",
    "\n",
    "corr_list.append(TimeTagger.Correlation(sm.getTagger(), channel_1=channels[0], channel_2=channels[1], binwidth=1, n_bins=binCount))\n",
    "corr_list.append(TimeTagger.Correlation(sm.getTagger(), channel_1=channels[0], channel_2=channels[2], binwidth=1, n_bins=binCount))\n",
    "corr_list.append(TimeTagger.Correlation(sm.getTagger(), channel_1=channels[1], channel_2=channels[2], binwidth=1, n_bins=binCount))\n",
    "\n",
    "\n",
    "    \n",
    "# for ch in channels:   \n",
    "#     corr_list.append(TimeTaggerCustomObj.CustomCorrelationMeasurement(sm.getTagger(),[4], [ch], binwidth=1, n_bins=binCount,MeasurementType=1))\n",
    "  \n",
    "corr_list.append(TimeTaggerCustomObj.CustomCorrelationMeasurement(sm.getTagger(),[4], channels, binwidth=1, n_bins=binCount,MeasurementType=100))\n",
    "# corr_list.append(TimeTagger.FileWriter(sm.getTagger(),'dump1234.ttbin',[1,2,3,4]))\n",
    "# ChannelCountTotal=len(corr_list)\n",
    "ChannelCount=len(corr_list)"
   ]
  },
  {
   "cell_type": "markdown",
   "metadata": {},
   "source": [
    "## Set global properties of the time tagger object "
   ]
  },
  {
   "cell_type": "code",
   "execution_count": null,
   "metadata": {},
   "outputs": [],
   "source": [
    "# tagger.setInputDelay(3, 0)\n",
    "tagger.setInputDelay(1, 6220-(700-81+35))\n",
    "tagger.setInputDelay(2, 6220-700-90)\n",
    "#tagger.setInputDelay(1, 2150-586-6-6+30+6)\n",
    "#tagger.setInputDelay(2, 1800-317+12-19+4+10)\n",
    "#tagger.setInputDelay(3, 1325-302+3)\n",
    "tagger.setInputDelay(4, 0)\n",
    "CountTime=40\n",
    "timeData,CorrData, CorrDataNorm=  TimetaggerFunc.GetCorrelationdata(sm,corr_list,CountTime,3000,PlotResutls=True)\n",
    "\n",
    "# If you want to get the time delay you can use either of the lines below\n",
    "# TimetaggerFunc.CalculateTimeDelay(timeData,CorrDataNorm)\n",
    "AvgTimeDelay_0,PeakTimeDelay_0 = TimetaggerFunc.CalculateTimeDelay(timeData[0,:],CorrDataNorm[0,:])\n",
    "print(AvgTimeDelay_0,PeakTimeDelay_0)\n",
    "AvgTimeDelay_1,PeakTimeDelay_1 =TimetaggerFunc.CalculateTimeDelay(timeData[0,:],CorrDataNorm[1,:])\n",
    "print(AvgTimeDelay_1,PeakTimeDelay_1)\n",
    "#AvgTimeDelay_2,PeakTimeDelay_2 =TimetaggerFunc.CalculateTimeDelay(timeData[0,:],CorrDataNorm[2,:])\n",
    "#print(AvgTimeDelay_2,PeakTimeDelay_2)"
   ]
  },
  {
   "cell_type": "markdown",
   "metadata": {},
   "source": [
    "# Do Experiment"
   ]
  },
  {
   "cell_type": "code",
   "execution_count": null,
   "metadata": {},
   "outputs": [],
   "source": [
    "PowerLevelCount=10\n",
    "PowerLevelMin=12\n",
    "PowerLevelMax=40\n",
    "PowerLevelSet_arr=np.linspace(PowerLevelMin,PowerLevelMax,PowerLevelCount)\n",
    "PowerLevelAct_laser_arr=np.zeros((PowerLevelCount))\n",
    "PowerLevelAct_afterChip_arr=np.zeros((PowerLevelCount))\n",
    "PowerLevelAct_beforeChip_arr=np.zeros((PowerLevelCount))\n",
    "\n",
    "\n",
    "\n"
   ]
  },
  {
   "cell_type": "code",
   "execution_count": null,
   "metadata": {},
   "outputs": [],
   "source": [
    "for i in range(PowerLevelCount):\n",
    "    PowerLevelAct_laser_arr[i]=NKTlaser.Set_Power(PowerLevelSet_arr[i])\n",
    "    PowerLevelAct_beforeChip_arr[i]=pwrMeter.GetPower()\n",
    "    PowerLevelAct_afterChip_arr[i]=pwrMeter.GetPower()\n",
    "    "
   ]
  },
  {
   "cell_type": "code",
   "execution_count": null,
   "metadata": {},
   "outputs": [],
   "source": [
    "# Setup distance array for peizo mount\n",
    "CountTime=40\n",
    "maxdist=4 # this is in micros\n",
    "mindist=0 # this is in micros\n",
    "distSpacing_ideal =0.1 #can go as low as 0.01\n",
    "distCount=int((maxdist-mindist)/distSpacing_ideal)\n",
    "distArr_ideal=np.linspace(mindist,maxdist,distCount)\n",
    "distSpacing=distArr_ideal[1]-distArr_ideal[0]\n",
    "print(distCount,distSpacing_ideal,distSpacing)\n",
    "# distCount=10\n",
    "\n",
    "#Set mount to zero\n",
    "PiezoMount.SetPosition(0.0001)\n",
    "\n",
    "# make all the arrays for the data\n",
    "timeDataAll=np.zeros((ChannelCount,binCount,distCount))\n",
    "CorrDataAll=np.zeros((ChannelCount,binCount,distCount))\n",
    "CorrDataNormAll=np.zeros((ChannelCount,binCount,distCount))\n",
    "CorrDataAdd=np.zeros((binCount,distCount))\n",
    "CorrDataNormAdd=np.zeros((binCount,distCount))\n",
    "distArr_measured=np.zeros((distCount))\n",
    "PlotDuringMeasument=True\n",
    "\n",
    "if (PlotDuringMeasument):\n",
    "    plt.figure(1,figsize=(4,4))\n",
    "    \n",
    "for idist in range(distCount):\n",
    "    \n",
    "    #################################\n",
    "    #take correlations measurment\n",
    "    #################################\n",
    "    timeData , CorrData, CorrDataNorm = TimetaggerFunc.GetCorrelationdata(sm,corr_list,CountTime,binCount)\n",
    "    timeDataAll[:,:,idist]=timeData\n",
    "    CorrDataAll[:,:,idist]= CorrData\n",
    "    CorrDataNormAll[:,:,idist]=CorrDataNorm\n",
    "    CorrDataAdd[:,idist]=np.sum(CorrData,axis=0)\n",
    "    CorrDataNormAdd[:,idist]=np.sum(CorrDataNorm,axis=0)\n",
    "    \n",
    "    #################################\n",
    "    # Move the the BeamSplitter\n",
    "    #################################\n",
    "    if (idist==0):\n",
    "        distArr_measured[idist]=float(str(PiezoMount.GetPosition()))\n",
    "        print(distArr_measured[idist],distArr_ideal[idist])\n",
    "    else:\n",
    "       \n",
    "        distArr_measured[idist]=float(str(PiezoMount.SetPosition(distArr_ideal[idist])))\n",
    "        print(distArr_measured[idist],distArr_ideal[idist])\n",
    "        print(PiezoMount.GetPosition())\n",
    "        \n",
    "    #################################\n",
    "    #save the data While we are going. This is really ineffiecent but dont really care at the moment\n",
    "    #################################\n",
    "    np.savez_compressed('Data\\\\batch_data.npz',\n",
    "                        timeDataAll=timeDataAll, CorrDataAll=CorrDataAll\n",
    "                        ,CorrDataNormAll=CorrDataNormAll\n",
    "                        ,CorrDataAdd=CorrDataAdd\n",
    "                        ,CorrDataNormAdd=CorrDataNormAdd\n",
    "                        ,distArr_ideal=distArr_ideal\n",
    "                        ,distArr_measured=distArr_measured\n",
    "                        ,AngleOfFirstWaveplate=Mount1Angle\n",
    "                        ,AngleOfSecondWaveplate=Mount2Angle\n",
    "                        )\n",
    "    TimetaggerFunc.MoveRawTags(config.PATH_TO_TIMETAGGER_FOLDER+\"Data\\\\RawTimeTags\",\"Data\\\\RawTags\\\\RawtagMountPos\"+str(idist)+\"\\\\\")\n",
    "    # save the data So far using pickle. I think npz is faster\n",
    "    # with open('Data\\\\batch_data.pkl', 'wb') as f:\n",
    "    #     pickle.dump([timeDataAll, CorrDataAll,CorrDataNormAll,CorrDataAdd,CorrDataNormAdd], f)\n",
    "    \n",
    "    #################################\n",
    "    # plot the result while we are giong\n",
    "    #################################\n",
    "    if (PlotDuringMeasument):\n",
    "        plt.subplot(1,2,1)\n",
    "        plt.imshow(CorrDataAdd,aspect='auto')\n",
    "        plt.subplot(1,2,2)\n",
    "        plt.imshow(CorrDataNormAdd,aspect='auto')\n",
    "        plt.show\n",
    "        \n",
    "# \n"
   ]
  }
 ],
 "metadata": {
  "kernelspec": {
   "display_name": "Python10",
   "language": "python",
   "name": "python3"
  },
  "language_info": {
   "codemirror_mode": {
    "name": "ipython",
    "version": 3
   },
   "file_extension": ".py",
   "mimetype": "text/x-python",
   "name": "python",
   "nbconvert_exporter": "python",
   "pygments_lexer": "ipython3",
   "version": "3.10.14"
  }
 },
 "nbformat": 4,
 "nbformat_minor": 2
}
