{
 "cells": [
  {
   "cell_type": "code",
   "execution_count": 1,
   "metadata": {},
   "outputs": [
    {
     "name": "stdout",
     "output_type": "stream",
     "text": [
      "Current Directory: c:\\Users\\Experiment\\Documents\\RelBohmTraj\\ExperimentStuff\n",
      "This is a Windows system.\n"
     ]
    }
   ],
   "source": [
    "from Lab_Equipment.Config import config "
   ]
  },
  {
   "cell_type": "code",
   "execution_count": 2,
   "metadata": {},
   "outputs": [
    {
     "name": "stdout",
     "output_type": "stream",
     "text": [
      "Current Directory: c:\\Users\\Experiment\\Documents\\RelBohmTraj\\ExperimentStuff\n",
      "Current Directory: c:\\Users\\Experiment\\Documents\\RelBohmTraj\\ExperimentStuff\n"
     ]
    }
   ],
   "source": [
    "# Python Libs\n",
    "import cv2\n",
    "import numpy as np\n",
    "import matplotlib.pyplot as plt\n",
    "import ctypes\n",
    "import copy\n",
    "from IPython.display import display, clear_output\n",
    "import ipywidgets\n",
    "# import multiprocessing\n",
    "# from multiprocessing import shared_memory\n",
    "import time\n",
    "import scipy.io\n",
    "import pickle\n",
    "import TimeTagger\n",
    "\n",
    "from scipy import io, integrate, linalg, signal\n",
    "from scipy.io import savemat, loadmat\n",
    "from scipy.fft import fft, fftfreq, fftshift,ifftshift, fft2,ifft2,rfft2,irfft2\n",
    "# Defult Pploting properties \n",
    "plt.style.use('dark_background')\n",
    "plt.rcParams['figure.figsize'] = [5,5]\n",
    "\n",
    "#Moku Libs\n",
    "import Lab_Equipment.MokuLab.MokuLabObject as mokulib\n",
    "\n",
    "#SLM Libs\n",
    "import Lab_Equipment.SLM.pyLCOS as pyLCOS\n",
    "import Lab_Equipment.ZernikeModule.ZernikeModule as zernMod\n",
    "\n",
    "\n",
    "# #MPLC Libs\n",
    "# import Lab_Equipment.MPLC.AlignmentRoutines as AlignRoutines\n",
    "import Lab_Equipment.AlignmentRoutines.AlignmentRoutines_PowerMeter as AlignPwrMetertLib\n",
    "\n",
    "# timeTagger\n",
    "import Lab_Equipment.TimeTagger.TimeTaggerInterface as TimeTaggerMod\n",
    "import Lab_Equipment.TimeTagger.TimeTaggerFunction as TimetaggerFunc\n",
    "import Lab_Equipment.TimeTagger.TimeTaggerCustomMeasurementObj as TimeTaggerCustomObj\n",
    "\n",
    "\n",
    "\n",
    "# Daniel's Python Libs NOTE there is a library in MyPyhtonLibs that causes the powermeter not to work \n",
    "# import  Lab_Equipment.MyPythonLibs.OpticalOperators as OpticOp\n",
    "# import  Lab_Equipment.MyPythonLibs.ComplexPlotFunction as cmplxplt\n",
    "# # import  Lab_Equipment.MyPythonLibs.GaussianBeamBasis as GaussBeams\n",
    "# import  Lab_Equipment.MyPythonLibs.GeneralFunctions as GenFuncs\n",
    "import  Lab_Equipment.MyPythonLibs.FWHMFunctions as FWHMFunc\n",
    "\n",
    "# Piezo translation stage\n",
    "import Lab_Equipment.ThorlabsKCube.ThorlabsPiezoStrainGauge as Piezolib\n",
    "\n",
    "#Power Meter\n",
    "import Lab_Equipment.PowerMeter.PowerMeterObject as PwrMeterLib\n",
    "\n",
    "#Rotation Mount\n",
    "import Lab_Equipment.ElliptecThorlabMounts.ElliptecRotationMountObject as RotMotLib\n"
   ]
  },
  {
   "cell_type": "code",
   "execution_count": 3,
   "metadata": {},
   "outputs": [],
   "source": [
    "%gui qt5\n",
    "%load_ext autoreload\n",
    "\n",
    "#Config File\n",
    "%aimport Lab_Equipment.Config.config\n",
    "\n",
    "# moku Lib\n",
    "%aimport Lab_Equipment.MokuLab.MokuLabObject\n",
    "\n",
    "#Alignment lib\n",
    "%aimport Lab_Equipment.AlignmentRoutines.AlignmentRoutines_PowerMeter\n",
    "\n",
    "# timeTagger\n",
    "%aimport Lab_Equipment.TimeTagger.TimeTaggerInterface\n",
    "%aimport Lab_Equipment.TimeTagger.TimeTaggerFunction\n",
    "%aimport Lab_Equipment.TimeTagger.TimeTaggerCustomMeasurementObj\n",
    "\n",
    "\n",
    "\n",
    "\n",
    "# power meter\n",
    "%aimport Lab_Equipment.PowerMeter.PowerMeterObject\n",
    "\n",
    "# Rotation Mounts\n",
    "%aimport Lab_Equipment.ElliptecThorlabMounts.ElliptecRotationMountObject\n",
    "\n",
    "# translation stages\n",
    "%aimport Lab_Equipment.ThorlabsKCube.ThorlabsPiezoStrainGauge\n",
    "\n",
    "# Daniel's Python Libs\n",
    "%aimport Lab_Equipment.MyPythonLibs.FWHMFunctions\n",
    "%autoreload 1"
   ]
  },
  {
   "cell_type": "markdown",
   "metadata": {},
   "source": [
    "# Launch rotation Mount"
   ]
  },
  {
   "cell_type": "code",
   "execution_count": 60,
   "metadata": {},
   "outputs": [
    {
     "name": "stdout",
     "output_type": "stream",
     "text": [
      "Closing stage connections\n"
     ]
    }
   ],
   "source": [
    "del RotaMountObj"
   ]
  },
  {
   "cell_type": "code",
   "execution_count": 61,
   "metadata": {},
   "outputs": [
    {
     "name": "stdout",
     "output_type": "stream",
     "text": [
      "COM8\n",
      "ELL14/M\n",
      " #0 on COM8,\n",
      " serial number 11400790,\n",
      " status unknown\n",
      "COM9\n",
      "ELL14/M\n",
      " #0 on COM9,\n",
      " serial number 11400791,\n",
      " status unknown\n",
      "(20.689, 0.6890000000000001)\n",
      "(-0.003, 339.997)\n",
      "(43.117, 32.11699999999996)\n",
      "(0.0, 349.0)\n"
     ]
    }
   ],
   "source": [
    "#RotaMountObj=RotMotLib.ELL_RotationMountObj(Serial_ports=['COM8','COM9'],AngleOffset=[5.5+45,21.872])    # old one\n",
    "#RotaMountObj=RotMotLib.ELL_RotationMountObj(Serial_ports=['COM8','COM9'],AngleOffset=[4.002+45,22.512])    # these offset values are found manually by changing those and checking power\n",
    "#RotaMountObj=RotMotLib.ELL_RotationMountObj(Serial_ports=['COM8','COM9'],AngleOffset=[4.002+45,19.972])\n",
    "# RotaMountObj=RotMotLib.ELL_RotationMountObj(Serial_ports=['COM8','COM9'],AngleOffset=[5.5+45,22])\n",
    "# RotaMountObj=RotMotLib.ELL_RotationMountObj(Serial_ports=['COM8','COM9'],AngleOffset=[14+45,22])\n",
    "RotaMountObj=RotMotLib.ELL_RotationMountObj(Serial_ports=['COM8','COM9'],AngleOffset=[20,686+45,43.116])   # as on 26022025\n",
    "\n",
    "RotaMountObj.HomeStages()"
   ]
  },
  {
   "cell_type": "markdown",
   "metadata": {},
   "source": [
    "# waveplate Calibration"
   ]
  },
  {
   "cell_type": "code",
   "execution_count": 16,
   "metadata": {},
   "outputs": [
    {
     "name": "stdout",
     "output_type": "stream",
     "text": [
      "('USB0::0x1313::0x8072::P2004984::INSTR', 'ASRL1::INSTR', 'ASRL5::INSTR', 'ASRL8::INSTR', 'ASRL9::INSTR')\n"
     ]
    }
   ],
   "source": [
    "import pyvisa\n",
    "rm = pyvisa.ResourceManager()\n",
    "print(rm.list_resources())"
   ]
  },
  {
   "cell_type": "code",
   "execution_count": 39,
   "metadata": {},
   "outputs": [],
   "source": [
    "del PwrMeterObj"
   ]
  },
  {
   "cell_type": "code",
   "execution_count": 4,
   "metadata": {},
   "outputs": [
    {
     "name": "stdout",
     "output_type": "stream",
     "text": [
      "Wavelength set to 925 nm\n",
      "Units set to W\n"
     ]
    },
    {
     "data": {
      "text/plain": [
       "5.56260193e-06"
      ]
     },
     "execution_count": 4,
     "metadata": {},
     "output_type": "execute_result"
    }
   ],
   "source": [
    "PwrMeterObj=PwrMeterLib.PowerMeterObj(deviceName='USB0::0x1313::0x8072::P2004984::INSTR',AvgCount=50)\n",
    "# RotaMountObj.SetAngle(0)\n",
    "PwrMeterObj.SetAverageMeasure(100)\n",
    "PwrMeterObj.GetPower()"
   ]
  },
  {
   "cell_type": "code",
   "execution_count": 37,
   "metadata": {},
   "outputs": [
    {
     "data": {
      "text/plain": [
       "0.000200471171"
      ]
     },
     "execution_count": 37,
     "metadata": {},
     "output_type": "execute_result"
    }
   ],
   "source": [
    "PwrMeterObj.GetPower()"
   ]
  },
  {
   "cell_type": "code",
   "execution_count": 21,
   "metadata": {},
   "outputs": [],
   "source": [
    "RotaMountObj.AngleOffset=17.060000000000002"
   ]
  },
  {
   "cell_type": "code",
   "execution_count": 38,
   "metadata": {},
   "outputs": [],
   "source": [
    "RotaMountObj.AngleOffset=14+45"
   ]
  },
  {
   "cell_type": "code",
   "execution_count": 21,
   "metadata": {},
   "outputs": [
    {
     "name": "stdout",
     "output_type": "stream",
     "text": [
      "Closing stage connections\n"
     ]
    }
   ],
   "source": [
    "del RotaMountObj"
   ]
  },
  {
   "cell_type": "code",
   "execution_count": 22,
   "metadata": {},
   "outputs": [
    {
     "name": "stdout",
     "output_type": "stream",
     "text": [
      "COM8\n",
      "ELL14/M\n",
      " #0 on COM8,\n",
      " serial number 11400790,\n",
      " status unknown\n"
     ]
    }
   ],
   "source": [
    "RotaMountObj=RotMotLib.ELL_RotationMountObj(Serial_ports=['COM8'],AngleOffset=[15.899])"
   ]
  },
  {
   "cell_type": "code",
   "execution_count": 35,
   "metadata": {},
   "outputs": [
    {
     "name": "stdout",
     "output_type": "stream",
     "text": [
      "(15.911, 0.012000000000000455)\n",
      "(-0.005, 344.096)\n"
     ]
    }
   ],
   "source": [
    "RotaMountObj.HomeStages()"
   ]
  },
  {
   "cell_type": "markdown",
   "metadata": {},
   "source": [
    "### check the angle of the waveplate"
   ]
  },
  {
   "cell_type": "code",
   "execution_count": 23,
   "metadata": {},
   "outputs": [
    {
     "data": {
      "text/plain": [
       "(60.898, 44.999)"
      ]
     },
     "execution_count": 23,
     "metadata": {},
     "output_type": "execute_result"
    }
   ],
   "source": [
    "RotaMountObj.GetAngle(0)"
   ]
  },
  {
   "cell_type": "code",
   "execution_count": 38,
   "metadata": {},
   "outputs": [
    {
     "name": "stdout",
     "output_type": "stream",
     "text": [
      "64.371 85.626\n",
      "0.000334632321 0.00137746276\n",
      "0 (51.255, 64.371) 13.115999999999993 (7.37490063e-06, 0.000334632321)\n",
      "1 (43.124, 51.255) 8.131 (0.000109359302, 7.37490063e-06)\n",
      "2 (51.255, 56.26) 5.0049999999999955 (7.37490063e-06, 6.62278981e-05)\n",
      "3 (48.149, 51.255) 3.1060000000000016 (1.80771076e-05, 7.37490063e-06)\n",
      "4 (51.255, 53.166) 1.9109999999999943 (7.37490063e-06, 1.88139838e-05)\n",
      "5 (50.07, 51.255) 1.1850000000000023 (7.15434635e-06, 7.37490063e-06)\n",
      "6 (49.342, 50.07) 0.7280000000000015 (9.70676683e-06, 7.15434635e-06)\n",
      "7 (50.07, 50.517) 0.44700000000000273 (7.15434635e-06, 6.55435952e-06)\n",
      "8 (50.517, 50.796) 0.27899999999999636 (6.55435952e-06, 6.60437627e-06)\n",
      "9 (50.354, 50.517) 0.1630000000000038 (6.67114318e-06, 6.55435952e-06)\n",
      "10 (50.517, 50.617) 0.09999999999999432 (6.55435952e-06, 6.53647476e-06)\n",
      "11 (50.617, 50.683) 0.0660000000000025 (6.53647476e-06, 6.5456943e-06)\n",
      "12 (50.582, 50.617) 0.03499999999999659 (6.53445568e-06, 6.53647476e-06)\n",
      "13 (50.55, 50.582) 0.03200000000000358 (6.5395684e-06, 6.53445568e-06)\n",
      "14 (50.582, 50.59) 0.008000000000002672 (6.53445568e-06, 6.5347358e-06)\n",
      "15 (50.56, 50.582) 0.021999999999998465 (6.53999359e-06, 6.53445568e-06)\n",
      "16 (50.582, 50.58) 0.0020000000000024443 (6.53445568e-06, 6.53485358e-06)\n",
      "17 (50.575, 50.582) 0.006999999999997897 (6.53657708e-06, 6.53445568e-06)\n",
      "18 (50.582, 50.577) 0.005000000000002558 (6.53445568e-06, 6.53591496e-06)\n",
      "19 (50.575, 50.582) 0.006999999999997897 (6.53603183e-06, 6.53445568e-06)\n",
      "20 (50.582, 50.575) 0.006999999999997897 (6.53445568e-06, 6.53529651e-06)\n",
      "21 (50.575, 50.582) 0.006999999999997897 (6.53444067e-06, 6.53445568e-06)\n",
      "22 (50.58, 50.575) 0.0049999999999954525 (6.53634015e-06, 6.53444067e-06)\n",
      "23 (50.575, 50.572) 0.0030000000000001137 (6.53444067e-06, 6.53641564e-06)\n",
      "24 (50.575, 50.575) 0.0 (6.53566349e-06, 6.53444067e-06)\n",
      "Final results:  50.576 50.576 6.536415185e-06\n",
      "The new AngleOffset has been set to: 5.5760000000000005\n",
      "50.576 6.536415185e-06\n"
     ]
    },
    {
     "data": {
      "image/png": "[encoded data removed]",
      "text/plain": [
       "<Figure size 1000x1000 with 1 Axes>"
      ]
     },
     "metadata": {},
     "output_type": "display_data"
    },
    {
     "name": "stderr",
     "output_type": "stream",
     "text": [
      "Exception in callback ELLx._update_status()\n",
      "handle: <TimerHandle when=5211.256 ELLx._update_status()>\n",
      "Traceback (most recent call last):\n",
      "  File \"c:\\Users\\Experiment\\anaconda3\\Lib\\asyncio\\events.py\", line 80, in _run\n",
      "    self._context.run(self._callback, *self._args)\n",
      "  File \"c:\\Users\\Experiment\\anaconda3\\Lib\\site-packages\\thorlabs_elliptec\\__init__.py\", line 413, in _update_status\n",
      "    reply_data = self._write_command(\"gs\")\n",
      "                 ^^^^^^^^^^^^^^^^^^^^^^^^^\n",
      "  File \"c:\\Users\\Experiment\\anaconda3\\Lib\\site-packages\\thorlabs_elliptec\\__init__.py\", line 444, in _write_command\n",
      "    self._port.write(bytearray(request_data + \"\\r\\n\", \"ascii\"))\n",
      "  File \"c:\\Users\\Experiment\\anaconda3\\Lib\\site-packages\\serial\\serialwin32.py\", line 317, in write\n",
      "    raise SerialException(\"WriteFile failed ({!r})\".format(ctypes.WinError()))\n",
      "serial.serialutil.SerialException: WriteFile failed (PermissionError(13, 'Access is denied.', None, 5))\n"
     ]
    }
   ],
   "source": [
    "waveplateCal=AlignPwrMetertLib.WavePlateAngleCalibration(PwrMeterObj,RotaMountObj,30,120)\n",
    "Xmin,yMin=waveplateCal.PerformWavePlateAlignment()\n",
    "print(Xmin,yMin)\n",
    "plt.plot(waveplateCal.Angles,waveplateCal.powerReading,'.')\n",
    "\n",
    "del waveplateCal"
   ]
  },
  {
   "cell_type": "markdown",
   "metadata": {},
   "source": [
    "## Set the Rotation Mounts to the optics zero point"
   ]
  },
  {
   "cell_type": "code",
   "execution_count": 30,
   "metadata": {},
   "outputs": [],
   "source": [
    "RotaMountObj.AngleOffset[1]=21.872"
   ]
  },
  {
   "cell_type": "code",
   "execution_count": 63,
   "metadata": {},
   "outputs": [
    {
     "data": {
      "text/plain": [
       "(33.499, 22.499000000000024)"
      ]
     },
     "execution_count": 63,
     "metadata": {},
     "output_type": "execute_result"
    }
   ],
   "source": [
    "RotaMountObj.SetAngle(0,0)\n",
    "RotaMountObj.SetAngle(22.5,1)\n"
   ]
  },
  {
   "cell_type": "code",
   "execution_count": 36,
   "metadata": {},
   "outputs": [
    {
     "data": {
      "text/plain": [
       "(15.903, 0.004000000000001336)"
      ]
     },
     "execution_count": 36,
     "metadata": {},
     "output_type": "execute_result"
    }
   ],
   "source": [
    "RotaMountObj.SetAngle(0)"
   ]
  },
  {
   "cell_type": "code",
   "execution_count": 8,
   "metadata": {},
   "outputs": [
    {
     "data": {
      "text/plain": [
       "(42.368, 20.496000000000002)"
      ]
     },
     "execution_count": 8,
     "metadata": {},
     "output_type": "execute_result"
    }
   ],
   "source": [
    "RotaMountObj.SetAngle(20.5,1)"
   ]
  },
  {
   "cell_type": "markdown",
   "metadata": {},
   "source": [
    "## Set the rotation mount to a angle pair relation"
   ]
  },
  {
   "cell_type": "code",
   "execution_count": 58,
   "metadata": {},
   "outputs": [
    {
     "name": "stdout",
     "output_type": "stream",
     "text": [
      "5 5.000999999999998 54.003\n",
      "28.656780422709623 28.647 48.619\n"
     ]
    },
    {
     "data": {
      "text/plain": [
       "(5.000999999999998, 28.647)"
      ]
     },
     "execution_count": 58,
     "metadata": {},
     "output_type": "execute_result"
    }
   ],
   "source": [
    "RotaMountObj.SetAnglePair(0,1,5)"
   ]
  },
  {
   "cell_type": "markdown",
   "metadata": {},
   "source": [
    "# Lanuch the PiezoMount"
   ]
  },
  {
   "cell_type": "code",
   "execution_count": 52,
   "metadata": {},
   "outputs": [
    {
     "name": "stdout",
     "output_type": "stream",
     "text": [
      "0\n",
      "1\n",
      "A conection has been made to  KPC101 Piezo Controller\n",
      "Setting Zero Point\n"
     ]
    }
   ],
   "source": [
    "PiezoMount=Piezolib.PiezoStrainGaugeObj()"
   ]
  },
  {
   "cell_type": "markdown",
   "metadata": {},
   "source": [
    "## Test the Piezo mount by geting its current position"
   ]
  },
  {
   "cell_type": "code",
   "execution_count": 5,
   "metadata": {},
   "outputs": [
    {
     "name": "stdout",
     "output_type": "stream",
     "text": [
      "0\n"
     ]
    }
   ],
   "source": [
    "# print(PiezoMount.CurrentPostion)\n",
    "# newPos=PiezoMount.SetPosition(10.003)\n",
    "# print(newPos)\n",
    "a=PiezoMount.GetPosition()\n",
    "print(a)"
   ]
  },
  {
   "cell_type": "code",
   "execution_count": 98,
   "metadata": {},
   "outputs": [
    {
     "data": {
      "text/plain": [
       "<System.Decimal object at 0x000001DFD7F3F7C0>"
      ]
     },
     "execution_count": 98,
     "metadata": {},
     "output_type": "execute_result"
    }
   ],
   "source": [
    "PiezoMount.SetPosition(0.75)"
   ]
  },
  {
   "cell_type": "markdown",
   "metadata": {},
   "source": [
    "# Lauch TimeTagger Thread"
   ]
  },
  {
   "cell_type": "code",
   "execution_count": 59,
   "metadata": {},
   "outputs": [],
   "source": [
    "del taggerObj"
   ]
  },
  {
   "cell_type": "code",
   "execution_count": 53,
   "metadata": {},
   "outputs": [
    {
     "name": "stdout",
     "output_type": "stream",
     "text": [
      "2\n",
      "New trigger level: 0.22599999606609344\n",
      "New trigger level: 0.22599999606609344\n"
     ]
    }
   ],
   "source": [
    "# del taggerObj\n",
    "taggerObj = TimeTaggerMod.TimeTaggerInterface([1,2])"
   ]
  },
  {
   "cell_type": "markdown",
   "metadata": {},
   "source": [
    "# change timetagger properties"
   ]
  },
  {
   "cell_type": "code",
   "execution_count": 12,
   "metadata": {},
   "outputs": [
    {
     "name": "stdout",
     "output_type": "stream",
     "text": [
      "New trigger level: 0.2680000066757202\n",
      "[0]\n",
      "0\n",
      "0\n",
      "0 6200\n"
     ]
    }
   ],
   "source": [
    "taggerObj.setCountingTime(0.1*1e12)\n",
    "taggerObj.setTriggerLevel(1, 0.268)\n",
    "# taggerObj.setTriggerLevel(2, 0.113)\n",
    "# taggerObj.setTriggerLevel(2, 0.3)\n",
    "\n",
    "taggerObj.setBinWidth(1)\n",
    "taggerObj.setBinNumber(3000)\n",
    "taggerObj.setDelayTime(1,0)\n",
    "print(taggerObj.DelayTime[0],taggerObj.DelayTime[1])"
   ]
  },
  {
   "cell_type": "code",
   "execution_count": 9,
   "metadata": {},
   "outputs": [
    {
     "name": "stdout",
     "output_type": "stream",
     "text": [
      "Found 3 at indices 2\n"
     ]
    }
   ],
   "source": [
    "import multiprocessing\n",
    "\n",
    "arr = multiprocessing.Array('i', [1, 2, 3, 4, 5])\n",
    "number_to_find = 3\n",
    "\n",
    "indices = [i for i in range(len(arr)) if arr[i] == number_to_find]\n",
    "\n",
    "if indices:\n",
    "    print(f\"Found {number_to_find} at indices {indices[0]}\")\n",
    "else:\n",
    "    print(f\"{number_to_find} not found in the array\")"
   ]
  },
  {
   "cell_type": "code",
   "execution_count": 117,
   "metadata": {},
   "outputs": [
    {
     "name": "stdout",
     "output_type": "stream",
     "text": [
      "1\n"
     ]
    }
   ],
   "source": [
    "taggerObj.setDelayTime(1)\n",
    "print(taggerObj.DelayTime.value)"
   ]
  },
  {
   "cell_type": "markdown",
   "metadata": {},
   "source": [
    "# run a trigger level sweep Need to put this into a function"
   ]
  },
  {
   "cell_type": "code",
   "execution_count": 15,
   "metadata": {},
   "outputs": [
    {
     "name": "stdout",
     "output_type": "stream",
     "text": [
      "New trigger level: 0.10000000149011612\n",
      "28 0 0.1\n",
      "New trigger level: 0.10499999672174454\n",
      "20 1 0.10505050505050506\n",
      "New trigger level: 0.11010000109672546\n",
      "11 2 0.1101010101010101\n",
      "New trigger level: 0.1151999980211258\n",
      "17 3 0.11515151515151516\n",
      "New trigger level: 0.12020000070333481\n",
      "13 4 0.12020202020202021\n",
      "New trigger level: 0.12520000338554382\n",
      "14 5 0.12525252525252525\n",
      "New trigger level: 0.13030000030994415\n",
      "16 6 0.1303030303030303\n",
      "New trigger level: 0.13539999723434448\n",
      "10 7 0.13535353535353536\n",
      "New trigger level: 0.1404000073671341\n",
      "17 8 0.14040404040404042\n",
      "New trigger level: 0.14550000429153442\n",
      "13 9 0.14545454545454545\n",
      "New trigger level: 0.15049999952316284\n",
      "16 10 0.15050505050505053\n",
      "New trigger level: 0.15549999475479126\n",
      "18 11 0.15555555555555556\n",
      "New trigger level: 0.16060000658035278\n",
      "13 12 0.1606060606060606\n",
      "New trigger level: 0.1657000035047531\n",
      "12 13 0.16565656565656567\n",
      "New trigger level: 0.17069999873638153\n",
      "16 14 0.17070707070707072\n",
      "New trigger level: 0.17569999396800995\n",
      "10 15 0.17575757575757578\n",
      "New trigger level: 0.18080000579357147\n",
      "21 16 0.1808080808080808\n",
      "New trigger level: 0.1859000027179718\n",
      "5 17 0.1858585858585859\n",
      "New trigger level: 0.19089999794960022\n",
      "12 18 0.19090909090909092\n",
      "New trigger level: 0.19599999487400055\n",
      "10 19 0.19595959595959597\n",
      "New trigger level: 0.20100000500679016\n",
      "12 20 0.20101010101010103\n",
      "New trigger level: 0.20600000023841858\n",
      "5 21 0.20606060606060606\n",
      "New trigger level: 0.2110999971628189\n",
      "12 22 0.21111111111111114\n",
      "New trigger level: 0.21619999408721924\n",
      "6 23 0.21616161616161617\n",
      "New trigger level: 0.22120000422000885\n",
      "8 24 0.22121212121212122\n",
      "New trigger level: 0.22630000114440918\n",
      "14 25 0.22626262626262628\n",
      "New trigger level: 0.2312999963760376\n",
      "8 26 0.23131313131313133\n",
      "New trigger level: 0.23639999330043793\n",
      "13 27 0.2363636363636364\n",
      "New trigger level: 0.24140000343322754\n",
      "13 28 0.24141414141414144\n",
      "New trigger level: 0.24650000035762787\n",
      "7 29 0.24646464646464647\n",
      "New trigger level: 0.2515000104904175\n",
      "10 30 0.2515151515151515\n",
      "New trigger level: 0.2565000057220459\n",
      "13 31 0.25656565656565655\n",
      "New trigger level: 0.26170000433921814\n",
      "17 32 0.26161616161616164\n",
      "New trigger level: 0.26669999957084656\n",
      "13 33 0.2666666666666667\n",
      "New trigger level: 0.271699994802475\n",
      "9 34 0.27171717171717175\n",
      "New trigger level: 0.2768000066280365\n",
      "15 35 0.2767676767676768\n",
      "New trigger level: 0.2818000018596649\n",
      "17 36 0.28181818181818186\n",
      "New trigger level: 0.28679999709129333\n",
      "12 37 0.2868686868686869\n",
      "New trigger level: 0.29190000891685486\n",
      "7 38 0.2919191919191919\n",
      "New trigger level: 0.296999990940094\n",
      "9 39 0.296969696969697\n",
      "New trigger level: 0.3019999861717224\n",
      "2 40 0.3020202020202021\n",
      "New trigger level: 0.3070000112056732\n",
      "6 41 0.3070707070707071\n",
      "New trigger level: 0.31209999322891235\n",
      "5 42 0.31212121212121213\n",
      "New trigger level: 0.3172000050544739\n",
      "9 43 0.3171717171717172\n",
      "New trigger level: 0.3222000002861023\n",
      "0 44 0.32222222222222224\n",
      "New trigger level: 0.3273000121116638\n",
      "5 45 0.32727272727272727\n",
      "New trigger level: 0.33230000734329224\n",
      "15 46 0.33232323232323235\n",
      "New trigger level: 0.33730000257492065\n",
      "10 47 0.33737373737373744\n",
      "New trigger level: 0.3425000011920929\n",
      "4 48 0.3424242424242424\n",
      "New trigger level: 0.3474999964237213\n",
      "10 49 0.3474747474747475\n",
      "New trigger level: 0.35249999165534973\n",
      "7 50 0.3525252525252526\n",
      "New trigger level: 0.35760000348091125\n",
      "10 51 0.35757575757575766\n",
      "New trigger level: 0.3625999987125397\n",
      "7 52 0.36262626262626263\n",
      "New trigger level: 0.3677000105381012\n",
      "8 53 0.3676767676767677\n",
      "New trigger level: 0.3727000057697296\n",
      "11 54 0.3727272727272728\n",
      "New trigger level: 0.37779998779296875\n",
      "13 55 0.37777777777777777\n",
      "New trigger level: 0.38280001282691956\n",
      "14 56 0.38282828282828285\n",
      "New trigger level: 0.387800008058548\n",
      "6 57 0.38787878787878793\n",
      "New trigger level: 0.3930000066757202\n",
      "5 58 0.3929292929292929\n",
      "New trigger level: 0.39800000190734863\n",
      "8 59 0.397979797979798\n",
      "New trigger level: 0.40299999713897705\n",
      "8 60 0.40303030303030307\n",
      "New trigger level: 0.4081000089645386\n",
      "6 61 0.40808080808080816\n",
      "New trigger level: 0.413100004196167\n",
      "7 62 0.4131313131313131\n",
      "New trigger level: 0.41819998621940613\n",
      "3 63 0.4181818181818182\n",
      "New trigger level: 0.42320001125335693\n",
      "10 64 0.4232323232323233\n",
      "New trigger level: 0.42829999327659607\n",
      "8 65 0.42828282828282827\n",
      "New trigger level: 0.4332999885082245\n",
      "5 66 0.43333333333333335\n",
      "New trigger level: 0.438400000333786\n",
      "6 67 0.43838383838383843\n",
      "New trigger level: 0.44350001215934753\n",
      "7 68 0.4434343434343435\n",
      "New trigger level: 0.44850000739097595\n",
      "13 69 0.4484848484848485\n",
      "New trigger level: 0.45350000262260437\n",
      "8 70 0.45353535353535357\n",
      "New trigger level: 0.4586000144481659\n",
      "12 71 0.45858585858585865\n",
      "New trigger level: 0.4636000096797943\n",
      "5 72 0.4636363636363636\n",
      "New trigger level: 0.46869999170303345\n",
      "7 73 0.4686868686868687\n",
      "New trigger level: 0.47380000352859497\n",
      "8 74 0.4737373737373738\n",
      "New trigger level: 0.4787999987602234\n",
      "13 75 0.4787878787878789\n",
      "New trigger level: 0.4837999939918518\n",
      "4 76 0.48383838383838385\n",
      "New trigger level: 0.48890000581741333\n",
      "8 77 0.48888888888888893\n",
      "New trigger level: 0.49399998784065247\n",
      "5 78 0.493939393939394\n",
      "New trigger level: 0.49900001287460327\n",
      "6 79 0.498989898989899\n",
      "New trigger level: 0.5040000081062317\n",
      "2 80 0.5040404040404041\n",
      "New trigger level: 0.5091000199317932\n",
      "16 81 0.5090909090909091\n",
      "New trigger level: 0.5141000151634216\n",
      "6 82 0.5141414141414142\n",
      "New trigger level: 0.5192000269889832\n",
      "13 83 0.5191919191919192\n",
      "New trigger level: 0.5242999792098999\n",
      "11 84 0.5242424242424243\n",
      "New trigger level: 0.5292999744415283\n",
      "7 85 0.5292929292929294\n",
      "New trigger level: 0.5343000292778015\n",
      "6 86 0.5343434343434343\n",
      "New trigger level: 0.5393999814987183\n",
      "4 87 0.5393939393939394\n",
      "New trigger level: 0.5444999933242798\n",
      "6 88 0.5444444444444445\n",
      "New trigger level: 0.5494999885559082\n",
      "1 89 0.5494949494949496\n",
      "New trigger level: 0.5546000003814697\n",
      "1 90 0.5545454545454546\n",
      "New trigger level: 0.5595999956130981\n",
      "0 91 0.5595959595959596\n",
      "New trigger level: 0.5645999908447266\n",
      "0 92 0.5646464646464647\n",
      "New trigger level: 0.5697000026702881\n",
      "1 93 0.5696969696969697\n",
      "New trigger level: 0.5748000144958496\n",
      "0 94 0.5747474747474748\n",
      "New trigger level: 0.579800009727478\n",
      "0 95 0.5797979797979799\n",
      "New trigger level: 0.5848000049591064\n",
      "0 96 0.5848484848484848\n",
      "New trigger level: 0.589900016784668\n",
      "0 97 0.5898989898989899\n",
      "New trigger level: 0.5950000286102295\n",
      "0 98 0.594949494949495\n",
      "New trigger level: 0.6000000238418579\n",
      "0 99 0.6\n"
     ]
    },
    {
     "data": {
      "text/plain": [
       "[<matplotlib.lines.Line2D at 0x1dfd38d57d0>]"
      ]
     },
     "execution_count": 15,
     "metadata": {},
     "output_type": "execute_result"
    },
    {
     "data": {
      "image/png": "[encoded data removed]",
      "text/plain": [
       "<Figure size 1000x1000 with 1 Axes>"
      ]
     },
     "metadata": {},
     "output_type": "display_data"
    }
   ],
   "source": [
    "voltmin=0.1\n",
    "voltmax=0.6\n",
    "VoltCount=int(voltmax-voltmin/0.001)\n",
    "VoltCount=100\n",
    "TTchannel=3\n",
    "voltageVal=np.linspace(voltmin,voltmax,VoltCount)\n",
    "countdata_arr=np.zeros(VoltCount)\n",
    "taggerObj.setSingleCaptureMode()\n",
    "for ivolt in range(VoltCount):\n",
    "    voltval=voltageVal[ivolt]\n",
    "    taggerObj.setTriggerLevel(TTchannel, voltval)\n",
    "    countsdata=taggerObj.getCoincidences()\n",
    "    countdata_arr[ivolt]=countsdata[1]\n",
    "    print(countsdata[1],ivolt,voltval)\n",
    "taggerObj.setContinuousCaptureMode()\n",
    "plt.plot(voltageVal,countdata_arr)"
   ]
  },
  {
   "cell_type": "markdown",
   "metadata": {},
   "source": [
    "# plot a count graph or a correlation graph"
   ]
  },
  {
   "cell_type": "code",
   "execution_count": 126,
   "metadata": {},
   "outputs": [
    {
     "name": "stdout",
     "output_type": "stream",
     "text": [
      "4750\n",
      "4.75e-09 4.75e-09 2.4025e-07\n",
      "235500\n"
     ]
    },
    {
     "data": {
      "text/plain": [
       "[<matplotlib.lines.Line2D at 0x1dfdaa49190>]"
      ]
     },
     "execution_count": 126,
     "metadata": {},
     "output_type": "execute_result"
    },
    {
     "data": {
      "image/png": "[encoded data removed]",
      "text/plain": [
       "<Figure size 1000x1000 with 1 Axes>"
      ]
     },
     "metadata": {},
     "output_type": "display_data"
    }
   ],
   "source": [
    "# CorrData=taggerObj.getCorrelatinoGraph()\n",
    "CorrData=taggerObj.getCounterGraph()\n",
    "\n",
    "plt.plot(CorrData[0,:]/1e12,CorrData[1,:])\n",
    "maxIdax=np.argmax(CorrData[1,:])\n",
    "print(CorrData[0,maxIdax])\n",
    "idx_l,idx_r, fwhm=FWHMFunc.fwhm_1d(CorrData[1,:])\n",
    "\n",
    "print(CorrData[0,idx_l]/1e12,CorrData[0,maxIdax]/1e12,CorrData[0,idx_r]/1e12)\n",
    "print(CorrData[0,idx_r]-CorrData[0,idx_l])\n",
    "\n",
    "\n",
    "plt.plot(CorrData[0,idx_l]/1e12,CorrData[1,idx_l],'.',markersize=12)\n",
    "plt.plot(CorrData[0,maxIdax]/1e12,CorrData[1,maxIdax],'.',markersize=12)\n",
    "plt.plot(CorrData[0,idx_r]/1e12,CorrData[1,idx_r],'.',markersize=12)\n",
    "\n"
   ]
  },
  {
   "cell_type": "markdown",
   "metadata": {},
   "source": [
    "# Launch the timetagger that isn't running on thread"
   ]
  },
  {
   "cell_type": "code",
   "execution_count": 29,
   "metadata": {},
   "outputs": [
    {
     "data": {
      "text/plain": [
       "True"
      ]
     },
     "execution_count": 29,
     "metadata": {},
     "output_type": "execute_result"
    }
   ],
   "source": [
    "TimeTagger.freeTimeTagger(tagger)\n"
   ]
  },
  {
   "cell_type": "markdown",
   "metadata": {},
   "source": [
    "### create the time tagger object"
   ]
  },
  {
   "cell_type": "code",
   "execution_count": 60,
   "metadata": {},
   "outputs": [],
   "source": [
    "tagger = TimeTagger.createTimeTagger()"
   ]
  },
  {
   "cell_type": "markdown",
   "metadata": {},
   "source": [
    "### Set global properties of the time tagger object "
   ]
  },
  {
   "cell_type": "code",
   "execution_count": 61,
   "metadata": {},
   "outputs": [],
   "source": [
    "\n",
    "#turn on the conditional filter\n",
    "tagger.setConditionalFilter(trigger=[1,2], filtered=[4])\n",
    "#tagger.setConditionalFilter(trigger=[1,2,3], filtered=[4])\n",
    "#Turn off the conditional filter\n",
    "# tagger.clearConditionalFilter()\n",
    "sm = TimeTagger.SynchronizedMeasurements(tagger)\n",
    "tagger.setInputDelay(1, 970)\n",
    "tagger.setInputDelay(2, 900)\n",
    "#tagger.setInputDelay(3, 2650)\n",
    "tagger.setInputDelay(4, 6200)\n",
    "\n",
    "\n"
   ]
  },
  {
   "cell_type": "code",
   "execution_count": 28,
   "metadata": {},
   "outputs": [
    {
     "data": {
      "text/plain": [
       "0.5"
      ]
     },
     "execution_count": 28,
     "metadata": {},
     "output_type": "execute_result"
    }
   ],
   "source": [
    "tagger.getTriggerLevel(4)"
   ]
  },
  {
   "cell_type": "markdown",
   "metadata": {},
   "source": [
    "# Make some correlation measurements classes"
   ]
  },
  {
   "cell_type": "code",
   "execution_count": 62,
   "metadata": {},
   "outputs": [],
   "source": [
    "binCount=3000\n",
    "channels=[1,2,3]\n",
    "#channels=[1,2,3]\n",
    "# ChannelCount=len(channels)\n",
    "corr_list = list()\n",
    "for ch in channels:\n",
    "    corr_list.append(TimeTagger.Correlation(sm.getTagger(), channel_1=4, channel_2=ch, binwidth=1, n_bins=binCount))\n",
    "\n",
    "\n",
    "corr_list.append(TimeTagger.Correlation(sm.getTagger(), channel_1=channels[0], channel_2=channels[1], binwidth=1, n_bins=binCount))\n",
    "corr_list.append(TimeTagger.Correlation(sm.getTagger(), channel_1=channels[0], channel_2=channels[2], binwidth=1, n_bins=binCount))\n",
    "corr_list.append(TimeTagger.Correlation(sm.getTagger(), channel_1=channels[1], channel_2=channels[2], binwidth=1, n_bins=binCount))\n",
    "\n",
    "\n",
    "    \n",
    "# for ch in channels:   \n",
    "#     corr_list.append(TimeTaggerCustomObj.CustomCorrelationMeasurement(sm.getTagger(),[4], [ch], binwidth=1, n_bins=binCount,MeasurementType=1))\n",
    "  \n",
    "corr_list.append(TimeTaggerCustomObj.CustomCorrelationMeasurement(sm.getTagger(),[4], channels, binwidth=1, n_bins=binCount,MeasurementType=100))\n",
    "# corr_list.append(TimeTagger.FileWriter(sm.getTagger(),'dump1234.ttbin',[1,2,3,4]))\n",
    "# ChannelCountTotal=len(corr_list)\n",
    "ChannelCount=len(corr_list)"
   ]
  },
  {
   "cell_type": "code",
   "execution_count": 37,
   "metadata": {},
   "outputs": [
    {
     "data": {
      "text/plain": [
       "6"
      ]
     },
     "execution_count": 37,
     "metadata": {},
     "output_type": "execute_result"
    }
   ],
   "source": [
    "ChannelCount"
   ]
  },
  {
   "cell_type": "markdown",
   "metadata": {},
   "source": [
    "# Take a single correlation measurement to make sure the delay is correct"
   ]
  },
  {
   "cell_type": "code",
   "execution_count": 67,
   "metadata": {},
   "outputs": [
    {
     "name": "stdout",
     "output_type": "stream",
     "text": [
      "0 0\n",
      "876.0465116279067 779.0\n",
      "861.5417490118577 762.0\n"
     ]
    },
    {
     "data": {
      "text/plain": [
       "<Figure size 500x500 with 0 Axes>"
      ]
     },
     "metadata": {},
     "output_type": "display_data"
    },
    {
     "data": {
      "image/png": "[encoded data removed]",
      "text/plain": [
       "<Figure size 500x500 with 7 Axes>"
      ]
     },
     "metadata": {},
     "output_type": "display_data"
    }
   ],
   "source": [
    "# tagger.setInputDelay(3, 0)\n",
    "tagger.setInputDelay(1, 6220-(700-81+35))\n",
    "tagger.setInputDelay(2, 6220-700-90)\n",
    "#tagger.setInputDelay(1, 2150-586-6-6+30+6)\n",
    "#tagger.setInputDelay(2, 1800-317+12-19+4+10)\n",
    "#tagger.setInputDelay(3, 1325-302+3)\n",
    "tagger.setInputDelay(4, 0)\n",
    "CountTime=40\n",
    "timeData,CorrData, CorrDataNorm=  TimetaggerFunc.GetCorrelationdata(sm,corr_list,CountTime,3000,PlotResutls=True)\n",
    "\n",
    "# If you want to get the time delay you can use either of the lines below\n",
    "# TimetaggerFunc.CalculateTimeDelay(timeData,CorrDataNorm)\n",
    "AvgTimeDelay_0,PeakTimeDelay_0 = TimetaggerFunc.CalculateTimeDelay(timeData[0,:],CorrDataNorm[0,:])\n",
    "print(AvgTimeDelay_0,PeakTimeDelay_0)\n",
    "AvgTimeDelay_1,PeakTimeDelay_1 =TimetaggerFunc.CalculateTimeDelay(timeData[0,:],CorrDataNorm[1,:])\n",
    "print(AvgTimeDelay_1,PeakTimeDelay_1)\n",
    "#AvgTimeDelay_2,PeakTimeDelay_2 =TimetaggerFunc.CalculateTimeDelay(timeData[0,:],CorrDataNorm[2,:])\n",
    "#print(AvgTimeDelay_2,PeakTimeDelay_2)\n"
   ]
  },
  {
   "cell_type": "markdown",
   "metadata": {},
   "source": [
    "# Read Raw tag files\n"
   ]
  },
  {
   "cell_type": "code",
   "execution_count": 68,
   "metadata": {},
   "outputs": [
    {
     "name": "stdout",
     "output_type": "stream",
     "text": [
      "Available RAM: 5.42 GB\n",
      "File can be loaded. File size is 0.0005134753882884979 GB\n"
     ]
    }
   ],
   "source": [
    "#Read the Raw tages\n",
    "tags=TimetaggerFunc.ReadRawTagFiles(config.PATH_TO_TIMETAGGER_FOLDER+\"Data\\\\RawTimeTags\")\n",
    "#Move the Raw tags\n",
    "# TimetaggerFunc.MoveRawTags(config.PATH_TO_TIMETAGGER_FOLDER+\"Data\\\\RawTimeTags\",\"Data\\\\RawTags\\\\\")"
   ]
  },
  {
   "cell_type": "code",
   "execution_count": 25,
   "metadata": {},
   "outputs": [
    {
     "name": "stdout",
     "output_type": "stream",
     "text": [
      "[1 2 3 4]\n"
     ]
    },
    {
     "data": {
      "text/plain": [
       "[<matplotlib.lines.Line2D at 0x1e944c36f10>]"
      ]
     },
     "execution_count": 25,
     "metadata": {},
     "output_type": "execute_result"
    },
    {
     "data": {
      "image/png": "[encoded data removed]",
      "text/plain": [
       "<Figure size 1000x1000 with 1 Axes>"
      ]
     },
     "metadata": {},
     "output_type": "display_data"
    }
   ],
   "source": [
    "# Pass the Raw tags to a function for processing/performing measurements\n",
    "binCount=3000\n",
    "data = np.zeros((binCount), dtype=np.uint64)\n",
    "unique_rows = np.unique(tags['channel'], axis=0)\n",
    "print(unique_rows)\n",
    "_,ch1,ch2=TimeTaggerCustomObj.fast_process_Correlations(tags,\n",
    "                data,\n",
    "                unique_rows[-1],          \n",
    "                unique_rows[0],\n",
    "                binCount,\n",
    "                1,\n",
    "                0)\n",
    "print(ch1,ch2)\n",
    "plt.plot(data)"
   ]
  },
  {
   "cell_type": "code",
   "execution_count": 69,
   "metadata": {},
   "outputs": [
    {
     "name": "stdout",
     "output_type": "stream",
     "text": [
      "40 0.016666666666666666 0.1 0.10256410256410256\n"
     ]
    }
   ],
   "source": [
    "# Setup distance array for peizo mount\n",
    "CountTime=40\n",
    "maxdist=4 # this is in micros\n",
    "mindist=0 # this is in micros\n",
    "distSpacing_ideal =0.1 #can go as low as 0.01\n",
    "distCount=int((maxdist-mindist)/distSpacing_ideal)\n",
    "distArr_ideal=np.linspace(mindist,maxdist,distCount)\n",
    "distSpacing=distArr_ideal[1]-distArr_ideal[0]\n",
    "print(distCount,distCount/CountTime/60,distSpacing_ideal,distSpacing)\n",
    "# distCount=10"
   ]
  },
  {
   "cell_type": "markdown",
   "metadata": {},
   "source": [
    "# Do Experiment Measurment"
   ]
  },
  {
   "cell_type": "code",
   "execution_count": 70,
   "metadata": {},
   "outputs": [
    {
     "name": "stdout",
     "output_type": "stream",
     "text": [
      "5 4.9979999999999976 54.0\n",
      "28.656780422709623 28.647 48.619\n"
     ]
    }
   ],
   "source": [
    "#RotaMountObj.SetAngle(0,0)\n",
    "#RotaMountObj.SetAngle(0,1)\n",
    "\n",
    "# Mount1Angle = RotaMountObj.SetAngle(0,0)\n",
    "# Mount2Angle = RotaMountObj.SetAngle(45,1)\n",
    "\n",
    "Mount1Angle,Mount2Angle=RotaMountObj.SetAnglePair(0,1,5)"
   ]
  },
  {
   "cell_type": "code",
   "execution_count": 71,
   "metadata": {},
   "outputs": [
    {
     "name": "stdout",
     "output_type": "stream",
     "text": [
      "40 0.1 0.10256410256410256\n",
      "0 0\n",
      "0.0 0.0\n",
      "0 0\n",
      "0.102542191839351 0.10256410256410256\n",
      "0.102542191839351\n",
      "0 0\n",
      "0.205084383678701 0.20512820512820512\n",
      "0.205084383678701\n",
      "0 0\n",
      "0.308236945707572 0.3076923076923077\n",
      "0.308236945707572\n",
      "0 0\n",
      "0.409558397167882 0.41025641025641024\n",
      "0.409558397167882\n",
      "0 0\n",
      "0.512710959196753 0.5128205128205128\n",
      "0.512710959196753\n",
      "0 0\n",
      "0.615253151036104 0.6153846153846154\n",
      "0.615253151036104\n",
      "0 0\n",
      "0.717795342875454 0.717948717948718\n",
      "0.717795342875454\n",
      "0 0\n",
      "0.820337534714804 0.8205128205128205\n",
      "0.820337534714804\n",
      "0 0\n",
      "0.922879726554155 0.923076923076923\n",
      "0.922879726554155\n",
      "0 0\n",
      "1.02542191839351 1.0256410256410255\n",
      "1.02542191839351\n",
      "0 0\n",
      "1.12796411023286 1.1282051282051282\n",
      "1.12796411023286\n",
      "0 0\n",
      "1.23050630207221 1.2307692307692308\n",
      "1.23050630207221\n",
      "0 0\n",
      "1.33304849391156 1.3333333333333333\n",
      "1.33304849391156\n",
      "0 0\n",
      "1.43620105594043 1.435897435897436\n",
      "1.43620105594043\n",
      "0 0\n",
      "1.53874324777978 1.5384615384615383\n",
      "1.53874324777978\n",
      "0 0\n",
      "1.64067506942961 1.641025641025641\n",
      "1.64067506942961\n",
      "0 0\n",
      "1.74382763145848 1.7435897435897436\n",
      "1.74382763145848\n",
      "0 0\n",
      "1.84636982329783 1.846153846153846\n",
      "1.84636982329783\n",
      "0 0\n",
      "1.94891201513718 1.9487179487179487\n",
      "1.94891201513718\n",
      "0 0\n",
      "2.05145420697653 2.051282051282051\n",
      "2.05145420697653\n",
      "0 0\n",
      "2.15399639881588 2.1538461538461537\n",
      "2.15399639881588\n",
      "0 0\n",
      "2.25714896084475 2.2564102564102564\n",
      "2.25714896084475\n",
      "0 0\n",
      "2.35908078249458 2.358974358974359\n",
      "2.35908078249458\n",
      "0 0\n",
      "2.46162297433393 2.4615384615384617\n",
      "2.46162297433393\n",
      "0 0\n",
      "2.5647755363628 2.564102564102564\n",
      "2.5647755363628\n",
      "0 0\n",
      "2.66670735801263 2.6666666666666665\n",
      "2.66670735801263\n",
      "0 0\n",
      "2.76924954985198 2.769230769230769\n",
      "2.76924954985198\n",
      "0 0\n",
      "2.87118137150182 2.871794871794872\n",
      "2.87118137150182\n",
      "0 0\n",
      "2.97372356334117 2.9743589743589745\n",
      "2.97372356334117\n",
      "0 0\n",
      "3.07748649555956 3.0769230769230766\n",
      "3.07748649555956\n",
      "0 0\n",
      "3.18002868739891 3.1794871794871793\n",
      "3.18002868739891\n",
      "0 0\n",
      "3.28257087923826 3.282051282051282\n",
      "3.28257087923826\n",
      "0 0\n",
      "3.38450270088809 3.3846153846153846\n",
      "3.38450270088809\n",
      "0 0\n",
      "3.48704489272744 3.4871794871794872\n",
      "3.48704489272744\n",
      "0 0\n",
      "3.58958708456679 3.5897435897435894\n",
      "3.58958708456679\n",
      "0 0\n",
      "3.69212927640614 3.692307692307692\n",
      "3.69212927640614\n",
      "0 0\n",
      "3.79467146824549 3.7948717948717947\n",
      "3.79467146824549\n",
      "0 0\n",
      "3.89721366008484 3.8974358974358974\n",
      "3.89721366008484\n",
      "0 0\n",
      "3.99975585192419 4.0\n",
      "3.99975585192419\n"
     ]
    },
    {
     "data": {
      "image/png": "[encoded data removed]",
      "text/plain": [
       "<Figure size 400x400 with 2 Axes>"
      ]
     },
     "metadata": {},
     "output_type": "display_data"
    }
   ],
   "source": [
    "# Setup distance array for peizo mount\n",
    "CountTime=40\n",
    "maxdist=4 # this is in micros\n",
    "mindist=0 # this is in micros\n",
    "distSpacing_ideal =0.1 #can go as low as 0.01\n",
    "distCount=int((maxdist-mindist)/distSpacing_ideal)\n",
    "distArr_ideal=np.linspace(mindist,maxdist,distCount)\n",
    "distSpacing=distArr_ideal[1]-distArr_ideal[0]\n",
    "print(distCount,distSpacing_ideal,distSpacing)\n",
    "# distCount=10\n",
    "\n",
    "#Set mount to zero\n",
    "PiezoMount.SetPosition(0.0001)\n",
    "\n",
    "# make all the arrays for the data\n",
    "timeDataAll=np.zeros((ChannelCount,binCount,distCount))\n",
    "CorrDataAll=np.zeros((ChannelCount,binCount,distCount))\n",
    "CorrDataNormAll=np.zeros((ChannelCount,binCount,distCount))\n",
    "CorrDataAdd=np.zeros((binCount,distCount))\n",
    "CorrDataNormAdd=np.zeros((binCount,distCount))\n",
    "distArr_measured=np.zeros((distCount))\n",
    "PlotDuringMeasument=True\n",
    "\n",
    "if (PlotDuringMeasument):\n",
    "    plt.figure(1,figsize=(4,4))\n",
    "    \n",
    "for idist in range(distCount):\n",
    "    \n",
    "    #################################\n",
    "    #take correlations measurment\n",
    "    #################################\n",
    "    timeData , CorrData, CorrDataNorm = TimetaggerFunc.GetCorrelationdata(sm,corr_list,CountTime,binCount)\n",
    "    timeDataAll[:,:,idist]=timeData\n",
    "    CorrDataAll[:,:,idist]= CorrData\n",
    "    CorrDataNormAll[:,:,idist]=CorrDataNorm\n",
    "    CorrDataAdd[:,idist]=np.sum(CorrData,axis=0)\n",
    "    CorrDataNormAdd[:,idist]=np.sum(CorrDataNorm,axis=0)\n",
    "    \n",
    "    #################################\n",
    "    # Move the the BeamSplitter\n",
    "    #################################\n",
    "    if (idist==0):\n",
    "        distArr_measured[idist]=float(str(PiezoMount.GetPosition()))\n",
    "        print(distArr_measured[idist],distArr_ideal[idist])\n",
    "    else:\n",
    "       \n",
    "        distArr_measured[idist]=float(str(PiezoMount.SetPosition(distArr_ideal[idist])))\n",
    "        print(distArr_measured[idist],distArr_ideal[idist])\n",
    "        print(PiezoMount.GetPosition())\n",
    "        \n",
    "    #################################\n",
    "    #save the data While we are going. This is really ineffiecent but dont really care at the moment\n",
    "    #################################\n",
    "    np.savez_compressed('Data\\\\batch_data.npz',\n",
    "                        timeDataAll=timeDataAll, CorrDataAll=CorrDataAll\n",
    "                        ,CorrDataNormAll=CorrDataNormAll\n",
    "                        ,CorrDataAdd=CorrDataAdd\n",
    "                        ,CorrDataNormAdd=CorrDataNormAdd\n",
    "                        ,distArr_ideal=distArr_ideal\n",
    "                        ,distArr_measured=distArr_measured\n",
    "                        ,AngleOfFirstWaveplate=Mount1Angle\n",
    "                        ,AngleOfSecondWaveplate=Mount2Angle\n",
    "                        )\n",
    "    TimetaggerFunc.MoveRawTags(config.PATH_TO_TIMETAGGER_FOLDER+\"Data\\\\RawTimeTags\",\"Data\\\\RawTags\\\\RawtagMountPos\"+str(idist)+\"\\\\\")\n",
    "    # save the data So far using pickle. I think npz is faster\n",
    "    # with open('Data\\\\batch_data.pkl', 'wb') as f:\n",
    "    #     pickle.dump([timeDataAll, CorrDataAll,CorrDataNormAll,CorrDataAdd,CorrDataNormAdd], f)\n",
    "    \n",
    "    #################################\n",
    "    # plot the result while we are giong\n",
    "    #################################\n",
    "    if (PlotDuringMeasument):\n",
    "        plt.subplot(1,2,1)\n",
    "        plt.imshow(CorrDataAdd,aspect='auto')\n",
    "        plt.subplot(1,2,2)\n",
    "        plt.imshow(CorrDataNormAdd,aspect='auto')\n",
    "        plt.show\n",
    "        \n",
    "# \n"
   ]
  },
  {
   "cell_type": "markdown",
   "metadata": {},
   "source": [
    "## Angle Sweep "
   ]
  },
  {
   "cell_type": "code",
   "execution_count": 35,
   "metadata": {},
   "outputs": [
    {
     "ename": "SyntaxError",
     "evalue": "invalid syntax (3876648163.py, line 8)",
     "output_type": "error",
     "traceback": [
      "\u001b[1;36m  Cell \u001b[1;32mIn[35], line 8\u001b[1;36m\u001b[0m\n\u001b[1;33m    Ok i will come down\u001b[0m\n\u001b[1;37m       ^\u001b[0m\n\u001b[1;31mSyntaxError\u001b[0m\u001b[1;31m:\u001b[0m invalid syntax\n"
     ]
    }
   ],
   "source": [
    "\n",
    "\n",
    "\n",
    "step_angle = 0.5\n",
    "start_angle = 0.5\n",
    "stop_angle = 20 + step_angle\n",
    "angleCount=int((stop_angle-start_angle)/step_angle)\n",
    "\n",
    "\n",
    "angle_arr=np.linspace(start_angle,stop_angle,angleCount)\n",
    "\n",
    "for iangle in range(angleCount): \n",
    "    Mount1Angle, Mount2Angle = RotaMountObj.SetAnglePair(0,1,angle_arr[iangle])\n",
    "    \n",
    "    # Setup distance array for peizo mount\n",
    "    CountTime=40\n",
    "    maxdist=2 # this is in micros\n",
    "    mindist=0 # this is in micros\n",
    "    distSpacing_ideal =0.05 #can go as low as 0.01\n",
    "    distCount=int((maxdist-mindist)/distSpacing_ideal)\n",
    "    distArr_ideal=np.linspace(mindist,maxdist,distCount)\n",
    "    distSpacing=distArr_ideal[1]-distArr_ideal[0]\n",
    "    print(distCount,distSpacing_ideal,distSpacing)\n",
    "    # distCount=10\n",
    "\n",
    "    #Set mount to zero\n",
    "    PiezoMount.SetPosition(0.0001)\n",
    "\n",
    "    # make all the arrays for the data\n",
    "    timeDataAll=np.zeros((ChannelCount,binCount,distCount))\n",
    "    CorrDataAll=np.zeros((ChannelCount,binCount,distCount))\n",
    "    CorrDataNormAll=np.zeros((ChannelCount,binCount,distCount))\n",
    "    CorrDataAdd=np.zeros((binCount,distCount))\n",
    "    CorrDataNormAdd=np.zeros((binCount,distCount))\n",
    "    distArr_measured=np.zeros((distCount))\n",
    "    PlotDuringMeasument=True\n",
    "\n",
    "    if (PlotDuringMeasument):\n",
    "        plt.figure(1,figsize=(4,4))\n",
    "        \n",
    "    for idist in range(distCount):\n",
    "        \n",
    "        #################################\n",
    "        #take correlations measurment\n",
    "        #################################\n",
    "        timeData , CorrData, CorrDataNorm = TimetaggerFunc.GetCorrelationdata(sm,corr_list,CountTime,binCount)\n",
    "        timeDataAll[:,:,idist]=timeData\n",
    "        CorrDataAll[:,:,idist]= CorrData\n",
    "        CorrDataNormAll[:,:,idist]=CorrDataNorm\n",
    "        CorrDataAdd[:,idist]=np.sum(CorrData,axis=0)\n",
    "        CorrDataNormAdd[:,idist]=np.sum(CorrDataNorm,axis=0)\n",
    "        \n",
    "        #################################\n",
    "        # Move the the BeamSplitter\n",
    "        #################################\n",
    "        if (idist==0):\n",
    "            distArr_measured[idist]=float(str(PiezoMount.GetPosition()))\n",
    "            print(distArr_measured[idist],distArr_ideal[idist])\n",
    "        else:\n",
    "        \n",
    "            distArr_measured[idist]=float(str(PiezoMount.SetPosition(distArr_ideal[idist])))\n",
    "            print(distArr_measured[idist],distArr_ideal[idist])\n",
    "            print(PiezoMount.GetPosition())\n",
    "            \n",
    "        #################################\n",
    "        #save the data While we are going. This is really ineffiecent but dont really care at the moment\n",
    "        #################################\n",
    "        \n",
    "        \n",
    "        np.savez_compressed('Data\\\\AngleSweep\\\\batch_data_angle_' + str(iangle),\n",
    "                            timeDataAll=timeDataAll, CorrDataAll=CorrDataAll\n",
    "                            ,CorrDataNormAll=CorrDataNormAll\n",
    "                            ,CorrDataAdd=CorrDataAdd\n",
    "                            ,CorrDataNormAdd=CorrDataNormAdd\n",
    "                            ,distArr_ideal=distArr_ideal\n",
    "                            ,distArr_measured=distArr_measured\n",
    "                            ,AngleOfFirstWaveplate=Mount1Angle\n",
    "                            ,AngleOfSecondWaveplate=Mount2Angle\n",
    "                            )\n",
    "        # save the data So far using pickle. I think npz is faster\n",
    "        # with open('Data\\\\batch_data.pkl', 'wb') as f:\n",
    "        #     pickle.dump([timeDataAll, CorrDataAll,CorrDataNormAll,CorrDataAdd,CorrDataNormAdd], f)\n",
    "        \n",
    "        #################################\n",
    "        # plot the result while we are giong\n",
    "        #################################\n",
    "        if (PlotDuringMeasument):\n",
    "            plt.subplot(1,2,1)\n",
    "            plt.imshow(CorrDataAdd,aspect='auto')\n",
    "            plt.subplot(1,2,2)\n",
    "            plt.imshow(CorrDataNormAdd,aspect='auto')\n",
    "            plt.show\n",
    "    \n",
    "\n",
    "\n",
    "\n",
    "\n"
   ]
  },
  {
   "cell_type": "code",
   "execution_count": 36,
   "metadata": {},
   "outputs": [],
   "source": [
    "#testing anglesweep filenames\n",
    "\n",
    "step_angle = 0.5\n",
    "start_angle = 0.5\n",
    "stop_angle = 20 + step_angle\n",
    "angleCount=int((stop_angle-start_angle)/step_angle)\n",
    "\n",
    "\n",
    "angle_arr=np.linspace(start_angle,stop_angle,angleCount)\n",
    "\n",
    "for iangle in range(angleCount):\n",
    "    #filenameiter = f\"{'sweepdata'}_{iangle:.1f}.npz\"\n",
    "    np.savez_compressed('Data\\\\AngleSweep\\\\batch_data_angle_' + str(iangle))      ##checking saving...will delete the files \n",
    "    \n",
    "\n",
    "\n"
   ]
  },
  {
   "cell_type": "markdown",
   "metadata": {},
   "source": [
    "# Load data"
   ]
  },
  {
   "cell_type": "code",
   "execution_count": null,
   "metadata": {},
   "outputs": [],
   "source": [
    "Dataraw = np.load('Data\\\\batch_data.npz')\n",
    "timeDataAll=Dataraw['timeDataAll']\n",
    "CorrDataAll=Dataraw['CorrDataAll']\n",
    "CorrDataNormAll=Dataraw['CorrDataNormAll']\n",
    "CorrDataAdd=Dataraw['CorrDataAdd']\n",
    "CorrDataNormAdd=Dataraw['CorrDataNormAdd']"
   ]
  },
  {
   "cell_type": "code",
   "execution_count": null,
   "metadata": {},
   "outputs": [],
   "source": []
  },
  {
   "cell_type": "markdown",
   "metadata": {},
   "source": [
    "# every thing below here is garabage just playing around with stuff"
   ]
  }
 ],
 "metadata": {
  "kernelspec": {
   "display_name": "base",
   "language": "python",
   "name": "python3"
  },
  "language_info": {
   "codemirror_mode": {
    "name": "ipython",
    "version": 3
   },
   "file_extension": ".py",
   "mimetype": "text/x-python",
   "name": "python",
   "nbconvert_exporter": "python",
   "pygments_lexer": "ipython3",
   "version": "3.11.5"
  }
 },
 "nbformat": 4,
 "nbformat_minor": 2
}
