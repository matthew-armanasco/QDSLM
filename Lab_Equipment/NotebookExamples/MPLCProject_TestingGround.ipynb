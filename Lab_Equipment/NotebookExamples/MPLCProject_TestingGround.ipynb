{
 "cells": [
  {
   "cell_type": "markdown",
   "metadata": {},
   "source": [
    "# config the workspace"
   ]
  },
  {
   "cell_type": "code",
   "execution_count": 1,
   "metadata": {},
   "outputs": [
    {
     "name": "stdout",
     "output_type": "stream",
     "text": [
      "Current Directory: h:\\MPLCProject\n",
      "This is a Windows system.\n"
     ]
    }
   ],
   "source": [
    "from Lab_Equipment.Config import config "
   ]
  },
  {
   "cell_type": "markdown",
   "metadata": {},
   "source": [
    "# load all libs"
   ]
  },
  {
   "cell_type": "code",
   "execution_count": 12,
   "metadata": {},
   "outputs": [],
   "source": [
    "# Python Libs\n",
    "import cv2\n",
    "import numpy as np\n",
    "import matplotlib.pyplot as plt\n",
    "import ctypes\n",
    "import copy\n",
    "from IPython.display import display, clear_output\n",
    "import ipywidgets\n",
    "import multiprocessing\n",
    "from multiprocessing import shared_memory\n",
    "import time\n",
    "import scipy.io\n",
    "\n",
    "from scipy import io, integrate, linalg, signal\n",
    "from scipy.io import savemat, loadmat\n",
    "from scipy.fft import fft, fftfreq, fftshift,ifftshift, fft2,ifft2,rfft2,irfft2\n",
    "# Defult Pploting properties \n",
    "plt.style.use('dark_background')\n",
    "plt.rcParams['figure.figsize'] = [5,5]\n",
    "\n",
    "#General libs\n",
    "import Lab_Equipment.GeneralLibs.ComplexPlotFunction as cmplxplt\n",
    "\n",
    "#SLM Libs\n",
    "import Lab_Equipment.SLM.pyLCOS as pyLCOS\n",
    "import Lab_Equipment.SLM.pyLCOS_pyQT as pyLCOS_pyQT\n",
    "\n",
    "import Lab_Equipment.ZernikeModule.ZernikeModule as zernMod\n",
    "import Lab_Equipment.SLM.GenerateSimplePhaseMasks as SimpMaskLib\n",
    "import Lab_Equipment.SLM.SLM_widget as slmWidget\n",
    "import Lab_Equipment.SLM.FullScreenDisplay_openCV as FullScreenLib\n",
    "\n",
    "\n",
    "#Camera Libs\n",
    "import Lab_Equipment.Camera.CameraObject as CamForm\n",
    "import Lab_Equipment.Camera.Camera_widget as CamWidget\n",
    "\n",
    "import Lab_Equipment.Camera.AlliedVisionCameraObj as AlliedCamForm\n",
    "import Lab_Equipment.Camera.QImagCameraObj as QCamForm\n",
    "import Lab_Equipment.Camera.XenicsCameraObj as XCForm\n",
    "import Lab_Equipment.Camera.FLIRCameraObj as FLIRForm\n",
    "\n",
    "#Laser Libs\n",
    "import Lab_Equipment.Laser.SantecSweeptLaser as SantecSweptLaser\n",
    "\n",
    "# digiHolo Libs\n",
    "import Lab_Equipment.digHolo.digHolo_pylibs.digiholoWindowThread as digholoObjThread\n",
    "import Lab_Equipment.digHolo.digHolo_pylibs.digholoObject as digholoObj\n",
    "\n",
    "#ALignment and Calibration Libs\n",
    "import Lab_Equipment.AlignmentRoutines.AlignmentRoutines_digholo as AlignRouts_digholo\n",
    "import Lab_Equipment.AlignmentRoutines.PhaseCalibration_SLM_digholo as PhaseCal\n",
    "\n",
    "#MEasurement Routine lib\n",
    "import Lab_Equipment.Measurements.MeasurementRoutines as MeasureLib\n",
    "\n",
    "\n",
    "# NOTE\n",
    "# when debuging multiprocesses code you can put thing in the queue and the look at it from outside the thread using \n",
    "# flag =digholoThread.digholo_queue.get_nowait()\n",
    "# print(flag)\n",
    "import TimeTagger\n",
    "# import Lab_Equipment.TimeTagger.TimeTaggerInterface as TimeTaggerMod\n",
    "import Lab_Equipment.TimeTagger.TimeTaggerFunction as TimetaggerFunc\n",
    "import Lab_Equipment.TimeTagger.TimeTaggerLiveWindow as TTLiveWindow\n",
    "\n",
    "\n"
   ]
  },
  {
   "cell_type": "code",
   "execution_count": 13,
   "metadata": {},
   "outputs": [
    {
     "name": "stdout",
     "output_type": "stream",
     "text": [
      "The autoreload extension is already loaded. To reload it, use:\n",
      "  %reload_ext autoreload\n"
     ]
    }
   ],
   "source": [
    "# This is needed to Qt stuff (I think()\n",
    "# %pylab inline\n",
    "# %gui qt5\n",
    "%matplotlib widget\n",
    "%load_ext autoreload\n",
    "#Config File\n",
    "%aimport Lab_Equipment.Config.config\n",
    "#General libs\n",
    "%aimport Lab_Equipment.GeneralLibs.ComplexPlotFunction\n",
    "#SLM Libs\n",
    "%aimport Lab_Equipment.SLM.pyLCOS\n",
    "%aimport Lab_Equipment.SLM.FullScreenDisplay_openCV\n",
    "\n",
    "%aimport Lab_Equipment.ZernikeModule.ZernikeModule\n",
    "%aimport Lab_Equipment.SLM.GenerateSimplePhaseMasks\n",
    "%aimport Lab_Equipment.SLM.SLM_widget\n",
    "\n",
    "#Camera Libs\n",
    "%aimport Lab_Equipment.Camera.CameraObject\n",
    "%aimport Lab_Equipment.Camera.Camera_widget\n",
    "%aimport Lab_Equipment.Camera.AlliedVisionCameraObj\n",
    "%aimport Lab_Equipment.Camera.QImagCameraObj\n",
    "%aimport Lab_Equipment.Camera.XenicsCameraObj\n",
    "%aimport Lab_Equipment.Camera.FLIRCameraObj \n",
    "#Laser Libs\n",
    "%aimport Lab_Equipment.Laser.SantecSweeptLaser \n",
    "\n",
    "# digiHolo Libs\n",
    "%aimport Lab_Equipment.digHolo.digHolo_pylibs.digholoHeader \n",
    "\n",
    "%aimport Lab_Equipment.digHolo.digHolo_pylibs.digiholoWindowThread \n",
    "%aimport Lab_Equipment.digHolo.digHolo_pylibs.digholoObject\n",
    "\n",
    "#ALignment and Calibration Libs\n",
    "%aimport Lab_Equipment.AlignmentRoutines.AlignmentRoutines_digholo\n",
    "%aimport Lab_Equipment.AlignmentRoutines.PhaseCalibration_SLM_digholo\n",
    "%aimport Lab_Equipment.Measurements.MeasurementRoutines\n",
    "%aimport  Lab_Equipment.AlignmentRoutines.AlignmentFunctions\n",
    "\n",
    "%aimport Lab_Equipment.TimeTagger.TimeTaggerFunction \n",
    "%aimport Lab_Equipment.TimeTagger.TimeTaggerLiveWindow\n",
    "\n",
    "%autoreload 1"
   ]
  },
  {
   "cell_type": "code",
   "execution_count": null,
   "metadata": {},
   "outputs": [
    {
     "name": "stdout",
     "output_type": "stream",
     "text": [
      "\n",
      "        Zern Coefs:\n",
      "        0:  piston    ( 0,  0 )\n",
      "        1:  Tiltx     (-1,  1 )\n",
      "        2:  Tilty     ( 1,  1 )\n",
      "        3:  Astigx    (-2,  2 )\n",
      "        4:  Defocus   ( 0,  2 )\n",
      "        5:  Astigy    ( 2,  2 )\n",
      "        6:  Trefilx   (-3,  3 )\n",
      "        7:  Comax     (-1,  3 )\n",
      "        8:  Comay     ( 1,  3 )\n",
      "        9:  Trefoily  ( 3,  3 )\n",
      "        12:  Spherical ( 0,  4 )\n",
      "        \n",
      "Monitor index 1 out of range. Using primary monitor instead.\n",
      "Using monitor 1: x=0, y=0, width=1024, height=768\n"
     ]
    }
   ],
   "source": [
    "slm = pyLCOS.LCOS(screen=1, ActiveRGBChannels=['Red'],pixel_size=9.2e-6,RefreshTime=400*1e-3)"
   ]
  },
  {
   "cell_type": "code",
   "execution_count": 26,
   "metadata": {},
   "outputs": [],
   "source": [
    "mask=np.ones((1,1,127,256),dtype=complex)"
   ]
  },
  {
   "cell_type": "code",
   "execution_count": 27,
   "metadata": {},
   "outputs": [
    {
     "name": "stdout",
     "output_type": "stream",
     "text": [
      "(127, 256) (127, 256)\n",
      "(127, 256) (127, 256)\n",
      "(127, 256) (127, 256)\n",
      "(127, 256) (127, 256)\n",
      "(127, 256) (127, 256)\n",
      "(127, 256) (127, 256)\n",
      "(127, 256) (127, 256)\n",
      "(127, 256) (127, 256)\n",
      "(127, 256) (127, 256)\n",
      "(127, 256) (127, 256)\n",
      "(127, 256) (127, 256)\n",
      "(127, 256) (127, 256)\n",
      "(127, 256) (127, 256)\n",
      "(127, 256) (127, 256)\n",
      "(127, 256) (127, 256)\n",
      "(127, 256) (127, 256)\n",
      "(127, 256) (127, 256)\n",
      "(127, 256)\n",
      "(127, 256)\n",
      "(127, 256) (127, 256)\n",
      "(127, 256) (127, 256)\n",
      "(127, 256) (127, 256)\n",
      "(127, 256) (127, 256)\n",
      "(127, 256) (127, 256)\n",
      "(127, 256) (127, 256)\n",
      "(127, 256) (127, 256)\n",
      "(127, 256) (127, 256)\n",
      "(127, 256) (127, 256)\n",
      "(127, 256) (127, 256)\n",
      "(127, 256) (127, 256)\n",
      "(127, 256) (127, 256)\n",
      "(127, 256) (127, 256)\n",
      "(127, 256) (127, 256)\n",
      "(127, 256) (127, 256)\n",
      "(127, 256) (127, 256)\n",
      "(127, 256) (127, 256)\n",
      "(127, 256)\n",
      "(127, 256)\n",
      "(127, 256)\n",
      "(127, 256)\n",
      "(127, 256)\n",
      "(127, 256)\n",
      "(127, 256)\n",
      "(127, 256)\n",
      "(127, 256)\n",
      "(127, 256)\n"
     ]
    }
   ],
   "source": [
    "slm.setMaskArray(\"Red\",mask)"
   ]
  },
  {
   "cell_type": "code",
   "execution_count": 14,
   "metadata": {},
   "outputs": [
    {
     "data": {
      "application/vnd.jupyter.widget-view+json": {
       "model_id": "ddfb7efceee44b1293a077c6074c8b7a",
       "version_major": 2,
       "version_minor": 0
      },
      "text/plain": [
       "GridBox(children=(Dropdown(description='Channel', layout=Layout(width='200px'), options=(('Red SLM', 'Red'), (…"
      ]
     },
     "metadata": {},
     "output_type": "display_data"
    },
    {
     "data": {
      "application/vnd.jupyter.widget-view+json": {
       "model_id": "e7fcba506fdc468da8b7a327f5320249",
       "version_major": 2,
       "version_minor": 0
      },
      "image/png": "[encoded data removed]",
      "text/html": [
       "\n",
       "            <div style=\"display: inline-block;\">\n",
       "                <div class=\"jupyter-widgets widget-label\" style=\"text-align: center;\">\n",
       "                    Figure\n",
       "                </div>\n",
       "                <img src='data:image/png;base64,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' width=500.0/>\n",
       "            </div>\n",
       "        "
      ],
      "text/plain": [
       "Canvas(header_visible=False, toolbar=Toolbar(toolitems=[('Home', 'Reset original view', 'home', 'home'), ('Bac…"
      ]
     },
     "metadata": {},
     "output_type": "display_data"
    }
   ],
   "source": [
    "display(slmWidget.create_slm_widget(slm))\n"
   ]
  },
  {
   "cell_type": "markdown",
   "metadata": {},
   "source": [
    "# Test the NealderMead funciton"
   ]
  },
  {
   "cell_type": "code",
   "execution_count": 15,
   "metadata": {},
   "outputs": [
    {
     "name": "stdout",
     "output_type": "stream",
     "text": [
      "Minimum value from grid = 0.0000 at x = 3.00, y = -1.00\n"
     ]
    }
   ],
   "source": [
    "\n",
    "# Define the function again\n",
    "def f(x, y):\n",
    "    return (x - 3)**2 + (y + 1)**2\n",
    "\n",
    "# Make a grid\n",
    "x_vals = np.linspace(-5, 10, 10000)\n",
    "y_vals = np.linspace(-10, 5, 10000)\n",
    "X, Y = np.meshgrid(x_vals, y_vals)\n",
    "Z = f(X, Y)\n",
    "\n",
    "# Find the minimum value and location\n",
    "min_val = np.min(Z)\n",
    "min_idx = np.unravel_index(np.argmin(Z), Z.shape)\n",
    "min_x = X[min_idx]\n",
    "min_y = Y[min_idx]\n",
    "\n",
    "print(f\"Minimum value from grid = {min_val:.4f} at x = {min_x:.2f}, y = {min_y:.2f}\")"
   ]
  },
  {
   "cell_type": "code",
   "execution_count": 16,
   "metadata": {},
   "outputs": [
    {
     "name": "stdout",
     "output_type": "stream",
     "text": [
      "Evaluating at x=0.000, y=0.000 -> cost=10.000\n",
      "Evaluating at x=1.000, y=0.000 -> cost=5.000\n",
      "Evaluating at x=0.000, y=2.000 -> cost=18.000\n",
      "Evaluating at x=1.000, y=-2.000 -> cost=5.000\n",
      "Callback: x=1.000, y=0.000\n",
      "Evaluating at x=2.000, y=-2.000 -> cost=2.000\n",
      "Evaluating at x=3.000, y=-3.000 -> cost=4.000\n",
      "Callback: x=2.000, y=-2.000\n",
      "Evaluating at x=2.000, y=0.000 -> cost=2.000\n",
      "Callback: x=2.000, y=-2.000\n",
      "Evaluating at x=3.000, y=-2.000 -> cost=1.000\n",
      "Evaluating at x=4.000, y=-3.000 -> cost=5.000\n",
      "Callback: x=3.000, y=-2.000\n",
      "Evaluating at x=3.000, y=-4.000 -> cost=9.000\n",
      "Evaluating at x=2.250, y=-1.000 -> cost=0.562\n",
      "Callback: x=2.250, y=-1.000\n",
      "Evaluating at x=3.250, y=-1.000 -> cost=0.062\n",
      "Evaluating at x=3.875, y=-0.500 -> cost=1.016\n",
      "Callback: x=3.250, y=-1.000\n",
      "Evaluating at x=2.500, y=0.000 -> cost=1.250\n",
      "Evaluating at x=2.875, y=-1.500 -> cost=0.266\n",
      "Callback: x=3.250, y=-1.000\n",
      "Evaluating at x=3.875, y=-1.500 -> cost=1.016\n",
      "Evaluating at x=2.656, y=-1.125 -> cost=0.134\n",
      "Callback: x=3.250, y=-1.000\n",
      "Evaluating at x=3.031, y=-0.625 -> cost=0.142\n",
      "Evaluating at x=2.992, y=-0.844 -> cost=0.024\n",
      "Callback: x=2.992, y=-0.844\n",
      "Evaluating at x=3.586, y=-0.719 -> cost=0.422\n",
      "Evaluating at x=2.889, y=-1.023 -> cost=0.013\n",
      "Callback: x=2.889, y=-1.023\n",
      "Evaluating at x=2.631, y=-0.867 -> cost=0.154\n",
      "Evaluating at x=3.095, y=-0.967 -> cost=0.010\n",
      "Callback: x=3.095, y=-0.967\n",
      "Evaluating at x=2.992, y=-1.146 -> cost=0.022\n",
      "Evaluating at x=2.992, y=-1.071 -> cost=0.005\n",
      "Callback: x=2.992, y=-1.071\n",
      "Evaluating at x=3.198, y=-1.014 -> cost=0.040\n",
      "Evaluating at x=2.966, y=-1.021 -> cost=0.002\n",
      "Callback: x=2.966, y=-1.021\n",
      "Evaluating at x=2.863, y=-1.125 -> cost=0.035\n",
      "Evaluating at x=3.037, y=-1.006 -> cost=0.001\n",
      "Callback: x=3.037, y=-1.006\n",
      "Evaluating at x=3.011, y=-0.957 -> cost=0.002\n",
      "Evaluating at x=3.006, y=-0.985 -> cost=0.000\n",
      "Callback: x=3.006, y=-0.985\n",
      "Evaluating at x=3.077, y=-0.970 -> cost=0.007\n",
      "Evaluating at x=2.994, y=-1.008 -> cost=0.000\n",
      "Callback: x=2.994, y=-1.008\n",
      "Evaluating at x=2.963, y=-0.987 -> cost=0.002\n",
      "Evaluating at x=3.019, y=-1.002 -> cost=0.000\n",
      "Callback: x=2.994, y=-1.008\n",
      "Evaluating at x=2.982, y=-0.992 -> cost=0.000\n",
      "Evaluating at x=3.009, y=-0.999 -> cost=0.000\n",
      "Callback: x=3.009, y=-0.999\n",
      "Evaluating at x=2.997, y=-1.022 -> cost=0.001\n",
      "Evaluating at x=3.004, y=-0.995 -> cost=0.000\n",
      "Callback: x=3.004, y=-0.995\n",
      "Evaluating at x=3.020, y=-0.985 -> cost=0.001\n",
      "Evaluating at x=3.000, y=-1.003 -> cost=0.000\n",
      "Callback: x=3.000, y=-1.003\n",
      "Evaluating at x=2.995, y=-0.998 -> cost=0.000\n",
      "Callback: x=3.000, y=-1.003\n",
      "Evaluating at x=2.991, y=-1.006 -> cost=0.000\n",
      "Evaluating at x=3.001, y=-0.997 -> cost=0.000\n",
      "Callback: x=3.000, y=-1.003\n",
      "Evaluating at x=3.006, y=-1.002 -> cost=0.000\n",
      "Evaluating at x=2.998, y=-0.999 -> cost=0.000\n",
      "Callback: x=2.998, y=-0.999\n",
      "Evaluating at x=2.997, y=-1.004 -> cost=0.000\n",
      "Evaluating at x=3.000, y=-0.999 -> cost=0.000\n",
      "Callback: x=3.000, y=-0.999\n",
      "Evaluating at x=2.997, y=-0.995 -> cost=0.000\n",
      "Evaluating at x=3.000, y=-1.001 -> cost=0.000\n",
      "Callback: x=3.000, y=-0.999\n",
      "Evaluating at x=3.002, y=-1.001 -> cost=0.000\n",
      "Evaluating at x=3.001, y=-1.000 -> cost=0.000\n",
      "Callback: x=3.000, y=-0.999\n",
      "Evaluating at x=3.001, y=-0.999 -> cost=0.000\n",
      "Evaluating at x=3.000, y=-1.000 -> cost=0.000\n",
      "Callback: x=3.000, y=-1.000\n",
      "Evaluating at x=2.999, y=-0.999 -> cost=0.000\n",
      "Evaluating at x=3.000, y=-1.000 -> cost=0.000\n",
      "Callback: x=3.000, y=-1.000\n",
      "Evaluating at x=3.000, y=-1.001 -> cost=0.000\n",
      "Evaluating at x=3.000, y=-1.000 -> cost=0.000\n",
      "Callback: x=3.000, y=-1.000\n",
      "Evaluating at x=3.000, y=-1.000 -> cost=0.000\n",
      "Evaluating at x=2.999, y=-1.000 -> cost=0.000\n",
      "Callback: x=3.000, y=-1.000\n",
      "Evaluating at x=3.000, y=-0.999 -> cost=0.000\n",
      "Evaluating at x=3.000, y=-1.000 -> cost=0.000\n",
      "Callback: x=3.000, y=-1.000\n",
      "Evaluating at x=3.000, y=-1.000 -> cost=0.000\n",
      "Evaluating at x=3.000, y=-1.000 -> cost=0.000\n",
      "Callback: x=3.000, y=-1.000\n",
      "Evaluating at x=3.000, y=-1.000 -> cost=0.000\n",
      "Evaluating at x=3.000, y=-1.000 -> cost=0.000\n",
      "Callback: x=3.000, y=-1.000\n",
      "Evaluating at x=3.000, y=-1.000 -> cost=0.000\n",
      "Evaluating at x=3.000, y=-1.000 -> cost=0.000\n",
      "Callback: x=3.000, y=-1.000\n",
      "Evaluating at x=3.000, y=-1.000 -> cost=0.000\n",
      "Evaluating at x=3.000, y=-1.000 -> cost=0.000\n",
      "Callback: x=3.000, y=-1.000\n",
      "Evaluating at x=3.000, y=-1.000 -> cost=0.000\n",
      "Evaluating at x=3.000, y=-1.000 -> cost=0.000\n",
      "Callback: x=3.000, y=-1.000\n",
      "Evaluating at x=3.000, y=-1.000 -> cost=0.000\n",
      "Evaluating at x=3.000, y=-1.000 -> cost=0.000\n",
      "Callback: x=3.000, y=-1.000\n",
      "Evaluating at x=3.000, y=-1.000 -> cost=0.000\n",
      "Evaluating at x=3.000, y=-1.000 -> cost=0.000\n",
      "Callback: x=3.000, y=-1.000\n",
      "Evaluating at x=3.000, y=-1.000 -> cost=0.000\n",
      "Evaluating at x=3.000, y=-1.000 -> cost=0.000\n",
      "Callback: x=3.000, y=-1.000\n",
      "Evaluating at x=3.000, y=-1.000 -> cost=0.000\n",
      "Evaluating at x=3.000, y=-1.000 -> cost=0.000\n",
      "Callback: x=3.000, y=-1.000\n",
      "Evaluating at x=3.000, y=-1.000 -> cost=0.000\n",
      "Evaluating at x=3.000, y=-1.000 -> cost=0.000\n",
      "Callback: x=3.000, y=-1.000\n",
      "Evaluating at x=3.000, y=-1.000 -> cost=0.000\n",
      "Evaluating at x=3.000, y=-1.000 -> cost=0.000\n",
      "Callback: x=3.000, y=-1.000\n",
      "Evaluating at x=3.000, y=-1.000 -> cost=0.000\n",
      "Evaluating at x=3.000, y=-1.000 -> cost=0.000\n",
      "Callback: x=3.000, y=-1.000\n",
      "Evaluating at x=3.000, y=-1.000 -> cost=0.000\n",
      "Evaluating at x=3.000, y=-1.000 -> cost=0.000\n",
      "Callback: x=3.000, y=-1.000\n",
      "Evaluating at x=3.000, y=-1.000 -> cost=0.000\n",
      "Callback: x=3.000, y=-1.000\n",
      "Evaluating at x=3.000, y=-1.000 -> cost=0.000\n",
      "Evaluating at x=3.000, y=-1.000 -> cost=0.000\n",
      "Callback: x=3.000, y=-1.000\n",
      "Evaluating at x=3.000, y=-1.000 -> cost=0.000\n",
      "Evaluating at x=3.000, y=-1.000 -> cost=0.000\n",
      "Callback: x=3.000, y=-1.000\n",
      "Evaluating at x=3.000, y=-1.000 -> cost=0.000\n",
      "Evaluating at x=3.000, y=-1.000 -> cost=0.000\n",
      "Callback: x=3.000, y=-1.000\n",
      "Evaluating at x=3.000, y=-1.000 -> cost=0.000\n",
      "Evaluating at x=3.000, y=-1.000 -> cost=0.000\n",
      "Callback: x=3.000, y=-1.000\n",
      "Evaluating at x=3.000, y=-1.000 -> cost=0.000\n",
      "Evaluating at x=3.000, y=-1.000 -> cost=0.000\n",
      "Callback: x=3.000, y=-1.000\n",
      "Evaluating at x=3.000, y=-1.000 -> cost=0.000\n",
      "Evaluating at x=3.000, y=-1.000 -> cost=0.000\n",
      "Callback: x=3.000, y=-1.000\n",
      "Callback: x=3.000, y=-1.000\n",
      "Optimization terminated successfully.\n",
      "         Current function value: 0.000000\n",
      "         Iterations: 52\n",
      "         Function evaluations: 101\n",
      "\n",
      "Final Result:\n",
      "       message: Optimization terminated successfully.\n",
      "       success: True\n",
      "        status: 0\n",
      "           fun: 1.3954738456121931e-13\n",
      "             x: [ 3.000e+00 -1.000e+00]\n",
      "           nit: 52\n",
      "          nfev: 101\n",
      " final_simplex: (array([[ 3.000e+00, -1.000e+00],\n",
      "                       [ 3.000e+00, -1.000e+00],\n",
      "                       [ 3.000e+00, -1.000e+00]]), array([ 1.395e-13,  1.588e-13,  3.756e-13]))\n"
     ]
    }
   ],
   "source": [
    "import numpy as np\n",
    "from scipy.optimize import minimize\n",
    "\n",
    "# Define the cost function\n",
    "def cost_function(params):\n",
    "    x, y = params\n",
    "    value = (x - 3)**2 + (y + 1)**2\n",
    "    print(f\"Evaluating at x={x:.3f}, y={y:.3f} -> cost={value:.3f}\")\n",
    "    return value\n",
    "\n",
    "def cost_function_v2(params):\n",
    "    x, y = params\n",
    "    value = (x - 3)**2 + (y + 1)**2\n",
    "    # print(f\"Evaluating at x={x:.3f}, y={y:.3f} -> cost={value:.3f}\")\n",
    "    return value,params\n",
    "\n",
    "# Callback function to see the updates\n",
    "def print_callback(params):\n",
    "    x, y = params\n",
    "    print(f\"Callback: x={x:.3f}, y={y:.3f}\")\n",
    "\n",
    "# Initial guess\n",
    "x0 = [0.0, 0.0]\n",
    "\n",
    "# Define a custom simplex (triangle in 2D)\n",
    "initial_simplex = np.array([\n",
    "    [0.0, 0.0],        # initial point\n",
    "    [1.0, 0.0],        # 1 unit step in x\n",
    "    [0.0, 2.0]         # 2 unit step in y\n",
    "])\n",
    "\n",
    "# Run minimisation\n",
    "result = minimize(\n",
    "    cost_function,\n",
    "    x0,\n",
    "    method='Nelder-Mead',\n",
    "    callback=print_callback,\n",
    "    options={\n",
    "        'disp': True,\n",
    "        'initial_simplex': initial_simplex,\n",
    "        'xatol': 1e-6,\n",
    "        'fatol': 1e-6,\n",
    "        'maxiter': 100\n",
    "    }\n",
    ")\n",
    "\n",
    "# Print final result\n",
    "print(\"\\nFinal Result:\")\n",
    "print(result)\n"
   ]
  },
  {
   "cell_type": "code",
   "execution_count": 18,
   "metadata": {},
   "outputs": [
    {
     "data": {
      "text/plain": [
       "array([ 3.00000037, -0.99999998])"
      ]
     },
     "execution_count": 18,
     "metadata": {},
     "output_type": "execute_result"
    }
   ],
   "source": [
    "result.x"
   ]
  },
  {
   "cell_type": "code",
   "execution_count": 12,
   "metadata": {},
   "outputs": [
    {
     "name": "stdout",
     "output_type": "stream",
     "text": [
      "(3, 2)\n"
     ]
    }
   ],
   "source": [
    "test=np.array([\n",
    "    [0.0, 0.0],        # initial point\n",
    "    [1.0, 0.0],        # 1 unit step in x\n",
    "    [0.0, 2.0]         # 2 unit step in y\n",
    "])\n",
    "print(test.shape)"
   ]
  },
  {
   "cell_type": "code",
   "execution_count": 10,
   "metadata": {},
   "outputs": [
    {
     "data": {
      "text/plain": [
       "(2,)"
      ]
     },
     "execution_count": 10,
     "metadata": {},
     "output_type": "execute_result"
    }
   ],
   "source": [
    "InitalxVertex.shape"
   ]
  },
  {
   "cell_type": "code",
   "execution_count": 10,
   "metadata": {},
   "outputs": [
    {
     "name": "stdout",
     "output_type": "stream",
     "text": [
      "[10.  5. 18.]\n",
      "[[0. 1. 0.]\n",
      " [0. 0. 2.]]\n",
      "0  Function Value=  5.0  Error Accros Values=  3.299831645537222  Verterx Value=  [1. 0.]\n",
      "[ 5. 10.  2.]\n",
      "1  Function Value=  2.0  Error Accros Values=  1.247219128924647  Verterx Value=  [ 2. -2.]\n",
      "[2. 5. 4.]\n",
      "2  Function Value=  2.0  Error Accros Values=  0.8897565210026093  Verterx Value=  [ 2. -2.]\n",
      "[2.   4.   2.25]\n",
      "3  Function Value=  2.0  Error Accros Values=  0.2041241452319315  Verterx Value=  [ 2. -2.]\n",
      "[2.   2.25 2.5 ]\n",
      "4  Function Value=  2.0  Error Accros Values=  0.10206207261596575  Verterx Value=  [ 2. -2.]\n",
      "[2.    2.25  2.125]\n",
      "5  Function Value=  2.0  Error Accros Values=  0.12842529172852035  Verterx Value=  [ 2. -2.]\n",
      "[2.     2.125  1.8125]\n",
      "6  Function Value=  1.8125  Error Accros Values=  0.17921510973005472  Verterx Value=  [ 1.75 -1.5 ]\n",
      "[1.8125 2.     1.5625]\n",
      "7  Function Value=  1.5625  Error Accros Values=  0.13031245836663338  Verterx Value=  [ 1.75 -1.  ]\n",
      "[1.5625   1.8125   1.515625]\n",
      "8  Function Value=  1.515625  Error Accros Values=  0.24749175771909837  Verterx Value=  [ 1.875 -1.5  ]\n",
      "[1.515625 1.5625   1.015625]\n",
      "9  Function Value=  1.015625  Error Accros Values=  0.2042569953242456  Verterx Value=  [ 2.125 -1.5  ]\n",
      "[1.015625 1.515625 1.25    ]\n",
      "10  Function Value=  1.015625  Error Accros Values=  0.3627184447183364  Verterx Value=  [ 2.125 -1.5  ]\n",
      "[1.015625 1.25     0.390625]\n",
      "11  Function Value=  0.390625  Error Accros Values=  0.3953533273822572  Verterx Value=  [ 2.625 -1.5  ]\n",
      "[0.390625 1.015625 0.0625  ]\n",
      "12  Function Value=  0.0625  Error Accros Values=  0.1537671660753596  Verterx Value=  [ 2.75 -1.  ]\n",
      "[0.0625     0.390625   0.06640625]\n",
      "13  Function Value=  0.0625  Error Accros Values=  0.01573313277811793  Verterx Value=  [ 2.75 -1.  ]\n",
      "[0.0625     0.06640625 0.09765625]\n",
      "14  Function Value=  0.0625  Error Accros Values=  0.0016598370812476513  Verterx Value=  [ 2.75 -1.  ]\n",
      "[0.0625     0.06640625 0.06347656]\n",
      "15  Function Value=  0.0625  Error Accros Values=  0.018188431047785145  Verterx Value=  [ 2.75 -1.  ]\n",
      "[0.0625     0.06347656 0.02441406]\n",
      "16  Function Value=  0.0244140625  Error Accros Values=  0.02005060363858658  Verterx Value=  [ 2.90625 -0.875  ]\n",
      "[0.02441406 0.0625     0.01660156]\n",
      "17  Function Value=  0.0166015625  Error Accros Values=  0.003867058714360912  Verterx Value=  [ 3.03125 -0.875  ]\n",
      "[0.01660156 0.02441406 0.01586914]\n",
      "18  Function Value=  0.015869140625  Error Accros Values=  0.00041495927031191284  Verterx Value=  [ 2.890625 -0.9375  ]\n",
      "[0.01586914 0.01660156 0.015625  ]\n",
      "19  Function Value=  0.015625  Error Accros Values=  0.004547107761946286  Verterx Value=  [ 2.875 -1.   ]\n",
      "[0.015625   0.01586914 0.00610352]\n",
      "20  Function Value=  0.006103515625  Error Accros Values=  0.005012650909646645  Verterx Value=  [ 2.953125 -0.9375  ]\n",
      "[0.00610352 0.015625   0.00415039]\n",
      "21  Function Value=  0.004150390625  Error Accros Values=  0.000966764678590228  Verterx Value=  [ 3.015625 -0.9375  ]\n",
      "[0.00415039 0.00610352 0.00396729]\n",
      "22  Function Value=  0.00396728515625  Error Accros Values=  0.00010373981757797821  Verterx Value=  [ 2.9453125 -0.96875  ]\n",
      "[0.00396729 0.00415039 0.00390625]\n",
      "23  Function Value=  0.00390625  Error Accros Values=  0.0011367769404865716  Verterx Value=  [ 2.9375 -1.    ]\n",
      "[0.00390625 0.00396729 0.00152588]\n",
      "24  Function Value=  0.00152587890625  Error Accros Values=  0.0012531627274116612  Verterx Value=  [ 2.9765625 -0.96875  ]\n",
      "[0.00152588 0.00390625 0.0010376 ]\n",
      "25  Function Value=  0.00103759765625  Error Accros Values=  0.000241691169647557  Verterx Value=  [ 3.0078125 -0.96875  ]\n",
      "[0.0010376  0.00152588 0.00099182]\n",
      "26  Function Value=  0.0009918212890625  Error Accros Values=  2.5934954394494552e-05  Verterx Value=  [ 2.97265625 -0.984375  ]\n",
      "[0.00099182 0.0010376  0.00097656]\n",
      "27  Function Value=  0.0009765625  Error Accros Values=  0.0002841942351216429  Verterx Value=  [ 2.96875 -1.     ]\n",
      "[0.00097656 0.00099182 0.00038147]\n",
      "28  Function Value=  0.0003814697265625  Error Accros Values=  0.0003132906818529153  Verterx Value=  [ 2.98828125 -0.984375  ]\n",
      "[0.00038147 0.00097656 0.0002594 ]\n",
      "29  Function Value=  0.0002593994140625  Error Accros Values=  6.042279241188925e-05  Verterx Value=  [ 3.00390625 -0.984375  ]\n",
      "[0.0002594  0.00038147 0.00024796]\n",
      "30  Function Value=  0.000247955322265625  Error Accros Values=  6.483738598623638e-06  Verterx Value=  [ 2.98632812 -0.9921875 ]\n",
      "[0.00024796 0.0002594  0.00024414]\n",
      "31  Function Value=  0.000244140625  Error Accros Values=  7.104855878041072e-05  Verterx Value=  [ 2.984375 -1.      ]\n",
      "[2.44140625e-04 2.47955322e-04 9.53674316e-05]\n",
      "32  Function Value=  9.5367431640625e-05  Error Accros Values=  7.832267046322883e-05  Verterx Value=  [ 2.99414062 -0.9921875 ]\n",
      "[9.53674316e-05 2.44140625e-04 6.48498535e-05]\n",
      "33  Function Value=  6.4849853515625e-05  Error Accros Values=  1.5105698102972313e-05  Verterx Value=  [ 3.00195312 -0.9921875 ]\n",
      "[6.48498535e-05 9.53674316e-05 6.19888306e-05]\n",
      "34  Function Value=  6.198883056640625e-05  Error Accros Values=  1.6209346496559095e-06  Verterx Value=  [ 2.99316406 -0.99609375]\n",
      "[6.19888306e-05 6.48498535e-05 6.10351562e-05]\n",
      "35  Function Value=  6.103515625e-05  Error Accros Values=  1.776213969510268e-05  Verterx Value=  [ 2.9921875 -1.       ]\n",
      "[6.10351562e-05 6.19888306e-05 2.38418579e-05]\n",
      "36  Function Value=  2.384185791015625e-05  Error Accros Values=  1.9580667615807207e-05  Verterx Value=  [ 2.99707031 -0.99609375]\n",
      "[2.38418579e-05 6.10351562e-05 1.62124634e-05]\n",
      "37  Function Value=  1.621246337890625e-05  Error Accros Values=  3.776424525743078e-06  Verterx Value=  [ 3.00097656 -0.99609375]\n",
      "[1.62124634e-05 2.38418579e-05 1.54972076e-05]\n",
      "38  Function Value=  1.5497207641601562e-05  Error Accros Values=  4.052336624139774e-07  Verterx Value=  [ 2.99658203 -0.99804688]\n",
      "[1.54972076e-05 1.62124634e-05 1.52587891e-05]\n",
      "39  Function Value=  1.52587890625e-05  Error Accros Values=  4.44053492377567e-06  Verterx Value=  [ 2.99609375 -1.        ]\n",
      "[1.52587891e-05 1.54972076e-05 5.96046448e-06]\n",
      "40  Function Value=  5.9604644775390625e-06  Error Accros Values=  4.895166903951802e-06  Verterx Value=  [ 2.99853516 -0.99804688]\n",
      "[5.96046448e-06 1.52587891e-05 4.05311584e-06]\n",
      "41  Function Value=  4.0531158447265625e-06  Error Accros Values=  9.441061314357695e-07  Verterx Value=  [ 3.00048828 -0.99804688]\n",
      "[4.05311584e-06 5.96046448e-06 3.87430191e-06]\n",
      "42  Function Value=  3.874301910400391e-06  Error Accros Values=  1.0130841560349434e-07  Verterx Value=  [ 2.99829102 -0.99902344]\n",
      "[3.87430191e-06 4.05311584e-06 3.81469727e-06]\n",
      "43  Function Value=  3.814697265625e-06  Error Accros Values=  1.1101337309439176e-06  Verterx Value=  [ 2.99804688 -1.        ]\n",
      "[3.81469727e-06 3.87430191e-06 1.49011612e-06]\n",
      "44  Function Value=  1.4901161193847656e-06  Error Accros Values=  1.2237917259879504e-06  Verterx Value=  [ 2.99926758 -0.99902344]\n",
      "[1.49011612e-06 3.81469727e-06 1.01327896e-06]\n",
      "45  Function Value=  1.0132789611816406e-06  Error Accros Values=  2.3602653285894239e-07  Verterx Value=  [ 3.00024414 -0.99902344]\n",
      "[1.01327896e-06 1.49011612e-06 9.68575478e-07]\n",
      "46  Function Value=  9.685754776000977e-07  Error Accros Values=  2.5327103900873586e-08  Verterx Value=  [ 2.99914551 -0.99951172]\n",
      "[9.68575478e-07 1.01327896e-06 9.53674316e-07]\n",
      "47  Function Value=  9.5367431640625e-07  Error Accros Values=  2.775334327359794e-07  Verterx Value=  [ 2.99902344 -1.        ]\n",
      "[9.53674316e-07 9.68575478e-07 3.72529030e-07]\n",
      "48  Function Value=  3.725290298461914e-07  Error Accros Values=  3.059479314969876e-07  Verterx Value=  [ 2.99963379 -0.99951172]\n",
      "[3.72529030e-07 9.53674316e-07 2.53319740e-07]\n",
      "49  Function Value=  2.5331974029541016e-07  Error Accros Values=  5.9006633214735596e-08  Verterx Value=  [ 3.00012207 -0.99951172]\n",
      "[2.53319740e-07 3.72529030e-07 2.42143869e-07]\n",
      "50  Function Value=  2.421438694000244e-07  Error Accros Values=  6.3317759752183966e-09  Verterx Value=  [ 2.99957275 -0.99975586]\n",
      "[2.42143869e-07 2.53319740e-07 2.38418579e-07]\n",
      "51  Function Value=  2.384185791015625e-07  Error Accros Values=  6.938335818399485e-08  Verterx Value=  [ 2.99951172 -1.        ]\n",
      "[2.38418579e-07 2.42143869e-07 9.31322575e-08]\n",
      "52  Function Value=  9.313225746154785e-08  Error Accros Values=  7.64869828742469e-08  Verterx Value=  [ 2.99981689 -0.99975586]\n",
      "[9.31322575e-08 2.38418579e-07 6.33299351e-08]\n",
      "53  Function Value=  6.332993507385254e-08  Error Accros Values=  1.4751658303683899e-08  Verterx Value=  [ 3.00006104 -0.99975586]\n",
      "[6.33299351e-08 9.31322575e-08 6.05359674e-08]\n",
      "54  Function Value=  6.05359673500061e-08  Error Accros Values=  1.5829439938045991e-09  Verterx Value=  [ 2.99978638 -0.99987793]\n",
      "[6.05359674e-08 6.33299351e-08 5.96046448e-08]\n",
      "55  Function Value=  5.960464477539063e-08  Error Accros Values=  1.7345839545998712e-08  Verterx Value=  [ 2.99975586 -1.        ]\n",
      "[5.96046448e-08 6.05359674e-08 2.32830644e-08]\n",
      "56  Function Value=  2.3283064365386963e-08  Error Accros Values=  1.9121745718561725e-08  Verterx Value=  [ 2.99990845 -0.99987793]\n",
      "[2.32830644e-08 5.96046448e-08 1.58324838e-08]\n",
      "57  Function Value=  1.5832483768463135e-08  Error Accros Values=  3.6879145759209748e-09  Verterx Value=  [ 3.00003052 -0.99987793]\n",
      "[1.58324838e-08 2.32830644e-08 1.51339918e-08]\n",
      "58  Function Value=  1.5133991837501526e-08  Error Accros Values=  3.957359984511498e-10  Verterx Value=  [ 2.99989319 -0.99993896]\n",
      "[1.51339918e-08 1.58324838e-08 1.49011612e-08]\n",
      "59  Function Value=  1.4901161193847656e-08  Error Accros Values=  4.336459886499678e-09  Verterx Value=  [ 2.99987793 -1.        ]\n",
      "[1.49011612e-08 1.51339918e-08 5.82076609e-09]\n",
      "60  Function Value=  5.820766091346741e-09  Error Accros Values=  4.780436429640431e-09  Verterx Value=  [ 2.99995422 -0.99993896]\n",
      "[5.82076609e-09 1.49011612e-08 3.95812094e-09]\n",
      "61  Function Value=  3.958120942115784e-09  Error Accros Values=  9.219786439802437e-10  Verterx Value=  [ 3.00001526 -0.99993896]\n",
      "[3.95812094e-09 5.82076609e-09 3.78349796e-09]\n",
      "62  Function Value=  3.7834979593753815e-09  Error Accros Values=  9.893399961278745e-11  Verterx Value=  [ 2.99994659 -0.99996948]\n",
      "[3.78349796e-09 3.95812094e-09 3.72529030e-09]\n",
      "63  Function Value=  3.725290298461914e-09  Error Accros Values=  1.0841149716249195e-09  Verterx Value=  [ 2.99993896 -1.        ]\n",
      "[3.72529030e-09 3.78349796e-09 1.45519152e-09]\n",
      "64  Function Value=  1.4551915228366852e-09  Error Accros Values=  1.1951091074101078e-09  Verterx Value=  [ 2.99997711 -0.99996948]\n",
      "[1.45519152e-09 3.72529030e-09 9.89530236e-10]\n",
      "65  Function Value=  9.89530235528946e-10  Error Accros Values=  2.3049466099506092e-10  Verterx Value=  [ 3.00000763 -0.99996948]\n",
      "[9.89530236e-10 1.45519152e-09 9.45874490e-10]\n",
      "66  Function Value=  9.458744898438454e-10  Error Accros Values=  2.473349990319686e-11  Verterx Value=  [ 2.9999733  -0.99998474]\n",
      "[9.45874490e-10 9.89530236e-10 9.31322575e-10]\n",
      "67  Function Value=  9.313225746154785e-10  Error Accros Values=  2.7102874290622987e-10  Verterx Value=  [ 2.99996948 -1.        ]\n",
      "[9.31322575e-10 9.45874490e-10 3.63797881e-10]\n",
      "68  Function Value=  3.637978807091713e-10  Error Accros Values=  2.9877727685252696e-10  Verterx Value=  [ 2.99998856 -0.99998474]\n",
      "[3.63797881e-10 9.31322575e-10 2.47382559e-10]\n",
      "69  Function Value=  2.473825588822365e-10  Error Accros Values=  5.762366524876523e-11  Verterx Value=  [ 3.00000381 -0.99998474]\n",
      "[2.47382559e-10 3.63797881e-10 2.36468622e-10]\n",
      "70  Function Value=  2.3646862246096134e-10  Error Accros Values=  6.183374975799215e-12  Verterx Value=  [ 2.99998665 -0.99999237]\n",
      "[2.36468622e-10 2.47382559e-10 2.32830644e-10]\n",
      "71  Function Value=  2.3283064365386963e-10  Error Accros Values=  6.775718572655747e-11  Verterx Value=  [ 2.99998474 -1.        ]\n",
      "[2.32830644e-10 2.36468622e-10 9.09494702e-11]\n",
      "72  Function Value=  9.094947017729282e-11  Error Accros Values=  7.469431921313174e-11  Verterx Value=  [ 2.99999428 -0.99999237]\n",
      "[9.09494702e-11 2.32830644e-10 6.18456397e-11]\n",
      "73  Function Value=  6.184563972055912e-11  Error Accros Values=  1.4405916312191308e-11  Verterx Value=  [ 3.00000191 -0.99999237]\n",
      "[6.18456397e-11 9.09494702e-11 5.91171556e-11]\n",
      "74  Function Value=  5.911715561524034e-11  Error Accros Values=  1.5458437439498038e-12  Verterx Value=  [ 2.99999332 -0.99999619]\n",
      "[5.91171556e-11 6.18456397e-11 5.82076609e-11]\n",
      "75  Function Value=  5.820766091346741e-11  Error Accros Values=  1.6939296431639367e-11  Verterx Value=  [ 2.99999237 -1.        ]\n",
      "[5.82076609e-11 5.91171556e-11 2.27373675e-11]\n",
      "76  Function Value=  2.2737367544323206e-11  Error Accros Values=  1.8673579803282935e-11  Verterx Value=  [ 2.99999714 -0.99999619]\n",
      "[2.27373675e-11 5.82076609e-11 1.54614099e-11]\n",
      "77  Function Value=  1.546140993013978e-11  Error Accros Values=  3.601479078047827e-12  Verterx Value=  [ 3.00000095 -0.99999619]\n",
      "[1.54614099e-11 2.27373675e-11 1.47792889e-11]\n",
      "78  Function Value=  1.4779288903810084e-11  Error Accros Values=  3.8646093598745096e-13  Verterx Value=  [ 2.99999666 -0.99999809]\n",
      "[1.47792889e-11 1.54614099e-11 1.45519152e-11]\n",
      "79  Function Value=  1.4551915228366852e-11  Error Accros Values=  4.234824107909842e-12  Verterx Value=  [ 2.99999619 -1.        ]\n",
      "[1.45519152e-11 1.47792889e-11 5.68434189e-12]\n",
      "80  Function Value=  5.6843418860808015e-12  Error Accros Values=  4.668394950820734e-12  Verterx Value=  [ 2.99999857 -0.99999809]\n",
      "[5.68434189e-12 1.45519152e-11 3.86535248e-12]\n",
      "81  Function Value=  3.865352482534945e-12  Error Accros Values=  9.003697695119567e-13  Verterx Value=  [ 3.00000048 -0.99999809]\n",
      "[3.86535248e-12 5.68434189e-12 3.69482223e-12]\n",
      "82  Function Value=  3.694822225952521e-12  Error Accros Values=  9.661523399686274e-14  Verterx Value=  [ 2.99999833 -0.99999905]\n",
      "[3.69482223e-12 3.86535248e-12 3.63797881e-12]\n",
      "83  Function Value=  3.637978807091713e-12  Error Accros Values=  1.0587060269774604e-12  Verterx Value=  [ 2.99999809 -1.        ]\n",
      "[3.63797881e-12 3.69482223e-12 1.42108547e-12]\n",
      "84  Function Value=  1.4210854715202004e-12  Error Accros Values=  1.1670987377051834e-12  Verterx Value=  [ 2.99999928 -0.99999905]\n",
      "[1.42108547e-12 3.63797881e-12 9.66338121e-13]\n",
      "85  Function Value=  9.663381206337363e-13  Error Accros Values=  2.2509244237798918e-13  Verterx Value=  [ 3.00000024 -0.99999905]\n",
      "[9.66338121e-13 1.42108547e-12 9.23705556e-13]\n",
      "86  Function Value=  9.237055564881302e-13  Error Accros Values=  2.4153808499215685e-14  Verterx Value=  [ 2.99999917 -0.99999952]\n",
      "[9.23705556e-13 9.66338121e-13 9.09494702e-13]\n",
      "87  Function Value=  9.094947017729282e-13  Error Accros Values=  2.646765067443651e-13  Verterx Value=  [ 2.99999905 -1.        ]\n",
      "[9.09494702e-13 9.23705556e-13 3.55271368e-13]\n",
      "88  Function Value=  3.552713678800501e-13  Error Accros Values=  2.9177468442629586e-13  Verterx Value=  [ 2.99999964 -0.99999952]\n",
      "[3.55271368e-13 9.09494702e-13 2.41584530e-13]\n",
      "89  Function Value=  2.4158453015843406e-13  Error Accros Values=  5.6273110594497296e-14  Verterx Value=  [ 3.00000012 -0.99999952]\n",
      "[2.41584530e-13 3.55271368e-13 2.30926389e-13]\n",
      "90  Function Value=  2.3092638912203256e-13  Error Accros Values=  6.038452124803921e-15  Verterx Value=  [ 2.99999958 -0.99999976]\n",
      "[2.30926389e-13 2.41584530e-13 2.27373675e-13]\n",
      "91  Function Value=  2.2737367544323206e-13  Error Accros Values=  6.616912668609128e-14  Verterx Value=  [ 2.99999952 -1.        ]\n",
      "[2.27373675e-13 2.30926389e-13 8.88178420e-14]\n",
      "92  Function Value=  8.881784197001252e-14  Error Accros Values=  7.294367110657396e-14  Verterx Value=  [ 2.99999982 -0.99999976]\n",
      "[8.88178420e-14 2.27373675e-13 6.03961325e-14]\n",
      "93  Function Value=  6.039613253960852e-14  Error Accros Values=  1.4068277648624324e-14  Verterx Value=  [ 3.00000006 -0.99999976]\n",
      "[6.03961325e-14 8.88178420e-14 5.77315973e-14]\n",
      "94  Function Value=  5.773159728050814e-14  Error Accros Values=  1.5096130312009803e-15  Verterx Value=  [ 2.99999979 -0.99999988]\n",
      "[5.77315973e-14 6.03961325e-14 5.68434189e-14]\n",
      "95  Function Value=  5.684341886080802e-14  Error Accros Values=  1.654228167152282e-14  Verterx Value=  [ 2.99999976 -1.        ]\n",
      "[5.68434189e-14 5.77315973e-14 2.22044605e-14]\n",
      "96  Function Value=  2.220446049250313e-14  Error Accros Values=  1.823591777664349e-14  Verterx Value=  [ 2.99999991 -0.99999988]\n",
      "[2.22044605e-14 5.68434189e-14 1.50990331e-14]\n",
      "97  Function Value=  1.509903313490213e-14  Error Accros Values=  3.517069412156081e-15  Verterx Value=  [ 3.00000003 -0.99999988]\n",
      "[1.50990331e-14 2.22044605e-14 1.44328993e-14]\n",
      "98  Function Value=  1.4432899320127035e-14  Error Accros Values=  3.774032578002451e-16  Verterx Value=  [ 2.9999999  -0.99999994]\n",
      "[1.44328993e-14 1.50990331e-14 1.42108547e-14]\n",
      "99  Function Value=  1.4210854715202004e-14  Error Accros Values=  4.135570417880705e-15  Verterx Value=  [ 2.99999988 -1.        ]\n",
      "[1.42108547e-14 1.44328993e-14 5.55111512e-15]\n",
      "100  Function Value=  5.551115123125783e-15  Error Accros Values=  4.558979444160873e-15  Verterx Value=  [ 2.99999996 -0.99999994]\n",
      "[5.55111512e-15 1.42108547e-14 3.77475828e-15]\n",
      "101  Function Value=  3.774758283725532e-15  Error Accros Values=  8.792673530390202e-16  Verterx Value=  [ 3.00000001 -0.99999994]\n",
      "[3.77475828e-15 5.55111512e-15 3.60822483e-15]\n",
      "102  Function Value=  3.608224830031759e-15  Error Accros Values=  9.435081445006127e-17  Verterx Value=  [ 2.99999995 -0.99999997]\n",
      "[3.60822483e-15 3.77475828e-15 3.55271368e-15]\n",
      "103  Function Value=  3.552713678800501e-15  Error Accros Values=  1.0338926044701762e-15  Verterx Value=  [ 2.99999994 -1.        ]\n",
      "[3.55271368e-15 3.60822483e-15 1.38777878e-15]\n",
      "104  Function Value=  1.3877787807814457e-15  Error Accros Values=  1.1397448610402182e-15  Verterx Value=  [ 2.99999998 -0.99999997]\n",
      "[1.38777878e-15 3.55271368e-15 9.43689571e-16]\n",
      "105  Function Value=  9.43689570931383e-16  Error Accros Values=  2.1981683825975506e-16  Verterx Value=  [ 3.00000001 -0.99999997]\n",
      "[9.43689571e-16 1.38777878e-15 9.02056208e-16]\n",
      "106  Function Value=  9.020562075079397e-16  Error Accros Values=  2.3587703612515317e-17  Verterx Value=  [ 2.99999997 -0.99999999]\n",
      "[9.02056208e-16 9.43689571e-16 8.88178420e-16]\n",
      "107  Function Value=  8.881784197001252e-16  Error Accros Values=  2.5847315111754405e-16  Verterx Value=  [ 2.99999997 -1.        ]\n",
      "[8.88178420e-16 9.02056208e-16 3.46944695e-16]\n",
      "108  Function Value=  3.469446951953614e-16  Error Accros Values=  2.8493621526005455e-16  Verterx Value=  [ 2.99999999 -0.99999999]\n",
      "[3.46944695e-16 8.88178420e-16 2.35922393e-16]\n",
      "109  Function Value=  2.3592239273284576e-16  Error Accros Values=  5.4954209564938765e-17  Verterx Value=  [ 3.         -0.99999999]\n",
      "[2.35922393e-16 3.46944695e-16 2.25514052e-16]\n",
      "110  Function Value=  2.255140518769849e-16  Error Accros Values=  5.896925903128829e-18  Verterx Value=  [ 2.99999999 -0.99999999]\n",
      "[2.25514052e-16 2.35922393e-16 2.22044605e-16]\n",
      "111  Function Value=  2.220446049250313e-16  Error Accros Values=  6.461828777938601e-17  Verterx Value=  [ 2.99999999 -1.        ]\n",
      "[2.22044605e-16 2.25514052e-16 8.67361738e-17]\n",
      "112  Function Value=  8.673617379884035e-17  Error Accros Values=  7.123405381501364e-17  Verterx Value=  [ 2.99999999 -0.99999999]\n",
      "[8.67361738e-17 2.22044605e-16 5.89805982e-17]\n",
      "113  Function Value=  5.898059818321144e-17  Error Accros Values=  1.3738552391234691e-17  Verterx Value=  [ 3.         -0.99999999]\n",
      "[5.89805982e-17 8.67361738e-17 5.63785130e-17]\n",
      "114  Function Value=  5.637851296924623e-17  Error Accros Values=  1.4742314757822073e-18  Verterx Value=  [ 2.99999999 -1.        ]\n",
      "[5.63785130e-17 5.89805982e-17 5.55111512e-17]\n",
      "115  Function Value=  5.551115123125783e-17  Error Accros Values=  1.6154571944846503e-17  Verterx Value=  [ 2.99999999 -1.        ]\n",
      "[5.55111512e-17 5.63785130e-17 2.16840434e-17]\n",
      "116  Function Value=  2.168404344971009e-17  Error Accros Values=  1.780851345375341e-17  Verterx Value=  [ 3. -1.]\n",
      "[2.16840434e-17 5.55111512e-17 1.47451495e-17]\n",
      "117  Function Value=  1.474514954580286e-17  Error Accros Values=  3.434638097808673e-18  Verterx Value=  [ 3. -1.]\n",
      "[1.47451495e-17 2.16840434e-17 1.40946282e-17]\n",
      "118  Function Value=  1.4094628242311558e-17  Error Accros Values=  3.6855786894555184e-19  Verterx Value=  [ 3. -1.]\n",
      "[1.40946282e-17 1.47451495e-17 1.38777878e-17]\n",
      "119  Function Value=  1.3877787807814457e-17  Error Accros Values=  4.038642986211626e-18  Verterx Value=  [ 3. -1.]\n",
      "[1.38777878e-17 1.40946282e-17 5.42101086e-18]\n",
      "120  Function Value=  5.421010862427522e-18  Error Accros Values=  4.452128363438352e-18  Verterx Value=  [ 3. -1.]\n",
      "[5.42101086e-18 1.38777878e-17 3.68628739e-18]\n",
      "121  Function Value=  3.686287386450715e-18  Error Accros Values=  8.586595244521682e-19  Verterx Value=  [ 3. -1.]\n",
      "[3.68628739e-18 5.42101086e-18 3.52365706e-18]\n",
      "122  Function Value=  3.5236570605778894e-18  Error Accros Values=  9.213946723638796e-20  Verterx Value=  [ 3. -1.]\n",
      "[3.52365706e-18 3.68628739e-18 3.46944695e-18]\n",
      "123  Function Value=  3.469446951953614e-18  Error Accros Values=  1.0096607465529065e-18  Verterx Value=  [ 3. -1.]\n",
      "[3.46944695e-18 3.52365706e-18 1.35525272e-18]\n",
      "124  Function Value=  1.3552527156068805e-18  Error Accros Values=  1.113032090859588e-18  Verterx Value=  [ 3. -1.]\n",
      "[1.35525272e-18 3.46944695e-18 9.21571847e-19]\n",
      "125  Function Value=  9.215718466126788e-19  Error Accros Values=  2.1466488111304205e-19  Verterx Value=  [ 3. -1.]\n",
      "[9.21571847e-19 1.35525272e-18 8.80914265e-19]\n",
      "126  Function Value=  8.809142651444724e-19  Error Accros Values=  2.303486680909699e-20  Verterx Value=  [ 3. -1.]\n",
      "[8.80914265e-19 9.21571847e-19 8.67361738e-19]\n",
      "127  Function Value=  8.673617379884035e-19  Error Accros Values=  2.524151866382266e-19  Verterx Value=  [ 3. -1.]\n",
      "[8.67361738e-19 8.80914265e-19 3.38813179e-19]\n",
      "128  Function Value=  3.3881317890172014e-19  Error Accros Values=  2.78258022714897e-19  Verterx Value=  [ 3. -1.]\n",
      "[3.38813179e-19 8.67361738e-19 2.30392962e-19]\n",
      "129  Function Value=  2.303929616531697e-19  Error Accros Values=  5.3666220278260513e-20  Verterx Value=  [ 3. -1.]\n",
      "[2.30392962e-19 3.38813179e-19 2.20228566e-19]\n",
      "130  Function Value=  2.202285662861181e-19  Error Accros Values=  5.7587167022742474e-21  Verterx Value=  [ 3. -1.]\n",
      "[2.20228566e-19 2.30392962e-19 2.16840434e-19]\n",
      "Finished Optimisation in  131  steps\n",
      "\n",
      "Final Result:\n",
      "((2.202285662861181e-19, array([ 3., -1.])), array([ 3., -1.]))\n"
     ]
    }
   ],
   "source": [
    "import  Lab_Equipment.AlignmentRoutines.AlignmentFunctions as AlignFunc\n",
    "maxAttempts=200\n",
    "ErrTol=1e-20\n",
    "InitalxVertex=np.asarray([0,0])\n",
    "StepArray=np.asarray([1,2])\n",
    "result=AlignFunc.NelderMead(StepArray,InitalxVertex,ErrTol,maxAttempts,cost_function_v2)\n",
    "# Print final result\n",
    "print(\"\\nFinal Result:\")\n",
    "print(result)"
   ]
  },
  {
   "cell_type": "code",
   "execution_count": 11,
   "metadata": {},
   "outputs": [],
   "source": [
    "AlignFunc.ChangeFileForStopAliginment(0)"
   ]
  },
  {
   "cell_type": "markdown",
   "metadata": {},
   "source": [
    "# Connect to Camera"
   ]
  },
  {
   "cell_type": "code",
   "execution_count": null,
   "metadata": {},
   "outputs": [],
   "source": [
    "del CamFLIR"
   ]
  },
  {
   "cell_type": "code",
   "execution_count": null,
   "metadata": {},
   "outputs": [],
   "source": [
    "# CamXenics=XCForm.XenicsCameraObject('cam://0')\n",
    "CamFLIR=FLIRForm.FLIRCameraObject()"
   ]
  },
  {
   "cell_type": "code",
   "execution_count": null,
   "metadata": {},
   "outputs": [],
   "source": [
    "display(CamWidget.create_camera_widget(CamFLIR.CamObject))"
   ]
  },
  {
   "cell_type": "markdown",
   "metadata": {},
   "source": [
    "# lanuch digholo window"
   ]
  },
  {
   "cell_type": "code",
   "execution_count": null,
   "metadata": {},
   "outputs": [],
   "source": [
    "del digholoThread"
   ]
  },
  {
   "cell_type": "code",
   "execution_count": null,
   "metadata": {},
   "outputs": [],
   "source": [
    "# del digholo\n",
    "digholoThread=digholoObjThread.digholoWindow(CamXenics.CamObject)\n",
    "# Example of Changing values in digholo and realign digholo\n"
   ]
  },
  {
   "cell_type": "code",
   "execution_count": null,
   "metadata": {},
   "outputs": [],
   "source": [
    "digholoThread.digholoWindowAutoAlgin()"
   ]
  },
  {
   "cell_type": "markdown",
   "metadata": {},
   "source": [
    "# make a digholo object seperate to the Window"
   ]
  },
  {
   "cell_type": "code",
   "execution_count": null,
   "metadata": {},
   "outputs": [],
   "source": [
    "del digholo_obj"
   ]
  },
  {
   "cell_type": "code",
   "execution_count": null,
   "metadata": {},
   "outputs": [],
   "source": [
    "digholo_obj=digholoObj.digholoObject(CamXenics.CamObject)"
   ]
  },
  {
   "cell_type": "markdown",
   "metadata": {},
   "source": [
    "## Change some properties of digholo"
   ]
  },
  {
   "cell_type": "code",
   "execution_count": null,
   "metadata": {},
   "outputs": [],
   "source": [
    "digholoThread.SetPausePlayDigholo()"
   ]
  },
  {
   "cell_type": "markdown",
   "metadata": {},
   "source": [
    "# lanuch an SLM"
   ]
  },
  {
   "cell_type": "markdown",
   "metadata": {},
   "source": [
    "### Make some simple masks for manual aligment purposes"
   ]
  },
  {
   "cell_type": "markdown",
   "metadata": {},
   "source": [
    "### Load mask from a file"
   ]
  },
  {
   "cell_type": "code",
   "execution_count": null,
   "metadata": {},
   "outputs": [],
   "source": [
    "del slm"
   ]
  },
  {
   "cell_type": "code",
   "execution_count": null,
   "metadata": {},
   "outputs": [],
   "source": [
    "phase_masks=SimpMaskLib.PiFlipMasks(256,256,7,False)\n",
    "# lensMaks=SimpMaskLib.LenMask(4.8e-3,808e-9,256,256,9.2e-6,False)\n",
    "# Load the .mat file\n",
    "FolderName=\"MPLC_MASK\\\\\"\n",
    "FileName=\"LGGroup6_8um_25mmPlane_Best_MASK\"\n",
    "# FileName=\"LGGroup6_8um_25mmPlane_Wavelength_Best_MASK\"\n",
    "\n",
    "FileName=\"Gauss8p641toLG3p5Azmth17_Dis50p06_bandW50_Best_MASK\"\n",
    "\n",
    "\n",
    "data = scipy.io.loadmat(FolderName+FileName+'.mat')\n",
    "\n",
    "# # Extract a specific variable (replace 'variable_name' with the actual name)\n",
    "MasksFromFile = data['MASKS']\n",
    "\n",
    "\n",
    "slm = pyLCOS.LCOS(screen=1, ActiveRGBChannels=['Red'], pixel_size=8e-6,PhaseMask=MasksFromFile,RefreshTime=400*1e-3)\n",
    "# slm = pyLCOS_pyQT.LCOS(screen=2, ActiveRGBChannels=['Red'], pixel_size=8e-6,PhaseMask=MasksFromFile,RefreshTime=200*1e-3)\n",
    "\n",
    "# To load on a new mask set of any size just use the line below it should handle it for you \n",
    "# slm.setMaskArray(\"Red\", phase_masks)\n",
    "slm.setMaskArray(\"Red\", (MasksFromFile))\n",
    "\n",
    "slm.LoadMaskProperties(\"LGGroup6_8um_25mmPlane_Wavelength_Best_MASK\")"
   ]
  },
  {
   "cell_type": "code",
   "execution_count": null,
   "metadata": {},
   "outputs": [],
   "source": [
    "phase_masks=SimpMaskLib.PiFlipMasks(256,256,7,False)\n",
    "slm.setMaskArray(\"Red\", phase_masks)\n",
    "# slm.setMaskArray(\"Red\", (MasksFromFile))\n"
   ]
  },
  {
   "cell_type": "markdown",
   "metadata": {},
   "source": [
    "# This gives you a live update gui for the masks. If you have run an alignment you should alway hit the update all SLM button to get the most up to date value."
   ]
  },
  {
   "cell_type": "code",
   "execution_count": null,
   "metadata": {},
   "outputs": [],
   "source": [
    "display(slmWidget.create_slm_widget(slm))"
   ]
  },
  {
   "cell_type": "markdown",
   "metadata": {},
   "source": [
    "# Course Sweep to roughly see how many bounces there are across the SLM\n",
    "### Just watch the camera live feed and see how many time the beam undergoes defraction "
   ]
  },
  {
   "cell_type": "code",
   "execution_count": null,
   "metadata": {},
   "outputs": [],
   "source": [
    "slm.CourseSweepAcrossSLM(\"Red\",30)"
   ]
  },
  {
   "cell_type": "markdown",
   "metadata": {},
   "source": [
    "# Phase Calibration"
   ]
  },
  {
   "cell_type": "code",
   "execution_count": null,
   "metadata": {},
   "outputs": [],
   "source": [
    "# FramesFromPhaseCal=AlignRoutines.PhaseCalibration(slm_SPDC,\"Red\",CamAllied.CamObject,'y')\n",
    "# FramesFromPhaseCal=AlignRoutines.PhaseCalibration(slm_SPDC,\"Green\",CamAllied.CamObject,'x')\n",
    "FramesFromPhaseCal=PhaseCal.PhaseCalibration(slm,\"Red\",CamXenics.CamObject,'y',6,\"H\")\n"
   ]
  },
  {
   "cell_type": "code",
   "execution_count": null,
   "metadata": {},
   "outputs": [],
   "source": [
    "FieldFromPhaseCal,windowString=PhaseCal.ProcessFramesFromPhaseCal(FrameBuffer=FramesFromPhaseCal,\n",
    "                              digholoObj=digholo_obj, \n",
    "                              MaskNum=7,FFTRadiusIn=0.2,wavelength=1550e-9,Nx=256,Ny=256,CampixelSize=30e-6)\n",
    "\n",
    "# FieldFromPhaseCal,windowString=PhaseCal.ProcessFramesFromPhaseCal(FramesFromPhaseCal,7,0.2,CampixelSize=CamXenics.CamObject.PixelSize)"
   ]
  },
  {
   "cell_type": "code",
   "execution_count": null,
   "metadata": {},
   "outputs": [],
   "source": [
    "slm.saveMaskProperties(\"LGGroup6_8um_25mmPlane_Wavelength_Best_MASK\")\n",
    "# slm.saveMaskProperties(\"LGGroup6_8um_25mmPlane_Best_MASK\")\n"
   ]
  },
  {
   "cell_type": "markdown",
   "metadata": {},
   "source": [
    "# Alignment of Centers"
   ]
  },
  {
   "cell_type": "code",
   "execution_count": null,
   "metadata": {},
   "outputs": [],
   "source": [
    "AlignmentObject=AlignRouts_digholo.AlginmentObj_digiholo(slmObject=slm,\n",
    "                                                         CamObj=CamXenics.CamObject,\n",
    "                                                         digiholoObj=digholo_obj,\n",
    "                                                         MaskSize=[320,320],\n",
    "                                                         PixelsCountFromCenters=100,\n",
    "                                                         ApplyZernike=False,\n",
    "                                                         pol='H')"
   ]
  },
  {
   "cell_type": "code",
   "execution_count": null,
   "metadata": {},
   "outputs": [],
   "source": [
    "AlignmentObject.MaskSize=[320,320]"
   ]
  },
  {
   "cell_type": "code",
   "execution_count": null,
   "metadata": {},
   "outputs": [],
   "source": [
    "AlignmentObject.MakeReferenceField()\n"
   ]
  },
  {
   "cell_type": "code",
   "execution_count": null,
   "metadata": {},
   "outputs": [],
   "source": [
    "AlignmentObject.AvgFrameCount=30"
   ]
  },
  {
   "cell_type": "code",
   "execution_count": null,
   "metadata": {},
   "outputs": [],
   "source": [
    "AlignmentObject.PerformCenterAlignment_GoldenSearch()"
   ]
  },
  {
   "cell_type": "code",
   "execution_count": null,
   "metadata": {},
   "outputs": [],
   "source": [
    "RefSigPWR,RefSigPWR_log,PixelFlipStep=AlignmentObject.SweepAcrossSLM_Field(25,int(100))"
   ]
  },
  {
   "cell_type": "code",
   "execution_count": null,
   "metadata": {},
   "outputs": [],
   "source": [
    "PropertiesToAlign = {\n",
    "                \"AlignCenters\": False,\n",
    "                \"AlignPiston\": True,\n",
    "                \"AlignTiltX\": False,\n",
    "                \"AlignTiltY\": False,\n",
    "                \"AlignDefocus\": False,\n",
    "                \"AlignFirstTiltX\": False,\n",
    "                \"AlignFirstTiltY\": False,\n",
    "                \"AlignLastTiltX\": False,\n",
    "                \"AlignLastTiltY\": False,\n",
    "                \"AlignDefocusFirst\": False,\n",
    "                \"AlignDefocusLast\": False\n",
    "            }\n",
    "InitialStepSizes = {\n",
    "                \"d_Centers\": 50,\n",
    "                \"d_Piston\": 1,\n",
    "                \"d_TiltX\": 20,\n",
    "                \"d_TiltY\": 20,\n",
    "                \"d_Defocus\": 5\n",
    "            }"
   ]
  },
  {
   "cell_type": "code",
   "execution_count": null,
   "metadata": {},
   "outputs": [],
   "source": [
    "AlignmentObject.MultiDimAlignmentOfSLM(maxAttempts=100, GoalMetric=digholoObj.digholoMetrics.SNRAVG,InitialStepSizes=InitialStepSizes,PropertiesToAlign=PropertiesToAlign)"
   ]
  },
  {
   "cell_type": "markdown",
   "metadata": {},
   "source": [
    "# Measurement Routines"
   ]
  },
  {
   "cell_type": "code",
   "execution_count": null,
   "metadata": {},
   "outputs": [],
   "source": [
    "MeasObj=MeasureLib.MeasurmentObj(slmObject=slm,CamObj=CamXenics.CamObject,digiholoObj=digholo_obj)"
   ]
  },
  {
   "cell_type": "code",
   "execution_count": null,
   "metadata": {},
   "outputs": [],
   "source": [
    "digholoThread.SetPausePlayDigholo()"
   ]
  },
  {
   "cell_type": "code",
   "execution_count": null,
   "metadata": {},
   "outputs": [],
   "source": [
    "# digholoThread.SetPausePlayDigholo()\n",
    "for i in range(10000):\n",
    "    Frames=MeasObj.GetBatchOfFrames()\n",
    "# digholoThread.SetPausePlayDigholo()\n"
   ]
  },
  {
   "cell_type": "code",
   "execution_count": null,
   "metadata": {},
   "outputs": [],
   "source": [
    "digholoThread.Set_digholoWindowProps(digholo_obj.digholoProperties)"
   ]
  },
  {
   "cell_type": "code",
   "execution_count": null,
   "metadata": {},
   "outputs": [],
   "source": [
    "digholo_obj.loadTransformMatrix(\"TransformMatrix_LGGroup7.npy\")"
   ]
  },
  {
   "cell_type": "code",
   "execution_count": null,
   "metadata": {},
   "outputs": [],
   "source": [
    "digholo_obj.digholoProperties[\"FFTRadius\"]=0.4\n",
    "digholo_obj.digholoProperties[\"fftWindowSizeY\"]=256\n",
    "digholo_obj.digholoProperties[\"fftWindowSizeX\"]=256\n",
    "digholo_obj.digholoProperties[\"verbosity\"]=0\n",
    "digholo_obj.digholoProperties[\"resolutionMode\"]=0\n",
    "digholo_obj.digholoProperties[\"maxMG\"]=7\n",
    "digholo_obj.digholoProperties[\"basisType\"]=2\n",
    "\n",
    "digholo_obj.digholoProperties[\"goalIdx\"]=digholoObj.digholoMetrics.IL\n",
    "\n",
    "\n",
    "\n",
    "\n",
    "\n",
    "# Frame=CamXenics.CamObject.GetFrame(True)\n",
    "coefs,metrics=digholo_obj.digHolo_AutoAlign(Frames)\n",
    "Fullimage,_, WindowSting=digholo_obj.GetViewport_arr(Frames)\n",
    "plt.figure(1)\n",
    "plt.imshow(Fullimage)\n",
    "CoefsImage,MetricsText=digholo_obj.GetCoefAndMetricsForOutput()\n",
    "canvasToDispla_Coefs=digholo_obj.DisplayWindow_GraphWithText(CoefsImage,MetricsText)\n",
    "# plt.imshow(canvasToDispla_Coefs)\n",
    "plt.figure(2)\n",
    "plt.imshow(CoefsImage)\n",
    "print(MetricsText)\n",
    "\n",
    "#update the digholo thread properties\n",
    "digholoThread.Set_digholoWindowProps(digholo_obj.digholoProperties)\n",
    "\n",
    "\n",
    "#just plots the fields\n",
    "# Fields=digholo_obj.digHolo_GetFields()\n",
    "# digholo_obj.PlotFields(0,0,Fields)"
   ]
  },
  {
   "cell_type": "code",
   "execution_count": null,
   "metadata": {},
   "outputs": [],
   "source": [
    "plt.imshow(cmplxplt.ComplexArrayToRgb(coefs))"
   ]
  },
  {
   "cell_type": "code",
   "execution_count": null,
   "metadata": {},
   "outputs": [],
   "source": [
    "a=coefs @ digholo_obj.TransformMat\n",
    "plt.imshow(cmplxplt.ComplexArrayToRgb(a))\n"
   ]
  },
  {
   "cell_type": "code",
   "execution_count": null,
   "metadata": {},
   "outputs": [],
   "source": [
    "test=digholo_obj.test[:,0::2]+1j*digholo_obj.test[:,1::2]\n",
    "plt.imshow(cmplxplt.ComplexArrayToRgb(test))\n"
   ]
  },
  {
   "cell_type": "code",
   "execution_count": null,
   "metadata": {},
   "outputs": [],
   "source": [
    "public: void mplcReverseOrderOMaskXCenters() {\n",
    "\t\tint MaskCountRevLoop;\n",
    "\t\tif (slmMaskCount % 2 == 0) {\n",
    "\t\t\tMaskCountRevLoop = int((slmMaskCount / 2) + 1);\n",
    "\t\t}\n",
    "\t\t\t\n",
    "\t\telse {\n",
    "\t\t\tMaskCountRevLoop = int(slmMaskCount / 2);\n",
    "\t\t}\n",
    "\t\tfor (int polIdx = 0; polIdx < slmPolCount; polIdx++)\n",
    "\t\t{\n",
    "\t\t\tfor (int maskLower = 0; maskLower < MaskCountRevLoop; maskLower++)\n",
    "\t\t\t{\n",
    "\t\t\t\tint maskUpper = int(slmMaskCount - 1) - maskLower;\n",
    "\t\t\t\tfloat cxUpper_temp = ZERNIKE_CX[maskUpper][polIdx];\n",
    "\t\t\t\tfloat cxLower_temp = ZERNIKE_CX[maskLower][polIdx];\n",
    "\t\t\t\tfloat cyUpper_temp = ZERNIKE_CY[maskUpper][polIdx];\n",
    "\t\t\t\tfloat cyLower_temp = ZERNIKE_CY[maskLower][polIdx];\n",
    "\n",
    "\t\t\t\tZERNIKE_CX[maskUpper][polIdx] = cxLower_temp;\n",
    "\t\t\t\tZERNIKE_CX[maskLower][polIdx] = cxUpper_temp;\n",
    "\t\t\t\tZERNIKE_CY[maskUpper][polIdx] = cyLower_temp;\n",
    "\t\t\t\tZERNIKE_CY[maskLower][polIdx] = cyUpper_temp;\n",
    "\t\t\t}\n",
    "\t\t}\n",
    "\n",
    "\t}"
   ]
  },
  {
   "cell_type": "code",
   "execution_count": null,
   "metadata": {},
   "outputs": [],
   "source": [
    "public:void mplcGlobalShiftSpacing(int pivotIdx, int polIdx, float dx, float dy, float dx2, float dy2, unsigned char tiltLock)\n",
    "\t{\n",
    "\t\t//int polIdx = mplcPolIdx;\n",
    "\t\tif (pivotIdx >= slmMaskCount)\n",
    "\t\t{\n",
    "\t\t\tpivotIdx = slmMaskCount - 1;\n",
    "\t\t}\n",
    "\t\tif (pivotIdx < 0)\n",
    "\t\t{\n",
    "\t\t\tpivotIdx = 0;\n",
    "\t\t}\n",
    "\n",
    "\t\tfloat pivotX = ZERNIKE_CX[pivotIdx][polIdx];\n",
    "\t\tfloat pivotY = ZERNIKE_CY[pivotIdx][polIdx];\n",
    "\n",
    "\t\tfor (int maskIdx = 0; maskIdx < slmMaskCount; maskIdx++)\n",
    "\t\t{\n",
    "\n",
    "\t\t\tfloat X = ZERNIKE_CX[maskIdx][polIdx];\n",
    "\t\t\tfloat Y = ZERNIKE_CY[maskIdx][polIdx];\n",
    "\n",
    "\t\t\tfloat dMask = maskIdx - pivotIdx;\n",
    "\t\t\tfloat dMask2 = dMask * dMask;\n",
    "\t\t\tif (dMask < 0)\n",
    "\t\t\t{\n",
    "\t\t\t\tdMask2 = -dMask2;\n",
    "\t\t\t}\n",
    "\t\t\tX = X + dMask * dx + dMask2 * dx2;\n",
    "\t\t\tY = Y + dMask * dy + dMask2 * dy2;\n",
    "\t\t\tZERNIKE_CX[maskIdx][polIdx] = X;\n",
    "\t\t\tZERNIKE_CY[maskIdx][polIdx] = Y;\n",
    "\t\t}\n",
    "\n",
    "\t\tif (tiltLock)\n",
    "\t\t{\n",
    "\n",
    "\t\t\t//Adjust the tilt of the mask to compensate for the new spacings\n",
    "\t\t\tfloat mirrorMaskSpacing = 12.5e-3;\n",
    "\t\t\tfloat pixelSize = 9.2e-6;\n",
    "\t\t\tfloat k0 = (2 * pi) / 1565e-9;\n",
    "\t\t\tfloat DX = pixelSize * dx;\n",
    "\t\t\tfloat DY = pixelSize * dy;\n",
    "\t\t\tfloat dTHx = acml_atan2f(DX, 2 * mirrorMaskSpacing);\n",
    "\t\t\tfloat dTHy = acml_atan2f(DY, 2 * mirrorMaskSpacing);\n",
    "\t\t\tfloat dkx = k0 * acml_asinf(dTHx);\n",
    "\t\t\tfloat dky = k0 * acml_asinf(dTHy);\n",
    "\n",
    "\t\t\tfloat dTiltX = systemSettingsClearAperture * 1e-3 * dkx / (2 * pi);\n",
    "\t\t\tfloat dTiltY = systemSettingsClearAperture * 1e-3 * dky / (2 * pi);\n",
    "\n",
    "\t\t\tint polFlip = 2 * (polIdx == 0) - 1;\n",
    "\n",
    "\t\t\tint maskIdx = 0;\n",
    "\t\t\tZERNIKE_COEF[maskIdx][polIdx][TILTX] -= dTiltX;\n",
    "\t\t\tZERNIKE_COEF[maskIdx][polIdx][TILTY] += polFlip * dTiltY;\n",
    "\n",
    "\t\t\tmaskIdx = slmMaskCount - 1;\n",
    "\t\t\tZERNIKE_COEF[maskIdx][polIdx][TILTX] += dTiltX;\n",
    "\t\t\tZERNIKE_COEF[maskIdx][polIdx][TILTY] -= polFlip * dTiltY;\n",
    "\t\t}\n",
    "\t}"
   ]
  }
 ],
 "metadata": {
  "kernelspec": {
   "display_name": "Python10",
   "language": "python",
   "name": "python3"
  },
  "language_info": {
   "codemirror_mode": {
    "name": "ipython",
    "version": 3
   },
   "file_extension": ".py",
   "mimetype": "text/x-python",
   "name": "python",
   "nbconvert_exporter": "python",
   "pygments_lexer": "ipython3",
   "version": "3.10.14"
  }
 },
 "nbformat": 4,
 "nbformat_minor": 2
}
