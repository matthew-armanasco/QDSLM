{
 "cells": [
  {
   "cell_type": "markdown",
   "metadata": {},
   "source": [
    "# config the workspace"
   ]
  },
  {
   "cell_type": "code",
   "execution_count": 2,
   "metadata": {},
   "outputs": [],
   "source": [
    "from Lab_Equipment.Config import config "
   ]
  },
  {
   "cell_type": "markdown",
   "metadata": {},
   "source": [
    "# load all libs"
   ]
  },
  {
   "cell_type": "code",
   "execution_count": 4,
   "metadata": {},
   "outputs": [],
   "source": [
    "# Python Libs\n",
    "import cv2\n",
    "import numpy as np\n",
    "import matplotlib.pyplot as plt\n",
    "import ctypes\n",
    "import copy\n",
    "from IPython.display import display, clear_output\n",
    "import ipywidgets\n",
    "import multiprocessing\n",
    "from multiprocessing import shared_memory\n",
    "import time\n",
    "import scipy.io\n",
    "\n",
    "from scipy import io, integrate, linalg, signal\n",
    "from scipy.io import savemat, loadmat\n",
    "from scipy.fft import fft, fftfreq, fftshift,ifftshift, fft2,ifft2,rfft2,irfft2\n",
    "# Defult Pploting properties \n",
    "plt.style.use('dark_background')\n",
    "plt.rcParams['figure.figsize'] = [5,5]\n",
    "\n",
    "#General libs\n",
    "# import Lab_Equipment.GeneralLibs.ComplexPlotFunction as cmplxplt\n",
    "\n",
    "#SLM Libs\n",
    "import Lab_Equipment.SLM.pyLCOS as pyLCOS\n",
    "# import Lab_Equipment.SLM.pyLCOS_pyQT as pyLCOS_pyQT\n",
    "\n",
    "import Lab_Equipment.ZernikeModule.ZernikeModule as zernMod\n",
    "import Lab_Equipment.SLM.GenerateSimplePhaseMasks as SimpMaskLib\n",
    "import Lab_Equipment.SLM.SLM_widget as slmWidget\n",
    "import Lab_Equipment.SLM.FullScreenDisplay_openCV as FullScreenLib\n",
    "\n",
    "\n",
    "#Camera Libs\n",
    "# import Lab_Equipment.Camera.CameraObject as CamForm\n",
    "# import Lab_Equipment.Camera.Camera_widget as CamWidget\n",
    "\n",
    "# import Lab_Equipment.Camera.AlliedVisionCameraObj as AlliedCamForm\n",
    "# import Lab_Equipment.Camera.QImagCameraObj as QCamForm\n",
    "# import Lab_Equipment.Camera.XenicsCameraObj as XCForm\n",
    "# import Lab_Equipment.Camera.FLIRCameraObj as FLIRForm\n",
    "\n",
    "#Laser Libs\n",
    "# import Lab_Equipment.Laser.SantecSweeptLaser as SantecSweptLaser\n",
    "\n",
    "# digiHolo Libs\n",
    "# import Lab_Equipment.digHolo.digHolo_pylibs.digiholoWindowThread as digholoObjThread\n",
    "# import Lab_Equipment.digHolo.digHolo_pylibs.digholoObject as digholoObj\n",
    "\n",
    "#ALignment and Calibration Libs\n",
    "# import Lab_Equipment.AlignmentRoutines.AlignmentRoutines_digholo as AlignRouts_digholo\n",
    "# import Lab_Equipment.AlignmentRoutines.PhaseCalibration_SLM_digholo as PhaseCal\n",
    "\n",
    "#MEasurement Routine lib\n",
    "# import Lab_Equipment.Measurements.MeasurementRoutines as MeasureLib\n",
    "\n",
    "\n",
    "# NOTE\n",
    "# when debuging multiprocesses code you can put thing in the queue and the look at it from outside the thread using \n",
    "# flag =digholoThread.digholo_queue.get_nowait()\n",
    "# print(flag)\n",
    "import TimeTagger\n",
    "# import Lab_Equipment.TimeTagger.TimeTaggerInterface as TimeTaggerMod\n",
    "import Lab_Equipment.TimeTagger.TimeTaggerFunction as TimetaggerFunc\n",
    "import Lab_Equipment.TimeTagger.TimeTaggerLiveWindow as TTLiveWindow\n",
    "\n",
    "\n",
    "#OSA Lib\n",
    "import  Lab_Equipment.OSA.OSA_Yokogawa_lib as OSAlib\n",
    "#powerMeter\n",
    "#import Lab_Equipment.PowerMeter.PowerMeterObject as pwrMetlib\n"
   ]
  },
  {
   "cell_type": "code",
   "execution_count": 5,
   "metadata": {},
   "outputs": [],
   "source": [
    "# This is needed to Qt stuff (I think()\n",
    "# %pylab inline\n",
    "# %gui qt5\n",
    "%matplotlib widget\n",
    "# %load_ext autoreload\n",
    "# #Config File\n",
    "# %aimport Lab_Equipment.Config.config\n",
    "# #General libs\n",
    "# %aimport Lab_Equipment.GeneralLibs.ComplexPlotFunction\n",
    "# #SLM Libs\n",
    "# %aimport Lab_Equipment.SLM.pyLCOS\n",
    "# %aimport Lab_Equipment.SLM.FullScreenDisplay_openCV\n",
    "\n",
    "# %aimport Lab_Equipment.ZernikeModule.ZernikeModule\n",
    "# %aimport Lab_Equipment.SLM.GenerateSimplePhaseMasks\n",
    "# %aimport Lab_Equipment.SLM.SLM_widget\n",
    "\n",
    "# #Camera Libs\n",
    "# %aimport Lab_Equipment.Camera.CameraObject\n",
    "# %aimport Lab_Equipment.Camera.Camera_widget\n",
    "# %aimport Lab_Equipment.Camera.AlliedVisionCameraObj\n",
    "# %aimport Lab_Equipment.Camera.QImagCameraObj\n",
    "# %aimport Lab_Equipment.Camera.XenicsCameraObj\n",
    "# %aimport Lab_Equipment.Camera.FLIRCameraObj \n",
    "# #Laser Libs\n",
    "# %aimport Lab_Equipment.Laser.SantecSweeptLaser \n",
    "\n",
    "# # digiHolo Libs\n",
    "# %aimport Lab_Equipment.digHolo.digHolo_pylibs.digholoHeader \n",
    "\n",
    "# %aimport Lab_Equipment.digHolo.digHolo_pylibs.digiholoWindowThread \n",
    "# %aimport Lab_Equipment.digHolo.digHolo_pylibs.digholoObject\n",
    "\n",
    "# #ALignment and Calibration Libs\n",
    "# %aimport Lab_Equipment.AlignmentRoutines.AlignmentRoutines_digholo\n",
    "# %aimport Lab_Equipment.AlignmentRoutines.PhaseCalibration_SLM_digholo\n",
    "# %aimport Lab_Equipment.Measurements.MeasurementRoutines\n",
    "# %aimport  Lab_Equipment.AlignmentRoutines.AlignmentFunctions\n",
    "\n",
    "# %aimport Lab_Equipment.TimeTagger.TimeTaggerFunction \n",
    "# %aimport Lab_Equipment.TimeTagger.TimeTaggerLiveWindow\n",
    "\n",
    "# %autoreload 1"
   ]
  },
  {
   "cell_type": "markdown",
   "metadata": {},
   "source": [
    "# lanuch an SLM"
   ]
  },
  {
   "cell_type": "markdown",
   "metadata": {},
   "source": [
    "### Load mask from a file"
   ]
  },
  {
   "cell_type": "code",
   "execution_count": 16,
   "metadata": {},
   "outputs": [],
   "source": [
    "# del DisplayObj\n",
    "del slm # to delete the SLM"
   ]
  },
  {
   "cell_type": "code",
   "execution_count": 22,
   "metadata": {},
   "outputs": [
    {
     "name": "stdout",
     "output_type": "stream",
     "text": [
      "Using monitor 1: x=1920, y=0, width=1024, height=768\n",
      "\n",
      "        Zern Coefs:\n",
      "        0:  piston    ( 0,  0 )\n",
      "        1:  Tiltx     (-1,  1 )\n",
      "        2:  Tilty     ( 1,  1 )\n",
      "        3:  Astigx    (-2,  2 )\n",
      "        4:  Defocus   ( 0,  2 )\n",
      "        5:  Astigy    ( 2,  2 )\n",
      "        6:  Trefilx   (-3,  3 )\n",
      "        7:  Comax     (-1,  3 )\n",
      "        8:  Comay     ( 1,  3 )\n",
      "        9:  Trefoily  ( 3,  3 )\n",
      "        12:  Spherical ( 0,  4 )\n",
      "        \n"
     ]
    }
   ],
   "source": [
    "DisplayObj  = FullScreenLib.FullScreenDisplayObject(monitor_index=1,RefreshRate=400e-3)\n",
    "slm = pyLCOS.LCOS(DisplayObj,screen=2, ActiveRGBChannels=['Green'], pixel_size=15e-6,RefreshTime=2*1e-3)\n",
    "\n",
    "# slm.LoadMasksFromFile(Filename=\"AllGateMasks\",channel=\"Red\",)\n",
    "\n"
   ]
  },
  {
   "cell_type": "markdown",
   "metadata": {},
   "source": [
    "# This gives you a live update gui for the masks. If you have run an alignment you should alway hit the update all SLM button to get the most up to date value."
   ]
  },
  {
   "cell_type": "code",
   "execution_count": 18,
   "metadata": {},
   "outputs": [
    {
     "name": "stdout",
     "output_type": "stream",
     "text": [
      "Angle limit for pixel  1.766899907423163\n"
     ]
    }
   ],
   "source": [
    "background=np.ones((slm.LCOSsize))*np.exp(1j*-np.pi)\n",
    "pixelSize=15e-6\n",
    "Ny,Nx=slm.LCOSsize\n",
    "xmin=(((-(Nx-1))/2.0))*pixelSize\n",
    "xmax=(((Nx-1)/2.0))*pixelSize\n",
    "ymin=(((-(Ny-1))/2.0))*pixelSize\n",
    "ymax=(((Ny-1)/2.0))*pixelSize\n",
    "xArr=np.linspace(xmin,xmax,Nx)\n",
    "yArr=np.linspace(ymin,ymax,Ny)\n",
    "\n",
    "XGrid,YGrid=np.meshgrid(xArr,yArr)\n",
    "\n",
    "Tiltbackground=SimpMaskLib.TiltPhaseProf(0,2,925e-9,XGrid,YGrid )\n",
    "# slm_InputModes.SetBackGroundPattern(channel=\"Red\",backgroundPattern=background)\n",
    "slm.SetBackGroundPattern(channel=\"Green\",backgroundPattern=background)\n",
    "slm.setmask(channel=\"Green\",imode=0)\n"
   ]
  },
  {
   "cell_type": "code",
   "execution_count": 23,
   "metadata": {},
   "outputs": [],
   "source": [
    "modeCount=1\n",
    "planeCount=1\n",
    "Nx=256\n",
    "Ny=256\n",
    "\n",
    "Masks=np.ones((modeCount,planeCount,Nx,Ny),dtype=complex)*np.exp(1j*0)"
   ]
  },
  {
   "cell_type": "code",
   "execution_count": 26,
   "metadata": {},
   "outputs": [],
   "source": [
    "# slm_red.setMaskArray(channel=\"Red\",MASKS=Masks)\n",
    "slm.setMaskArray(channel=\"Green\",MASKS=Masks)\n",
    "slm.AllMaskProperties[\"Green\"][\"V\"][0].center[1] = 256\n",
    "slm.AllMaskProperties[\"Green\"][\"V\"][0].center[0] = 256\n",
    "slm.polProps[\"Green\"]['H'].polEnabled=False\n",
    "slm.setmask(\"Green\")"
   ]
  },
  {
   "cell_type": "code",
   "execution_count": 27,
   "metadata": {},
   "outputs": [
    {
     "data": {
      "application/vnd.jupyter.widget-view+json": {
       "model_id": "6757171e2e17475d9038c7f027974e57",
       "version_major": 2,
       "version_minor": 0
      },
      "text/plain": [
       "GridBox(children=(Dropdown(description='Channel', index=1, layout=Layout(width='200px'), options=(('Red SLM', …"
      ]
     },
     "metadata": {},
     "output_type": "display_data"
    },
    {
     "data": {
      "application/vnd.jupyter.widget-view+json": {
       "model_id": "e959cb8df0a34607b92fff7fb9c1dd74",
       "version_major": 2,
       "version_minor": 0
      },
      "image/png": "[encoded data removed]",
      "text/html": [
       "\n",
       "            <div style=\"display: inline-block;\">\n",
       "                <div class=\"jupyter-widgets widget-label\" style=\"text-align: center;\">\n",
       "                    Figure\n",
       "                </div>\n",
       "                <img src='data:image/png;base64,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' width=500.0/>\n",
       "            </div>\n",
       "        "
      ],
      "text/plain": [
       "Canvas(header_visible=False, toolbar=Toolbar(toolitems=[('Home', 'Reset original view', 'home', 'home'), ('Bac…"
      ]
     },
     "metadata": {},
     "output_type": "display_data"
    }
   ],
   "source": [
    "display(slmWidget.create_slm_widget(slm,channel=\"Green\"))\n"
   ]
  },
  {
   "cell_type": "code",
   "execution_count": null,
   "metadata": {},
   "outputs": [],
   "source": []
  },
  {
   "cell_type": "markdown",
   "metadata": {},
   "source": [
    "# change Masks"
   ]
  },
  {
   "cell_type": "code",
   "execution_count": null,
   "metadata": {},
   "outputs": [],
   "source": [
    "# slm_InputModes.flipUpDownMasks(pol=\"H\",channel=\"Red\")\n",
    "# slm.flipRightLeftMasks(pol=\"H\",channel=\"Red\")\n",
    "# slm.RotateMasks(pol=\"H\",channel=\"Red\",NumberOf90degRots=-1)\n",
    "# slm.ConjMasks(pol=\"H\",channel=\"Red\")\n",
    "# slm.TransposeMasks(pol=\"H\",channel=\"Red\")\n",
    "\n",
    "\n",
    "\n"
   ]
  },
  {
   "cell_type": "markdown",
   "metadata": {},
   "source": [
    "# Launch Power Meter"
   ]
  },
  {
   "cell_type": "code",
   "execution_count": null,
   "metadata": {},
   "outputs": [],
   "source": [
    "pwrMeter=pwrMetlib.PowerMeterObj()\n",
    "# pwrMeter=pwrMetlib.PowerMeterObj('USB0::0x1313::0x8076::M01230617::INSTR',wavelength=1550,AvgCount=10)\n",
    "\n",
    "#call  del pwrMeter to disconnect the power meter\n",
    "pwrMeter.SetWaveLength(1550)# units are in nm\n",
    "pwrMeter.GetPower() #units are in Watts"
   ]
  },
  {
   "cell_type": "markdown",
   "metadata": {},
   "source": [
    "# Launch OSA"
   ]
  },
  {
   "cell_type": "code",
   "execution_count": 18,
   "metadata": {},
   "outputs": [
    {
     "name": "stderr",
     "output_type": "stream",
     "text": [
      "Exception ignored in: <function OSA_Yoko.__del__ at 0x0000027A729E84A0>\n",
      "Traceback (most recent call last):\n",
      "  File \"c:\\Users\\Experiment\\Documents\\qd_abhiroy\\SLMProject\\Lab_Equipment\\OSA\\OSA_Yokogawa_lib.py\", line 63, in __del__\n",
      "    self.OSA.close()  # Close the VISA connection\n",
      "    ^^^^^^^^\n",
      "AttributeError: 'OSA_Yoko' object has no attribute 'OSA'\n"
     ]
    },
    {
     "name": "stdout",
     "output_type": "stream",
     "text": [
      "Scope has been disconnected\n"
     ]
    }
   ],
   "source": [
    "del OSA"
   ]
  },
  {
   "cell_type": "code",
   "execution_count": 19,
   "metadata": {},
   "outputs": [
    {
     "ename": "VisaIOError",
     "evalue": "? (-1073807190): Unknown code.",
     "output_type": "error",
     "traceback": [
      "\u001b[1;31m---------------------------------------------------------------------------\u001b[0m",
      "\u001b[1;31mVisaIOError\u001b[0m                               Traceback (most recent call last)",
      "Cell \u001b[1;32mIn[19], line 1\u001b[0m\n\u001b[1;32m----> 1\u001b[0m OSA\u001b[38;5;241m=\u001b[39mOSAlib\u001b[38;5;241m.\u001b[39mOSA_Yoko(\u001b[38;5;124m'\u001b[39m\u001b[38;5;124mGPIB0::1::INSTR\u001b[39m\u001b[38;5;124m'\u001b[39m)\n",
      "File \u001b[1;32mc:\\Users\\Experiment\\Documents\\qd_abhiroy\\SLMProject\\Lab_Equipment\\OSA\\OSA_Yokogawa_lib.py:26\u001b[0m, in \u001b[0;36mOSA_Yoko.__init__\u001b[1;34m(self, OSAID, output_dtype)\u001b[0m\n\u001b[0;32m     23\u001b[0m \u001b[38;5;28mself\u001b[39m\u001b[38;5;241m.\u001b[39mOSA \u001b[38;5;241m=\u001b[39m rm\u001b[38;5;241m.\u001b[39mopen_resource(\u001b[38;5;28mself\u001b[39m\u001b[38;5;241m.\u001b[39mOSAID, timeout\u001b[38;5;241m=\u001b[39m\u001b[38;5;241m5000\u001b[39m)  \u001b[38;5;66;03m# Open connection to the oscilloscope\u001b[39;00m\n\u001b[0;32m     25\u001b[0m \u001b[38;5;66;03m# Identify the connected oscilloscope\u001b[39;00m\n\u001b[1;32m---> 26\u001b[0m \u001b[38;5;28mself\u001b[39m\u001b[38;5;241m.\u001b[39midn \u001b[38;5;241m=\u001b[39m \u001b[38;5;28mself\u001b[39m\u001b[38;5;241m.\u001b[39mOSA\u001b[38;5;241m.\u001b[39mquery(\u001b[38;5;124m\"\u001b[39m\u001b[38;5;124m*IDN?\u001b[39m\u001b[38;5;124m\"\u001b[39m)  \u001b[38;5;66;03m# Send IDN query to retrieve device information\u001b[39;00m\n\u001b[0;32m     27\u001b[0m \u001b[38;5;28mprint\u001b[39m(\u001b[38;5;124m\"\u001b[39m\u001b[38;5;124mConnection successful. Device ID:\u001b[39m\u001b[38;5;124m\"\u001b[39m, \u001b[38;5;28mself\u001b[39m\u001b[38;5;241m.\u001b[39midn)\n\u001b[0;32m     29\u001b[0m \u001b[38;5;66;03m######### NOTE ###############\u001b[39;00m\n\u001b[0;32m     30\u001b[0m \u001b[38;5;66;03m# Not really sure if this is needed I dont really know what it is doing but during testing it might be needed\u001b[39;00m\n\u001b[0;32m     31\u001b[0m \u001b[38;5;66;03m# maybe the idn has a squence that is similar to the two possible values below\u001b[39;00m\n\u001b[1;32m   (...)\u001b[0m\n\u001b[0;32m     37\u001b[0m \u001b[38;5;66;03m# self.Set_SweepMode(\"AUTO\")\u001b[39;00m\n\u001b[0;32m     38\u001b[0m \u001b[38;5;66;03m# self.Initiate_Sweep(\"AUTO\")\u001b[39;00m\n",
      "File \u001b[1;32m~\\AppData\\Roaming\\Python\\Python311\\site-packages\\pyvisa\\resources\\messagebased.py:684\u001b[0m, in \u001b[0;36mMessageBasedResource.query\u001b[1;34m(self, message, delay)\u001b[0m\n\u001b[0;32m    667\u001b[0m \u001b[38;5;28;01mdef\u001b[39;00m \u001b[38;5;21mquery\u001b[39m(\u001b[38;5;28mself\u001b[39m, message: \u001b[38;5;28mstr\u001b[39m, delay: Optional[\u001b[38;5;28mfloat\u001b[39m] \u001b[38;5;241m=\u001b[39m \u001b[38;5;28;01mNone\u001b[39;00m) \u001b[38;5;241m-\u001b[39m\u001b[38;5;241m>\u001b[39m \u001b[38;5;28mstr\u001b[39m:\n\u001b[0;32m    668\u001b[0m \u001b[38;5;250m    \u001b[39m\u001b[38;5;124;03m\"\"\"A combination of write(message) and read()\u001b[39;00m\n\u001b[0;32m    669\u001b[0m \n\u001b[0;32m    670\u001b[0m \u001b[38;5;124;03m    Parameters\u001b[39;00m\n\u001b[1;32m   (...)\u001b[0m\n\u001b[0;32m    682\u001b[0m \n\u001b[0;32m    683\u001b[0m \u001b[38;5;124;03m    \"\"\"\u001b[39;00m\n\u001b[1;32m--> 684\u001b[0m     \u001b[38;5;28mself\u001b[39m\u001b[38;5;241m.\u001b[39mwrite(message)\n\u001b[0;32m    686\u001b[0m     delay \u001b[38;5;241m=\u001b[39m \u001b[38;5;28mself\u001b[39m\u001b[38;5;241m.\u001b[39mquery_delay \u001b[38;5;28;01mif\u001b[39;00m delay \u001b[38;5;129;01mis\u001b[39;00m \u001b[38;5;28;01mNone\u001b[39;00m \u001b[38;5;28;01melse\u001b[39;00m delay\n\u001b[0;32m    687\u001b[0m     \u001b[38;5;28;01mif\u001b[39;00m delay \u001b[38;5;241m>\u001b[39m \u001b[38;5;241m0.0\u001b[39m:\n",
      "File \u001b[1;32m~\\AppData\\Roaming\\Python\\Python311\\site-packages\\pyvisa\\resources\\messagebased.py:213\u001b[0m, in \u001b[0;36mMessageBasedResource.write\u001b[1;34m(self, message, termination, encoding)\u001b[0m\n\u001b[0;32m    207\u001b[0m         warnings\u001b[38;5;241m.\u001b[39mwarn(\n\u001b[0;32m    208\u001b[0m             \u001b[38;5;124m\"\u001b[39m\u001b[38;5;124mwrite message already ends with termination characters\u001b[39m\u001b[38;5;124m\"\u001b[39m,\n\u001b[0;32m    209\u001b[0m             stacklevel\u001b[38;5;241m=\u001b[39m\u001b[38;5;241m2\u001b[39m,\n\u001b[0;32m    210\u001b[0m         )\n\u001b[0;32m    211\u001b[0m     message \u001b[38;5;241m+\u001b[39m\u001b[38;5;241m=\u001b[39m term\n\u001b[1;32m--> 213\u001b[0m count \u001b[38;5;241m=\u001b[39m \u001b[38;5;28mself\u001b[39m\u001b[38;5;241m.\u001b[39mwrite_raw(message\u001b[38;5;241m.\u001b[39mencode(enco))\n\u001b[0;32m    215\u001b[0m \u001b[38;5;28;01mreturn\u001b[39;00m count\n",
      "File \u001b[1;32m~\\AppData\\Roaming\\Python\\Python311\\site-packages\\pyvisa\\resources\\messagebased.py:173\u001b[0m, in \u001b[0;36mMessageBasedResource.write_raw\u001b[1;34m(self, message)\u001b[0m\n\u001b[0;32m    159\u001b[0m \u001b[38;5;28;01mdef\u001b[39;00m \u001b[38;5;21mwrite_raw\u001b[39m(\u001b[38;5;28mself\u001b[39m, message: \u001b[38;5;28mbytes\u001b[39m) \u001b[38;5;241m-\u001b[39m\u001b[38;5;241m>\u001b[39m \u001b[38;5;28mint\u001b[39m:\n\u001b[0;32m    160\u001b[0m \u001b[38;5;250m    \u001b[39m\u001b[38;5;124;03m\"\"\"Write a byte message to the device.\u001b[39;00m\n\u001b[0;32m    161\u001b[0m \n\u001b[0;32m    162\u001b[0m \u001b[38;5;124;03m    Parameters\u001b[39;00m\n\u001b[1;32m   (...)\u001b[0m\n\u001b[0;32m    171\u001b[0m \n\u001b[0;32m    172\u001b[0m \u001b[38;5;124;03m    \"\"\"\u001b[39;00m\n\u001b[1;32m--> 173\u001b[0m     \u001b[38;5;28;01mreturn\u001b[39;00m \u001b[38;5;28mself\u001b[39m\u001b[38;5;241m.\u001b[39mvisalib\u001b[38;5;241m.\u001b[39mwrite(\u001b[38;5;28mself\u001b[39m\u001b[38;5;241m.\u001b[39msession, message)[\u001b[38;5;241m0\u001b[39m]\n",
      "File \u001b[1;32m~\\AppData\\Roaming\\Python\\Python311\\site-packages\\pyvisa\\ctwrapper\\functions.py:2798\u001b[0m, in \u001b[0;36mwrite\u001b[1;34m(library, session, data)\u001b[0m\n\u001b[0;32m   2796\u001b[0m return_count \u001b[38;5;241m=\u001b[39m ViUInt32()\n\u001b[0;32m   2797\u001b[0m \u001b[38;5;66;03m# [ViSession, ViBuf, ViUInt32, ViPUInt32]\u001b[39;00m\n\u001b[1;32m-> 2798\u001b[0m ret \u001b[38;5;241m=\u001b[39m library\u001b[38;5;241m.\u001b[39mviWrite(session, data, \u001b[38;5;28mlen\u001b[39m(data), byref(return_count))\n\u001b[0;32m   2799\u001b[0m \u001b[38;5;28;01mreturn\u001b[39;00m return_count\u001b[38;5;241m.\u001b[39mvalue, ret\n",
      "File \u001b[1;32m~\\AppData\\Roaming\\Python\\Python311\\site-packages\\pyvisa\\ctwrapper\\highlevel.py:227\u001b[0m, in \u001b[0;36mIVIVisaLibrary._return_handler\u001b[1;34m(self, ret_value, func, arguments)\u001b[0m\n\u001b[0;32m    224\u001b[0m         \u001b[38;5;66;03m# Set session back to a safe value\u001b[39;00m\n\u001b[0;32m    225\u001b[0m         session \u001b[38;5;241m=\u001b[39m \u001b[38;5;28;01mNone\u001b[39;00m\n\u001b[1;32m--> 227\u001b[0m \u001b[38;5;28;01mreturn\u001b[39;00m \u001b[38;5;28mself\u001b[39m\u001b[38;5;241m.\u001b[39mhandle_return_value(session, ret_value)\n",
      "File \u001b[1;32m~\\AppData\\Roaming\\Python\\Python311\\site-packages\\pyvisa\\highlevel.py:252\u001b[0m, in \u001b[0;36mVisaLibraryBase.handle_return_value\u001b[1;34m(self, session, status_code)\u001b[0m\n\u001b[0;32m    249\u001b[0m     \u001b[38;5;28mself\u001b[39m\u001b[38;5;241m.\u001b[39m_last_status_in_session[session] \u001b[38;5;241m=\u001b[39m rv\n\u001b[0;32m    251\u001b[0m \u001b[38;5;28;01mif\u001b[39;00m rv \u001b[38;5;241m<\u001b[39m \u001b[38;5;241m0\u001b[39m:\n\u001b[1;32m--> 252\u001b[0m     \u001b[38;5;28;01mraise\u001b[39;00m errors\u001b[38;5;241m.\u001b[39mVisaIOError(rv)\n\u001b[0;32m    254\u001b[0m \u001b[38;5;28;01mif\u001b[39;00m rv \u001b[38;5;129;01min\u001b[39;00m \u001b[38;5;28mself\u001b[39m\u001b[38;5;241m.\u001b[39missue_warning_on:\n\u001b[0;32m    255\u001b[0m     \u001b[38;5;28;01mif\u001b[39;00m session \u001b[38;5;129;01mand\u001b[39;00m rv \u001b[38;5;129;01mnot\u001b[39;00m \u001b[38;5;129;01min\u001b[39;00m \u001b[38;5;28mself\u001b[39m\u001b[38;5;241m.\u001b[39m_ignore_warning_in_session[session]:\n",
      "\u001b[1;31mVisaIOError\u001b[0m: ? (-1073807190): Unknown code."
     ]
    }
   ],
   "source": [
    "OSA=OSAlib.OSA_Yoko('GPIB0::1::INSTR')\n",
    "# OSA=OSAlib.OSA_Yoko()\n",
    "\n",
    "# call del OSA to disconnect the OSA\n",
    "#OSA.Initiate_Sweep(\"AUTO\")\n",
    "# Get some data from the OSA. A inital Sweep should be run on AUTO i.e. OSA.Initiate_Sweep(\"AUTO\")\n",
    "# so that all the properties of the OSA are set up automatically\n",
    "# Wavelength,PowerSpectum=OSA.Get_data(TraceChannel=\"TRA\",PowerDensityOutput=0,SweepMode=\"SINGle\",Plotdata=True,)\n"
   ]
  },
  {
   "cell_type": "markdown",
   "metadata": {},
   "source": [
    "# Launch TimeTagger"
   ]
  },
  {
   "cell_type": "code",
   "execution_count": null,
   "metadata": {},
   "outputs": [],
   "source": [
    "tagger = TimeTagger.createTimeTagger()"
   ]
  },
  {
   "cell_type": "code",
   "execution_count": null,
   "metadata": {},
   "outputs": [],
   "source": [
    "tagger = TimeTagger.createTimeTagger()"
   ]
  },
  {
   "cell_type": "code",
   "execution_count": null,
   "metadata": {},
   "outputs": [],
   "source": [
    "tagger.setInputDelay(1, 0)\n",
    "tagger.setInputDelay(2, 9850) #ps\n",
    "# tagger.setInputDelay(3, 0)\n",
    "# tagger.setInputDelay(4, 0)\n",
    "\n",
    "CountTime=60\n",
    "# timeData,CorrData, CorrDataNorm=  TimetaggerFunc.getCorrelations(tagger,measurementChannels=[1,2],\n",
    "#                                                                  binWidth=200,\n",
    "#                                                                  binNum=201,\n",
    "#                                                                  countingTime=CountTime,\n",
    "#                                                                  PlotResutls=True)\n",
    "\n",
    "Coincid_Data,timeData,CorrData, CorrDataNorm = TimetaggerFunc.getCoincidencesAndCorrelations(tagger,measurementChannels=[1,2],\n",
    "                                                                binWidth=50,\n",
    "                                                                binNum=500,\n",
    "                                                                countingTime=CountTime,\n",
    "                                                            PlotResutls=True)\n",
    "\n",
    "# If you want to get the time delay you can use either of the lines below\n",
    "AvgTimeDelay_0,PeakTimeDelay_0 = TimetaggerFunc.CalculateTimeDelay(timeData,CorrDataNorm)\n",
    "print(PeakTimeDelay_0)\n",
    "\n",
    "# NOTE there is kind of a funciton that can also work out the best trigger level but it doesnt really do to much 0.5 seems good\n",
    "tagger.setTriggerLevel(1, 0.35)\n",
    "tagger.setTriggerLevel(2, 0.35)"
   ]
  }
 ],
 "metadata": {
  "kernelspec": {
   "display_name": "Python 3",
   "language": "python",
   "name": "python3"
  },
  "language_info": {
   "codemirror_mode": {
    "name": "ipython",
    "version": 3
   },
   "file_extension": ".py",
   "mimetype": "text/x-python",
   "name": "python",
   "nbconvert_exporter": "python",
   "pygments_lexer": "ipython3",
   "version": "3.11.13"
  }
 },
 "nbformat": 4,
 "nbformat_minor": 4
}
