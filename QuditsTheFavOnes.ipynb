{
 "cells": [
  {
   "cell_type": "markdown",
   "metadata": {},
   "source": [
    "# config the workspace"
   ]
  },
  {
   "cell_type": "code",
   "execution_count": 1,
   "metadata": {},
   "outputs": [
    {
     "name": "stdout",
     "output_type": "stream",
     "text": [
      "Current Directory: c:\\Users\\Experiment\\Desktop\\uqddahl\n",
      "This is a Windows system.\n",
      "Kinesis Software not installed. If needed to go and get software from thorlabs website, DLL's are needed for the mount to work\n"
     ]
    }
   ],
   "source": [
    "from Lab_Equipment.Config import config"
   ]
  },
  {
   "cell_type": "markdown",
   "metadata": {},
   "source": [
    "# load all libs"
   ]
  },
  {
   "cell_type": "code",
   "execution_count": 2,
   "metadata": {},
   "outputs": [
    {
     "name": "stdout",
     "output_type": "stream",
     "text": [
      "Loading x64 DLL from: c:\\Users\\Experiment\\Desktop\\uqddahl\\Lab_Equipment\\Laser\\NKTPhotonics\\NKTPDLL\\x64\\NKTPDLL.dll\n"
     ]
    }
   ],
   "source": [
    "# Python Libs\n",
    "import cv2\n",
    "import numpy as np\n",
    "import matplotlib.pyplot as plt\n",
    "import ctypes\n",
    "import copy\n",
    "from IPython.display import display, clear_output\n",
    "import ipywidgets\n",
    "import multiprocessing\n",
    "from multiprocessing import shared_memory\n",
    "import time\n",
    "import scipy.io\n",
    "\n",
    "from scipy import io, integrate, linalg, signal\n",
    "from scipy.io import savemat, loadmat\n",
    "from scipy.fft import fft, fftfreq, fftshift,ifftshift, fft2,ifft2,rfft2,irfft2\n",
    "# Defult Pploting properties \n",
    "plt.style.use('dark_background')\n",
    "plt.rcParams['figure.figsize'] = [5,5]\n",
    "\n",
    "#General libs\n",
    "import Lab_Equipment.GeneralLibs.ComplexPlotFunction as cmplxplt\n",
    "\n",
    "#Laser Lib\n",
    "import Lab_Equipment.Laser.SantecSweeptLaser as laserlib\n",
    "#OSA Lib\n",
    "import  Lab_Equipment.OSA.OSA_Yokogawa_lib as OSAlib\n",
    "#powerMeter\n",
    "import Lab_Equipment.PowerMeter.PowerMeterObject as pwrMetlib\n",
    "\n",
    "import Lab_Equipment.Laser.NKTPhotonics_Laser as NKTLaserLib\n",
    "\n",
    "# timeTagger\n",
    "import TimeTagger\n",
    "import Lab_Equipment.TimeTagger.TimeTaggerInterface as TimeTaggerMod\n",
    "import Lab_Equipment.TimeTagger.TimeTaggerFunction as TimetaggerFunc\n",
    "# import Lab_Equipment.TimeTagger.TimeTaggerCustomMeasurementObj as TimeTaggerCustomObj\n"
   ]
  },
  {
   "cell_type": "code",
   "execution_count": 3,
   "metadata": {},
   "outputs": [],
   "source": [
    " \n",
    "# This is needed to Qt stuff (I think()\n",
    "# %pylab inline\n",
    "# %gui qt5\n",
    "\n",
    "%load_ext autoreload\n",
    "#Config File\n",
    "%aimport Lab_Equipment.Config.config\n",
    "#General libs\n",
    "%aimport Lab_Equipment.GeneralLibs.ComplexPlotFunction\n",
    "#Laser libs\n",
    "%aimport Lab_Equipment.Laser.SantecSweeptLaser\n",
    "%aimport Lab_Equipment.Laser.NKTPhotonics_Laser\n",
    "#OSA Libs\n",
    "%aimport Lab_Equipment.OSA.OSA_Yokogawa_lib\n",
    "\n",
    "\n",
    "# timeTagger\n",
    "%aimport Lab_Equipment.TimeTagger.TimeTaggerInterface\n",
    "%aimport Lab_Equipment.TimeTagger.TimeTaggerFunction\n",
    "# %aimport Lab_Equipment.TimeTagger.TimeTaggerCustomMeasurementObj\n",
    "\n",
    "\n",
    "%autoreload 1\n"
   ]
  },
  {
   "cell_type": "markdown",
   "metadata": {},
   "source": []
  },
  {
   "cell_type": "markdown",
   "metadata": {},
   "source": [
    "# NKT Laser"
   ]
  },
  {
   "cell_type": "code",
   "execution_count": null,
   "metadata": {},
   "outputs": [],
   "source": [
    "del NKTlaser"
   ]
  },
  {
   "cell_type": "code",
   "execution_count": 4,
   "metadata": {},
   "outputs": [
    {
     "name": "stdout",
     "output_type": "stream",
     "text": [
      "Opening the comport: 0:OPSuccess\n",
      "Emission ON - Result: 0\n",
      "Units set to mW\n",
      "Input/output units for Set_Wavelengh()/Get_Wavelength() are nm \n",
      "Input/output units for Set_Power()/Get_Power() are mW \n",
      "Module Setup Bits:\n",
      "- Narrow wavelength modulation range: Disabled\n",
      "- Enable external wavelength modulation: Enabled\n",
      "- Wavelength modulation DC coupled: Disabled\n",
      "- Enable internal wavelength modulation: Disabled\n",
      "- Enable modulation output: Disabled\n",
      "- Pump operation constant current: Disabled\n",
      "- External amplitude modulation source: Disabled\n",
      "My creator got annoyed at NKT and has not immplemented enabling or disabling these features yet\n"
     ]
    },
    {
     "data": {
      "text/plain": [
       "12.05"
      ]
     },
     "execution_count": 4,
     "metadata": {},
     "output_type": "execute_result"
    }
   ],
   "source": [
    "NKTlaser=NKTLaserLib.Laser_NKT_BasiK_K1x2('COM5')     #TK: don't run this command once it's executed. If you want to chnage the power, do in the next cell. \n",
    "#call  del NKTlaser to disconnect the laser\n",
    "# NKTlaser.Get_Power()\n",
    "NKTlaser.Set_Power(12) #Input units are mW \n",
    "# NKTlaser.Get_Wavelength()\n",
    "# NKTlaser.Set_Wavelength(1550.11) #Input units are nm "
   ]
  },
  {
   "cell_type": "markdown",
   "metadata": {},
   "source": [
    "# READ THE COMMET IN THE CELL!"
   ]
  },
  {
   "cell_type": "markdown",
   "metadata": {},
   "source": [
    "# READ THE COMMENT THE DAM CELL. \n",
    "# YOU DONT NEED TO DO TRUE OR FALSE ANY MORE. YOU CAN LOOK AT THE BOTTOM RIGHT LIGHT ON LASER IF IT IS ON THE LASER IS ON"
   ]
  },
  {
   "cell_type": "code",
   "execution_count": 11,
   "metadata": {},
   "outputs": [
    {
     "name": "stdout",
     "output_type": "stream",
     "text": [
      "Emission OFF - Result: 0\n"
     ]
    },
    {
     "data": {
      "text/plain": [
       "0"
      ]
     },
     "execution_count": 11,
     "metadata": {},
     "output_type": "execute_result"
    }
   ],
   "source": [
    "# Turn off Laser Run this cell\n",
    "#NOTE just use this you dont have to do true or false any more. If the laser is on it will turn off and if it is off it will turn on\n",
    "NKTlaser.Set_emission()\n",
    "\n"
   ]
  },
  {
   "cell_type": "code",
   "execution_count": 7,
   "metadata": {},
   "outputs": [
    {
     "data": {
      "text/plain": [
       "12.040000000000001"
      ]
     },
     "execution_count": 7,
     "metadata": {},
     "output_type": "execute_result"
    }
   ],
   "source": [
    "#NKTlaser.Set_emission(True)\n",
    "NKTlaser.Set_Power(12)"
   ]
  },
  {
   "cell_type": "code",
   "execution_count": 8,
   "metadata": {},
   "outputs": [
    {
     "data": {
      "text/plain": [
       "12.05"
      ]
     },
     "execution_count": 8,
     "metadata": {},
     "output_type": "execute_result"
    }
   ],
   "source": [
    "NKTlaser.Get_Power()"
   ]
  },
  {
   "cell_type": "code",
   "execution_count": null,
   "metadata": {},
   "outputs": [],
   "source": []
  },
  {
   "cell_type": "markdown",
   "metadata": {},
   "source": [
    "# Power meter"
   ]
  },
  {
   "cell_type": "code",
   "execution_count": 10,
   "metadata": {},
   "outputs": [
    {
     "ename": "VisaIOError",
     "evalue": "VI_ERROR_RSRC_LOCKED (-1073807345): Specified type of lock cannot be obtained, or specified operation cannot be performed, because the resource is locked.",
     "output_type": "error",
     "traceback": [
      "\u001b[1;31m---------------------------------------------------------------------------\u001b[0m",
      "\u001b[1;31mVisaIOError\u001b[0m                               Traceback (most recent call last)",
      "Cell \u001b[1;32mIn[10], line 1\u001b[0m\n\u001b[1;32m----> 1\u001b[0m pwrMeter_beforeChip\u001b[38;5;241m=\u001b[39mpwrMetlib\u001b[38;5;241m.\u001b[39mPowerMeterObj(\u001b[38;5;124m'\u001b[39m\u001b[38;5;124mUSB0::0x1313::0x8076::M01230617::INSTR\u001b[39m\u001b[38;5;124m'\u001b[39m,wavelength\u001b[38;5;241m=\u001b[39m\u001b[38;5;241m1550\u001b[39m,AvgCount\u001b[38;5;241m=\u001b[39m\u001b[38;5;241m10\u001b[39m)\n\u001b[0;32m      2\u001b[0m pwrMeter_afterChip\u001b[38;5;241m=\u001b[39mpwrMetlib\u001b[38;5;241m.\u001b[39mPowerMeterObj(\u001b[38;5;124m'\u001b[39m\u001b[38;5;124mUSB0::0x1313::0x8076::M01230622::INSTR\u001b[39m\u001b[38;5;124m'\u001b[39m,wavelength\u001b[38;5;241m=\u001b[39m\u001b[38;5;241m1550\u001b[39m,AvgCount\u001b[38;5;241m=\u001b[39m\u001b[38;5;241m10\u001b[39m)\n\u001b[0;32m      3\u001b[0m \u001b[38;5;66;03m#call  del pwrMeter to disconnect the power meter\u001b[39;00m\n",
      "File \u001b[1;32mc:\\Users\\Experiment\\Desktop\\uqddahl\\Lab_Equipment\\PowerMeter\\PowerMeterObject.py:34\u001b[0m, in \u001b[0;36mPowerMeterObj.__init__\u001b[1;34m(self, deviceName, wavelength, AvgCount, Units)\u001b[0m\n\u001b[0;32m     31\u001b[0m \u001b[38;5;28mself\u001b[39m\u001b[38;5;241m.\u001b[39mpower_meter \u001b[38;5;241m=\u001b[39m ThorlabsPM100\u001b[38;5;241m.\u001b[39mThorlabsPM100(inst\u001b[38;5;241m=\u001b[39m\u001b[38;5;28mself\u001b[39m\u001b[38;5;241m.\u001b[39minst1)\u001b[38;5;66;03m# this invokes the Thorlabs python lib that hides the tedious serial writes to the powermeter\u001b[39;00m\n\u001b[0;32m     33\u001b[0m \u001b[38;5;66;03m#set the average counts for the device \u001b[39;00m\n\u001b[1;32m---> 34\u001b[0m \u001b[38;5;28mself\u001b[39m\u001b[38;5;241m.\u001b[39mSetAverageMeasure(\u001b[38;5;28mself\u001b[39m\u001b[38;5;241m.\u001b[39mAvgCount)\n\u001b[0;32m     36\u001b[0m \u001b[38;5;66;03m#set the wavelength for the device \u001b[39;00m\n\u001b[0;32m     37\u001b[0m \u001b[38;5;28mself\u001b[39m\u001b[38;5;241m.\u001b[39mSetWaveLength(\u001b[38;5;28mself\u001b[39m\u001b[38;5;241m.\u001b[39mwavelength)\n",
      "File \u001b[1;32mc:\\Users\\Experiment\\Desktop\\uqddahl\\Lab_Equipment\\PowerMeter\\PowerMeterObject.py:52\u001b[0m, in \u001b[0;36mPowerMeterObj.SetAverageMeasure\u001b[1;34m(self, AvgCount)\u001b[0m\n\u001b[0;32m     50\u001b[0m \u001b[38;5;28;01mdef\u001b[39;00m \u001b[38;5;21mSetAverageMeasure\u001b[39m(\u001b[38;5;28mself\u001b[39m,AvgCount):\n\u001b[0;32m     51\u001b[0m     \u001b[38;5;28mself\u001b[39m\u001b[38;5;241m.\u001b[39mAvgCount\u001b[38;5;241m=\u001b[39mAvgCount\n\u001b[1;32m---> 52\u001b[0m     \u001b[38;5;28mself\u001b[39m\u001b[38;5;241m.\u001b[39mpower_meter\u001b[38;5;241m.\u001b[39msense\u001b[38;5;241m.\u001b[39maverage\u001b[38;5;241m.\u001b[39mcount\u001b[38;5;241m=\u001b[39m\u001b[38;5;28mself\u001b[39m\u001b[38;5;241m.\u001b[39mAvgCount\n",
      "File \u001b[1;32mc:\\Users\\Experiment\\anaconda3\\Lib\\site-packages\\ThorlabsPM100\\VISA_wrapper_metaclass.py:228\u001b[0m, in \u001b[0;36m_generic_set_command.<locals>.set_val\u001b[1;34m(self, args)\u001b[0m\n\u001b[0;32m    226\u001b[0m     param \u001b[38;5;241m=\u001b[39m in_test(args)\n\u001b[0;32m    227\u001b[0m cmd_nameb \u001b[38;5;241m=\u001b[39m \u001b[38;5;28mself\u001b[39m\u001b[38;5;241m.\u001b[39m_get_cmd_name(cmd_name)\n\u001b[1;32m--> 228\u001b[0m \u001b[38;5;28mself\u001b[39m\u001b[38;5;241m.\u001b[39m_write(\u001b[38;5;124m'\u001b[39m\u001b[38;5;132;01m%s\u001b[39;00m\u001b[38;5;124m \u001b[39m\u001b[38;5;132;01m%s\u001b[39;00m\u001b[38;5;124m'\u001b[39m \u001b[38;5;241m%\u001b[39m (cmd_nameb, param))\n",
      "File \u001b[1;32mc:\\Users\\Experiment\\anaconda3\\Lib\\site-packages\\ThorlabsPM100\\VISA_wrapper_metaclass.py:487\u001b[0m, in \u001b[0;36mGroup._write\u001b[1;34m(self, s)\u001b[0m\n\u001b[0;32m    486\u001b[0m \u001b[38;5;28;01mdef\u001b[39;00m \u001b[38;5;21m_write\u001b[39m(\u001b[38;5;28mself\u001b[39m, s):\n\u001b[1;32m--> 487\u001b[0m     \u001b[38;5;28;01mreturn\u001b[39;00m \u001b[38;5;28mself\u001b[39m\u001b[38;5;241m.\u001b[39m_parent\u001b[38;5;241m.\u001b[39m_write(s)\n",
      "File \u001b[1;32mc:\\Users\\Experiment\\anaconda3\\Lib\\site-packages\\ThorlabsPM100\\VISA_wrapper_metaclass.py:487\u001b[0m, in \u001b[0;36mGroup._write\u001b[1;34m(self, s)\u001b[0m\n\u001b[0;32m    486\u001b[0m \u001b[38;5;28;01mdef\u001b[39;00m \u001b[38;5;21m_write\u001b[39m(\u001b[38;5;28mself\u001b[39m, s):\n\u001b[1;32m--> 487\u001b[0m     \u001b[38;5;28;01mreturn\u001b[39;00m \u001b[38;5;28mself\u001b[39m\u001b[38;5;241m.\u001b[39m_parent\u001b[38;5;241m.\u001b[39m_write(s)\n",
      "File \u001b[1;32mc:\\Users\\Experiment\\anaconda3\\Lib\\site-packages\\ThorlabsPM100\\ThorlabsPM100.py:21\u001b[0m, in \u001b[0;36mGeneric._write\u001b[1;34m(self, cmd)\u001b[0m\n\u001b[0;32m     19\u001b[0m \u001b[38;5;28;01mif\u001b[39;00m \u001b[38;5;28mself\u001b[39m\u001b[38;5;241m.\u001b[39m_verbose:\n\u001b[0;32m     20\u001b[0m     \u001b[38;5;28mprint\u001b[39m(\u001b[38;5;124m\"\u001b[39m\u001b[38;5;124mWrite command \u001b[39m\u001b[38;5;132;01m%s\u001b[39;00m\u001b[38;5;124m\"\u001b[39m \u001b[38;5;241m%\u001b[39m cmd)\n\u001b[1;32m---> 21\u001b[0m \u001b[38;5;28mself\u001b[39m\u001b[38;5;241m.\u001b[39m_inst\u001b[38;5;241m.\u001b[39mwrite(cmd)\n",
      "File \u001b[1;32mc:\\Users\\Experiment\\anaconda3\\Lib\\site-packages\\pyvisa\\resources\\messagebased.py:196\u001b[0m, in \u001b[0;36mMessageBasedResource.write\u001b[1;34m(self, message, termination, encoding)\u001b[0m\n\u001b[0;32m    190\u001b[0m         warnings\u001b[38;5;241m.\u001b[39mwarn(\n\u001b[0;32m    191\u001b[0m             \u001b[38;5;124m\"\u001b[39m\u001b[38;5;124mwrite message already ends with \u001b[39m\u001b[38;5;124m\"\u001b[39m \u001b[38;5;124m\"\u001b[39m\u001b[38;5;124mtermination characters\u001b[39m\u001b[38;5;124m\"\u001b[39m,\n\u001b[0;32m    192\u001b[0m             stacklevel\u001b[38;5;241m=\u001b[39m\u001b[38;5;241m2\u001b[39m,\n\u001b[0;32m    193\u001b[0m         )\n\u001b[0;32m    194\u001b[0m     message \u001b[38;5;241m+\u001b[39m\u001b[38;5;241m=\u001b[39m term\n\u001b[1;32m--> 196\u001b[0m count \u001b[38;5;241m=\u001b[39m \u001b[38;5;28mself\u001b[39m\u001b[38;5;241m.\u001b[39mwrite_raw(message\u001b[38;5;241m.\u001b[39mencode(enco))\n\u001b[0;32m    198\u001b[0m \u001b[38;5;28;01mreturn\u001b[39;00m count\n",
      "File \u001b[1;32mc:\\Users\\Experiment\\anaconda3\\Lib\\site-packages\\pyvisa\\resources\\messagebased.py:156\u001b[0m, in \u001b[0;36mMessageBasedResource.write_raw\u001b[1;34m(self, message)\u001b[0m\n\u001b[0;32m    142\u001b[0m \u001b[38;5;28;01mdef\u001b[39;00m \u001b[38;5;21mwrite_raw\u001b[39m(\u001b[38;5;28mself\u001b[39m, message: \u001b[38;5;28mbytes\u001b[39m) \u001b[38;5;241m-\u001b[39m\u001b[38;5;241m>\u001b[39m \u001b[38;5;28mint\u001b[39m:\n\u001b[0;32m    143\u001b[0m \u001b[38;5;250m    \u001b[39m\u001b[38;5;124;03m\"\"\"Write a byte message to the device.\u001b[39;00m\n\u001b[0;32m    144\u001b[0m \n\u001b[0;32m    145\u001b[0m \u001b[38;5;124;03m    Parameters\u001b[39;00m\n\u001b[1;32m   (...)\u001b[0m\n\u001b[0;32m    154\u001b[0m \n\u001b[0;32m    155\u001b[0m \u001b[38;5;124;03m    \"\"\"\u001b[39;00m\n\u001b[1;32m--> 156\u001b[0m     \u001b[38;5;28;01mreturn\u001b[39;00m \u001b[38;5;28mself\u001b[39m\u001b[38;5;241m.\u001b[39mvisalib\u001b[38;5;241m.\u001b[39mwrite(\u001b[38;5;28mself\u001b[39m\u001b[38;5;241m.\u001b[39msession, message)[\u001b[38;5;241m0\u001b[39m]\n",
      "File \u001b[1;32mc:\\Users\\Experiment\\anaconda3\\Lib\\site-packages\\pyvisa\\ctwrapper\\functions.py:2795\u001b[0m, in \u001b[0;36mwrite\u001b[1;34m(library, session, data)\u001b[0m\n\u001b[0;32m   2793\u001b[0m return_count \u001b[38;5;241m=\u001b[39m ViUInt32()\n\u001b[0;32m   2794\u001b[0m \u001b[38;5;66;03m# [ViSession, ViBuf, ViUInt32, ViPUInt32]\u001b[39;00m\n\u001b[1;32m-> 2795\u001b[0m ret \u001b[38;5;241m=\u001b[39m library\u001b[38;5;241m.\u001b[39mviWrite(session, data, \u001b[38;5;28mlen\u001b[39m(data), byref(return_count))\n\u001b[0;32m   2796\u001b[0m \u001b[38;5;28;01mreturn\u001b[39;00m return_count\u001b[38;5;241m.\u001b[39mvalue, ret\n",
      "File \u001b[1;32mc:\\Users\\Experiment\\anaconda3\\Lib\\site-packages\\pyvisa\\ctwrapper\\highlevel.py:226\u001b[0m, in \u001b[0;36mIVIVisaLibrary._return_handler\u001b[1;34m(self, ret_value, func, arguments)\u001b[0m\n\u001b[0;32m    223\u001b[0m         \u001b[38;5;66;03m# Set session back to a safe value\u001b[39;00m\n\u001b[0;32m    224\u001b[0m         session \u001b[38;5;241m=\u001b[39m \u001b[38;5;28;01mNone\u001b[39;00m\n\u001b[1;32m--> 226\u001b[0m \u001b[38;5;28;01mreturn\u001b[39;00m \u001b[38;5;28mself\u001b[39m\u001b[38;5;241m.\u001b[39mhandle_return_value(session, ret_value)\n",
      "File \u001b[1;32mc:\\Users\\Experiment\\anaconda3\\Lib\\site-packages\\pyvisa\\highlevel.py:251\u001b[0m, in \u001b[0;36mVisaLibraryBase.handle_return_value\u001b[1;34m(self, session, status_code)\u001b[0m\n\u001b[0;32m    248\u001b[0m     \u001b[38;5;28mself\u001b[39m\u001b[38;5;241m.\u001b[39m_last_status_in_session[session] \u001b[38;5;241m=\u001b[39m rv\n\u001b[0;32m    250\u001b[0m \u001b[38;5;28;01mif\u001b[39;00m rv \u001b[38;5;241m<\u001b[39m \u001b[38;5;241m0\u001b[39m:\n\u001b[1;32m--> 251\u001b[0m     \u001b[38;5;28;01mraise\u001b[39;00m errors\u001b[38;5;241m.\u001b[39mVisaIOError(rv)\n\u001b[0;32m    253\u001b[0m \u001b[38;5;28;01mif\u001b[39;00m rv \u001b[38;5;129;01min\u001b[39;00m \u001b[38;5;28mself\u001b[39m\u001b[38;5;241m.\u001b[39missue_warning_on:\n\u001b[0;32m    254\u001b[0m     \u001b[38;5;28;01mif\u001b[39;00m session \u001b[38;5;129;01mand\u001b[39;00m rv \u001b[38;5;129;01mnot\u001b[39;00m \u001b[38;5;129;01min\u001b[39;00m \u001b[38;5;28mself\u001b[39m\u001b[38;5;241m.\u001b[39m_ignore_warning_in_session[session]:\n",
      "\u001b[1;31mVisaIOError\u001b[0m: VI_ERROR_RSRC_LOCKED (-1073807345): Specified type of lock cannot be obtained, or specified operation cannot be performed, because the resource is locked."
     ]
    }
   ],
   "source": [
    "pwrMeter_beforeChip=pwrMetlib.PowerMeterObj('USB0::0x1313::0x8076::M01230617::INSTR',wavelength=1550,AvgCount=10)\n",
    "pwrMeter_afterChip=pwrMetlib.PowerMeterObj('USB0::0x1313::0x8076::M01230622::INSTR',wavelength=1550,AvgCount=10)\n",
    "#call  del pwrMeter to disconnect the power meter\n",
    "pwrMeter_beforeChip.SetWaveLength(1550)# units are in nm\n",
    "PowerLevelAct_beforeChip = pwrMeter_beforeChip.GetPower() #units are in Watts\n",
    "pwrMeter_afterChip.SetWaveLength(1550)# units are in nm\n",
    "PowerLevelAct_afterChip = pwrMeter_afterChip.GetPower() #units are in Watts\n",
    "\n",
    "print(f\"Power before chip: {PowerLevelAct_beforeChip*1e+6:.3f} uW, Power after Chip {PowerLevelAct_afterChip*1e+6:.3f} uW\")"
   ]
  },
  {
   "cell_type": "markdown",
   "metadata": {},
   "source": [
    "# Swept laser"
   ]
  },
  {
   "cell_type": "code",
   "execution_count": null,
   "metadata": {},
   "outputs": [],
   "source": [
    "SweeptLaser=laserlib.LaserObject_SantecSweept('GPIB0::2::INSTR')\n",
    "#call  del SweeptLaser to disconnect the Swept laser\n",
    "# SweeptLaser.Set_wavelength(1550) #units are in nm\n",
    "# SweeptLaser.Set_PowerLevel(0.5) #units are in mW\n",
    "\n"
   ]
  },
  {
   "cell_type": "markdown",
   "metadata": {},
   "source": [
    "# OSA"
   ]
  },
  {
   "cell_type": "code",
   "execution_count": null,
   "metadata": {},
   "outputs": [],
   "source": [
    "OSA=OSAlib.OSA_Yoko('GPIB0::1::INSTR')\n",
    "# call del OSA to disconnect the OSA\n",
    "# OSA.Initiate_Sweep(\"AUTO\")\n",
    "# Get some data from the OSA. A inital Sweep should be run on AUTO i.e. OSA.Initiate_Sweep(\"AUTO\")\n",
    "# so that all the properties of the OSA are set up automatically\n",
    "# Wavelength,PowerSpectum=OSA.Get_data(TraceChannel=\"TRA\",PowerDensityOutput=0,SweepMode=\"SINGle\",Plotdata=True,)\n"
   ]
  },
  {
   "cell_type": "markdown",
   "metadata": {},
   "source": [
    "# Time Tagger"
   ]
  },
  {
   "cell_type": "code",
   "execution_count": null,
   "metadata": {},
   "outputs": [],
   "source": [
    "TimeTagger.freeTimeTagger(tagger)"
   ]
  },
  {
   "cell_type": "code",
   "execution_count": null,
   "metadata": {},
   "outputs": [],
   "source": [
    "tagger = TimeTagger.createTimeTagger()"
   ]
  },
  {
   "cell_type": "markdown",
   "metadata": {},
   "source": [
    "## Workout the delays you need to change "
   ]
  },
  {
   "cell_type": "code",
   "execution_count": null,
   "metadata": {},
   "outputs": [],
   "source": [
    "tagger.setInputDelay(1, 0)\n",
    "tagger.setInputDelay(2, 9850) #ps\n",
    "# tagger.setInputDelay(3, 0)\n",
    "# tagger.setInputDelay(4, 0)\n",
    "\n",
    "CountTime=60\n",
    "# timeData,CorrData, CorrDataNorm=  TimetaggerFunc.getCorrelations(tagger,measurementChannels=[1,2],\n",
    "#                                                                  binWidth=200,\n",
    "#                                                                  binNum=201,\n",
    "#                                                                  countingTime=CountTime,\n",
    "#                                                                  PlotResutls=True)\n",
    "\n",
    "Coincid_Data,timeData,CorrData, CorrDataNorm = TimetaggerFunc.getCoincidencesAndCorrelations(tagger,measurementChannels=[1,2],\n",
    "                                                                binWidth=50,\n",
    "                                                                binNum=500,\n",
    "                                                                countingTime=CountTime,\n",
    "                                                            PlotResutls=True)\n",
    "\n",
    "# If you want to get the time delay you can use either of the lines below\n",
    "AvgTimeDelay_0,PeakTimeDelay_0 = TimetaggerFunc.CalculateTimeDelay(timeData,CorrDataNorm)\n",
    "print(PeakTimeDelay_0)\n",
    "\n",
    "# NOTE there is kind of a funciton that can also work out the best trigger level but it doesnt really do to much 0.5 seems good\n",
    "tagger.setTriggerLevel(1, 0.35)\n",
    "tagger.setTriggerLevel(2, 0.35)\n"
   ]
  },
  {
   "cell_type": "markdown",
   "metadata": {},
   "source": [
    "# Do Experiment"
   ]
  },
  {
   "cell_type": "markdown",
   "metadata": {},
   "source": [
    "### Setup the workspace variables"
   ]
  },
  {
   "cell_type": "code",
   "execution_count": null,
   "metadata": {},
   "outputs": [],
   "source": [
    "PowerLevelCount=10\n",
    "PowerLevelMin=12\n",
    "PowerLevelMax=40\n",
    "\n",
    "# power arrays\n",
    "PowerLevelSet_arr=np.linspace(PowerLevelMin,PowerLevelMax,PowerLevelCount)\n",
    "PowerLevelAct_laser_arr=np.zeros((PowerLevelCount))\n",
    "PowerLevelAct_afterChip_arr=np.zeros((PowerLevelCount))\n",
    "PowerLevelAct_beforeChip_arr=np.zeros((PowerLevelCount))\n",
    "\n",
    "\n",
    "# tagger props\n",
    "CountTime=60 #seconds\n",
    "MeasChannels=[1,2]\n",
    "binNumb=500\n",
    "binWidth_coin=50# ps\n",
    "timeData=np.zeros((PowerLevelCount,binNumb))\n",
    "CorrData=np.zeros((PowerLevelCount,binNumb))\n",
    "CorrDataNorm=np.zeros((PowerLevelCount,binNumb))\n"
   ]
  },
  {
   "cell_type": "markdown",
   "metadata": {},
   "source": [
    "### Run loop thorugh power measuremnets"
   ]
  },
  {
   "cell_type": "code",
   "execution_count": null,
   "metadata": {},
   "outputs": [],
   "source": [
    "PowerLevelSet_arr"
   ]
  },
  {
   "cell_type": "code",
   "execution_count": null,
   "metadata": {},
   "outputs": [],
   "source": [
    "tagger.setInputDelay(1, 0)\n",
    "tagger.setInputDelay(2,9850)\n",
    "\n",
    "Coincid_Data_all=[]\n",
    "\n",
    "for i in range(PowerLevelCount):\n",
    "    PowerLevelAct_laser_arr[i]=NKTlaser.Set_Power(PowerLevelSet_arr[i])\n",
    "    PowerLevelAct_beforeChip_arr[i]=pwrMeter_beforeChip.GetPower()\n",
    "    PowerLevelAct_afterChip_arr[i]=pwrMeter_afterChip.GetPower()\n",
    "    \n",
    "    # get all the time tagger data\n",
    "    # timeData[i,:],CorrData[i,:], CorrDataNorm[i,:] = TimetaggerFunc.getCorrelations(tagger,measurementChannels=MeasChannels,\n",
    "    #                                                              binWidth=binWidth_corr,\n",
    "    #                                                              binNum=binNumb,\n",
    "    #                                                              countingTime=CountTime,\n",
    "    #                                                              PlotResutls=False)\n",
    "    # Coincid_Data = TimetaggerFunc.getCoincidences(tagger,measurementChannels=MeasChannels,\n",
    "    #                                                              binWidth=binWidth_coin,\n",
    "    #                                                              countingTime=CountTime)\n",
    "\n",
    "    # For first power value we find time delay then set that for subsequent measurements\n",
    "    if i == 0:\n",
    "        Coincid_Data_delay,timeData_delay,CorrData_delay, CorrDataNorm_delay = TimetaggerFunc.getCoincidencesAndCorrelations(tagger,measurementChannels=MeasChannels,\n",
    "                                                                 binWidth=50,\n",
    "                                                                 binNum=500,\n",
    "                                                                 countingTime=60,\n",
    "                                                                PlotResutls=True)\n",
    "        \n",
    "        # If you want to get the time delay you can use either of the lines below\n",
    "        AvgTimeDelay_0,PeakTimeDelay_0 = TimetaggerFunc.CalculateTimeDelay(timeData_delay,CorrDataNorm_delay)\n",
    "        print(f\"Peak Delay: {PeakTimeDelay_0} ps\")\n",
    "\n",
    "    #tagger.setInputDelay(2, PeakTimeDelay_0)\n",
    "\n",
    "    Coincid_Data,timeData[i,:],CorrData[i,:], CorrDataNorm[i,:] = TimetaggerFunc.getCoincidencesAndCorrelations(tagger,measurementChannels=MeasChannels,\n",
    "                                                                 binWidth=binWidth_coin,\n",
    "                                                                 binNum=binNumb,\n",
    "                                                                 countingTime=CountTime,\n",
    "                                                                PlotResutls=True)\n",
    "    Coincid_Data_all.append(Coincid_Data)\n",
    "    "
   ]
  },
  {
   "cell_type": "code",
   "execution_count": null,
   "metadata": {},
   "outputs": [],
   "source": [
    "# print(PowerLevelAct_laser_arr)\n",
    "# print(PowerLevelAct_beforeChip_arr)\n",
    "# print(PowerLevelAct_afterChip_arr)\n",
    "\n",
    "onchip_pump_factor = 0.06/0.01 #(grating efficency / 99:1 splitter) \n",
    "PowerLevelAct_onChip_arr =PowerLevelAct_beforeChip_arr * onchip_pump_factor\n",
    "\n",
    "channel1_counts = np.array([r.channel1_counts for r in Coincid_Data_all])\n",
    "channel2_counts = np.array([r.channel2_counts for r in Coincid_Data_all])\n",
    "coincidences = np.array([r.coincidences for r in Coincid_Data_all])\n",
    "\n",
    "channel1_rate = np.array([r.channel1_rate for r in Coincid_Data_all])\n",
    "channel2_rate = np.array([r.channel2_rate for r in Coincid_Data_all])\n",
    "coincidence_rate = np.array([r.coincidence_rate for r in Coincid_Data_all])\n",
    "accidental_rate = np.array([r.accidental_rate for r in Coincid_Data_all])\n",
    "\n",
    "print(coincidences/CountTime)\n",
    "print(accidental_rate)\n",
    "\n",
    "contrast_CAR = np.array([r.contrast_CAR for r in Coincid_Data_all])\n",
    "print(contrast_CAR)\n",
    "print(((coincidences/CountTime)/accidental_rate))\n",
    "\n",
    "fig, ax = plt.subplots(1,4, figsize=(15,5))\n",
    "ax[0].plot(PowerLevelAct_onChip_arr*1e+6,contrast_CAR, marker='o')\n",
    "ax[0].plot(PowerLevelAct_onChip_arr*1e+6,((coincidences/CountTime)/accidental_rate), marker='o')\n",
    "ax[0].set_title('CAR')\n",
    "\n",
    "ax[1].plot(PowerLevelAct_onChip_arr*1e+6,coincidence_rate, marker='o')\n",
    "ax[1].set_title('Coincidence Rate (coinc/s)')\n",
    "\n",
    "ax[2].plot(PowerLevelAct_onChip_arr*1e+6,accidental_rate, marker='o')\n",
    "ax[2].set_title('Accidentals Rate (cts/s)')\n",
    "\n",
    "ax[3].plot(PowerLevelAct_onChip_arr*1e+6,channel1_rate*1e-3, marker='o')\n",
    "ax[3].plot(PowerLevelAct_onChip_arr*1e+6,channel2_rate*1e-3, marker='o')\n",
    "ax[3].set_title('Singles rate (kcts/s)')\n",
    "fig.supxlabel('On-Chip Pump Power (uW)')\n",
    "plt.show()\n"
   ]
  },
  {
   "cell_type": "code",
   "execution_count": null,
   "metadata": {},
   "outputs": [],
   "source": [
    "## Save data\n",
    "17.46666667/0.09904959\n",
    "\n",
    "fig, ax = plt.subplots()\n",
    "for i in range(1,PowerLevelCount):\n",
    "\n",
    "    ax.plot(timeData[i,:], CorrData[i,:], marker='o')\n",
    "plt.show()\n",
    "\n",
    "Ncc = np.empty(PowerLevelCount)\n",
    "Ncc_index = np.empty(PowerLevelCount)\n",
    "Nacc = np.empty(PowerLevelCount)\n",
    "CAR = np.empty(PowerLevelCount)\n",
    "\n",
    "for i, power in enumerate(PowerLevelSet_arr):\n",
    "        print(f\"{i}, {power}\")\n",
    "        Ncc[i] = CorrData[i,:].max()\n",
    "        Ncc_index[i] = CorrData[i,:].argmax()\n",
    "        print(f\"Coincidence counts = {Ncc[i]} at index {Ncc_index[i]}\")\n",
    "\n",
    "        Nacc[i] = (CorrData[i,:int(Ncc_index[i])-2].mean() + CorrData[i,int(Ncc_index[i])+2:].mean())/2\n",
    "        print(f\"Avg Accidental counts = {Nacc[i]}\")\n",
    "\n",
    "        CAR[i] = (Ncc[i] - Nacc[i])/Nacc[i]\n",
    "\n",
    "        print(f\"CAR = {CAR[i]}\")\n",
    "\n",
    "\n",
    "fig, ax = plt.subplots(1,3, figsize=(15,5))\n",
    "ax[0].plot(PowerLevelAct_onChip_arr*1e+6,CAR, marker='o')\n",
    "ax[0].set_title('CAR')\n",
    "\n",
    "ax[1].plot(PowerLevelAct_onChip_arr*1e+6,Ncc, marker='o')\n",
    "ax[1].set_title('Coincidences')\n",
    "\n",
    "ax[2].plot(PowerLevelAct_onChip_arr*1e+6,Nacc, marker='o')\n",
    "ax[2].set_title('Accidentals')\n",
    "fig.supxlabel('On-Chip Pump Power (uW)')\n",
    "\n",
    "plt.show()"
   ]
  },
  {
   "cell_type": "code",
   "execution_count": null,
   "metadata": {},
   "outputs": [],
   "source": [
    "# import matplotlib.pyplot as plt\n",
    "\n",
    "# for i in range(PowerLevelCount):\n",
    "#     fig, ax = plt.subplots(figsize=(6, 4))\n",
    "#     ax.plot(timeData[i, :], CorrData[i, :], marker='o')\n",
    "#     ax.set_title(f'Correlation at Power Index {i} ({PowerLevelSet_arr[i]:.1f} mW)')\n",
    "#     ax.set_xlabel(\"Time Delay (ps)\")\n",
    "#     ax.set_ylabel(\"Coincidence Counts / Bin\")\n",
    "#     ax.grid(True)\n",
    "#     plt.tight_layout()\n",
    "#     plt.show()\n"
   ]
  },
  {
   "cell_type": "markdown",
   "metadata": {},
   "source": [
    "Disconnect the time tagger connection from the ode"
   ]
  },
  {
   "cell_type": "code",
   "execution_count": null,
   "metadata": {},
   "outputs": [],
   "source": [
    "from TimeTagger import createTimeTagger, freeTimeTagger\n",
    "import gc\n",
    "\n",
    "tagger = createTimeTagger()\n",
    "\n",
    "# Do your measurements...\n",
    "\n",
    "# Properly release the device:\n",
    "freeTimeTagger(tagger)\n",
    "del tagger\n",
    "gc.collect()"
   ]
  },
  {
   "cell_type": "markdown",
   "metadata": {},
   "source": [
    "To save the data in npz file for post processing"
   ]
  },
  {
   "cell_type": "code",
   "execution_count": null,
   "metadata": {},
   "outputs": [],
   "source": [
    "import os\n",
    "import numpy as np\n",
    "\n",
    "# Best practice: raw string and no trailing slash\n",
    "pathname = r\"R:\\Experiment_Data\\TimeTagger\\TK_015_v3_multimode_sources_ZEP_reflow\\SourceCharacterisation_CAR\"\n",
    "filename =\"MUX-5-W-0.75-SW-2-TE1-TE1_binWidth50ps_binNumber500_duration60s_DWDM-CH21-CH47.npz\"\n",
    "save_path = os.path.join(pathname, filename)\n",
    "\n",
    "# Fixed parameters (fill in if needed from your code)\n",
    "InputDelay_Ch1 = 0\n",
    "InputDelay_Ch2 = 9850\n",
    "TriggerLevel_Ch1 = 0.35\n",
    "TriggerLevel_Ch2 = 0.35\n",
    "binWidth = binWidth_coin  # 50 ps\n",
    "binNumber = binNumb       # 500\n",
    "CountTime = CountTime     # 30 s\n",
    "\n",
    "onchip_pump_factor = 0.06/0.01 #(grating efficency / 99:1 splitter) \n",
    "\n",
    "# Convert Coincid_Data to dict before saving\n",
    "coincid_data_dict = Coincid_Data.__dict__  # or ._asdict() if it's a namedtuple\n",
    "# Save .npz file\n",
    "try:\n",
    "    np.savez(save_path,\n",
    "             # measurement datat\n",
    "             InputDelay_Ch1=InputDelay_Ch1,\n",
    "             InputDelay_Ch2=InputDelay_Ch2,\n",
    "             TriggerLevel_Ch1=TriggerLevel_Ch1,\n",
    "             TriggerLevel_Ch2=TriggerLevel_Ch2,\n",
    "             CountTime=CountTime,\n",
    "             binWidth=binWidth,\n",
    "             binNumber=binNumber,\n",
    "             AvgTimeDelay_0=AvgTimeDelay_0,\n",
    "             PeakTimeDelay_0=PeakTimeDelay_0,\n",
    "\n",
    "             # Power arrays\n",
    "             PowerLevelSet_arr=PowerLevelSet_arr,\n",
    "             PowerLevelAct_laser_arr=PowerLevelAct_laser_arr,\n",
    "             PowerLevelAct_beforeChip_arr=PowerLevelAct_beforeChip_arr,\n",
    "             PowerLevelAct_afterChip_arr=PowerLevelAct_afterChip_arr,\n",
    "             PowerLevelAct_onChip_arr =PowerLevelAct_beforeChip_arr * onchip_pump_factor,\n",
    "\n",
    "             # Time tagger results\n",
    "            \n",
    "             timeData=timeData,\n",
    "             CorrData=CorrData,\n",
    "             CorrDataNorm=CorrDataNorm,\n",
    "             Coincid_Data=coincid_data_dict,\n",
    "\n",
    "             # Coincidence analysis  # Daniel's method\n",
    "             Ncc=Ncc,\n",
    "             Nacc=Nacc,\n",
    "             Ncc_index=Ncc_index,\n",
    "             CAR=CAR,\n",
    "            \n",
    "             # Single-channel stats   # Dan's method\n",
    "             channel_1_counts=np.array([r.channel1_counts for r in Coincid_Data_all]),\n",
    "             channel_2_counts=np.array([r.channel2_counts for r in Coincid_Data_all]),\n",
    "             channel_1_rate=np.array([r.channel1_rate for r in Coincid_Data_all]),\n",
    "             channel_2_rate=np.array([r.channel2_rate for r in Coincid_Data_all]),\n",
    "             coincidences = np.array([r.coincidences for r in Coincid_Data_all]),\n",
    "             coincidence_rate = np.array([r.coincidence_rate for r in Coincid_Data_all]),\n",
    "             accidental_rate = np.array([r.accidental_rate for r in Coincid_Data_all]),\n",
    "             contrast_CAR = np.array([r.contrast_CAR for r in Coincid_Data_all]),\n",
    "             )\n",
    "    print(f\"✅ Data successfully saved to:\\n{save_path}\")\n",
    "except Exception as e:\n",
    "    print(f\"❌ Failed to save .npz file: {e}\")\n"
   ]
  },
  {
   "cell_type": "code",
   "execution_count": null,
   "metadata": {},
   "outputs": [],
   "source": []
  },
  {
   "cell_type": "code",
   "execution_count": null,
   "metadata": {},
   "outputs": [],
   "source": []
  }
 ],
 "metadata": {
  "kernelspec": {
   "display_name": "base",
   "language": "python",
   "name": "python3"
  },
  "language_info": {
   "codemirror_mode": {
    "name": "ipython",
    "version": 3
   },
   "file_extension": ".py",
   "mimetype": "text/x-python",
   "name": "python",
   "nbconvert_exporter": "python",
   "pygments_lexer": "ipython3",
   "version": "3.12.7"
  }
 },
 "nbformat": 4,
 "nbformat_minor": 2
}
